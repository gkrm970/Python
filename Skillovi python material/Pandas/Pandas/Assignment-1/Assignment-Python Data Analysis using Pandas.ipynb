{
 "cells": [
  {
   "cell_type": "code",
   "execution_count": null,
   "metadata": {},
   "outputs": [],
   "source": [
    "import pandas as pd\n",
    "import numpy as np"
   ]
  },
  {
   "cell_type": "markdown",
   "metadata": {},
   "source": [
    "## Practice Problems"
   ]
  },
  {
   "cell_type": "code",
   "execution_count": null,
   "metadata": {},
   "outputs": [],
   "source": [
    "#load iris data \n",
    "iris = pd.read_csv('')\n",
    "iris.head()"
   ]
  },
  {
   "cell_type": "markdown",
   "metadata": {},
   "source": [
    "### View the data"
   ]
  },
  {
   "cell_type": "code",
   "execution_count": null,
   "metadata": {},
   "outputs": [],
   "source": [
    "# Qn 1. How many rows does the dataframe contain?\n",
    "\n",
    "# Qn 2. How many rows that have species setosa?\n",
    "\n",
    "# Qn 3.What are the data types of the columns?\n",
    "\n",
    "# Qn 4. What all species are there in the dataset?\n"
   ]
  },
  {
   "cell_type": "markdown",
   "metadata": {},
   "source": [
    "### Indexing"
   ]
  },
  {
   "cell_type": "code",
   "execution_count": null,
   "metadata": {},
   "outputs": [],
   "source": [
    "#Qn 5. if sepal_length is greater than 5, multiply it by 100\n",
    "\n",
    "\n",
    "\n",
    "#Qn 6. Find the sum of sepal_length for all the values where species is sentosa\n",
    "\n",
    "#Qn 7. Find mean petal_length for versicolor\n",
    "\n",
    "#Qn 8. Find maximum sepal_width for virginica\n",
    "\n",
    "# Qn 9. Add a new column to the iris dataframe called 'sepal' which should be 'wide' if sepal_width is greater than 3,\n",
    "# else narrow.\n"
   ]
  },
  {
   "cell_type": "markdown",
   "metadata": {},
   "source": [
    "### Missing Data"
   ]
  },
  {
   "cell_type": "code",
   "execution_count": null,
   "metadata": {},
   "outputs": [],
   "source": [
    "# Qn 10. Fill the missing values with 0\n",
    "\n",
    "# Qn 11. Fill the missing values only in sepal_length with 0\n",
    "\n",
    "# Qn 12. Fill the missing values with non-NaN previous values\n",
    "\n",
    "# Qn 13. Fill the missing values in all columns with sepal with non-NaN previous values and all columns with \n",
    "# petal with next non-NaN value \n",
    "\n",
    "# Qn 14. Replace species names using dictionary.\n",
    "d = {'setosa': 'se', 'virginica': 'vi', 'versicolor': 've'}\n",
    "\n",
    "# Qn 15. Set the species column as index\n"
   ]
  },
  {
   "cell_type": "markdown",
   "metadata": {},
   "source": [
    "### Operations"
   ]
  },
  {
   "cell_type": "code",
   "execution_count": null,
   "metadata": {},
   "outputs": [],
   "source": [
    "iris = pd.read_csv('')\n",
    "# Qn 16. Find mean sepal length\n",
    "\n",
    "# Qn 17. Find minimum petal width\n",
    "\n",
    "# Qn 18. Add a row mean at the end of the dataframe with mean values for each column\n",
    "\n",
    "# Qn 19. Add column sum with sum of both widths and lengths\n",
    "\n",
    "iris = pd.read_csv('')\n",
    "# Qn 20. Find sum of sepal_length, sepal_width, petal_length, petal_width by species\n",
    "\n",
    "# Qn 21. Find sum of sepal_length and mean petal_length\n",
    "\n",
    "# Qn 22. Write a function that applies different multipliers to the column sepal_length based on species.\n",
    "# If species is setosa, sepal_length gets multiplied by 2, if it is virginica, multiply by 3, and if it is versicolor,\n",
    "# multiply by 5. Return the result in a new column New_sepal_length.\n",
    "\n"
   ]
  }
 ],
 "metadata": {
  "kernelspec": {
   "display_name": "Python 3",
   "language": "python",
   "name": "python3"
  },
  "language_info": {
   "codemirror_mode": {
    "name": "ipython",
    "version": 3
   },
   "file_extension": ".py",
   "mimetype": "text/x-python",
   "name": "python",
   "nbconvert_exporter": "python",
   "pygments_lexer": "ipython3",
   "version": "3.8.5"
  }
 },
 "nbformat": 4,
 "nbformat_minor": 2
}
