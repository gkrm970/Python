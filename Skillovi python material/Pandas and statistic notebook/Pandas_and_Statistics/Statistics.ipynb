{
 "cells": [
  {
   "cell_type": "code",
   "execution_count": 2,
   "metadata": {},
   "outputs": [],
   "source": [
    "import pandas as pd\n",
    "from matplotlib import pyplot as plt"
   ]
  },
  {
   "cell_type": "markdown",
   "metadata": {},
   "source": [
    "# Introduction"
   ]
  },
  {
   "cell_type": "markdown",
   "metadata": {},
   "source": [
    "### Why Statistics\n",
    "<ol>\n",
    "    <li> Statisitcs is the field of mathematics that concerns with <b>data collection, analysis and interpretation</b> and builds on top of concepts of probability.\n",
    "    <br></br></li>\n",
    "    <br></br>\n",
    "    <li> Statistics help you in 3 key aspects of data science: <b>optimised model selection, data selection and model evaluation</b>.\n",
    "    <br></br></li>\n",
    "     <br></br>\n",
    "    <li> There are two main fields of statistics, i.e. <b>descriptive statistics and inferential statistics</b>.\n",
    "    <br></br></li>\n",
    "    <br></br>\n",
    "    <li><b> Descriptive Statistics</b>: Quantitatively describes summary statistics of data. Example: minimum, maximum, average, etc.\n",
    "    <br></br></li>\n",
    "    <br></br>\n",
    "    <li><b> Inferential Statistics</b>: Quantitatively infers properties of population from a small sample. It is the process of learning data distribution and features of population from a sample.\n",
    "    <br></br></li>\n",
    "    <br></br>\n",
    "    <li> Before going into details to each of the above, let's discuss first regarding the <b> data sampling </b> and <b>type of data</b>.\n",
    "    </ol>"
   ]
  },
  {
   "cell_type": "markdown",
   "metadata": {},
   "source": [
    "# Sampling"
   ]
  },
  {
   "cell_type": "markdown",
   "metadata": {},
   "source": [
    "Collecting and analysing the entire dataset (called population) is not possible all the time. Sampling is the process of selecting data to understand properties of population.\n",
    "\n",
    "Understand the underlying sampling process also helps in generalising sample results to population. There are majorly three types of sampling: \n",
    "\n",
    "\n",
    "<ol>\n",
    "    <li><b>Random Sampling</b>: Each element of the data has an equal probability of selection. It is the best method to mimic population distribution but suffers from under/over representation if the same is present in population.\n",
    "    <br></br></li>\n",
    "    <br></br>\n",
    "    <li><b>Systematic Sampling</b>: We order the population in a random order, take a random data point and select every $k^{th}$ element from the population, where $k = \\frac{populationSize}{sampleSize}$. Similar to random sampling but in a systematic way.\n",
    "    <br></br></li>\n",
    "    <br></br>\n",
    "    <li><b>Stratified Sampling</b>: When the population has a number of distinct categories or stratas, each stratum can be sampled as an independent sub-population, out of which individual elements can be randomly selected. It is one of the most optimal method but suffers from time complexity.\n",
    "    <br></br></li>\n",
    "    <br></br>\n",
    "    </ol>\n",
    "    \n",
    "Sampling is like drawing a red ball from a bag containing red and blue balls. We can do sampling <b> with and without replacement</b>."
   ]
  },
  {
   "cell_type": "markdown",
   "metadata": {},
   "source": [
    "# Types of structured data"
   ]
  },
  {
   "cell_type": "markdown",
   "metadata": {},
   "source": [
    "### Categorical Variables\n",
    "\n",
    "<ol>\n",
    "    <li><b>Nominal Variables</b>: Variables that have two or more categories, but the categories <b>cannot be ordered</b>. Example: Zip code, blood type, gender, etc. \n",
    "        <br></br></li>\n",
    "        <br></br>\n",
    "    <li><b>Ordinal Variables</b>:  Variables that have two or more categories and the categories <b>can be ordered</b>. Example: educational level, customer rating, economic status, etc. \n",
    "        <br></br></li>\n",
    "        <br></br>\n",
    "    <li><b>Dichotomous Variables</b>: Variables that have <b>only two categories</b> ordered or unordered. Example: Gender, Age under 30?\n",
    "        <br></br></li>\n",
    "        <br></br>\n",
    "   </ol>"
   ]
  },
  {
   "cell_type": "markdown",
   "metadata": {},
   "source": [
    "### Continuous or Quantitative Variables\n",
    "<ol>\n",
    "    <li><b>Interval Variables</b>: Variables that can be measured along a continuum and have a numerical value. Example: temperature measured in degress celsius, credit score, etc.  \n",
    "        <br></br></li>\n",
    "        <br></br>\n",
    "    <li><b>Ratio Variables</b>: Interval variables with the added condition that 0 (zero) of the measurement indicates that there is none of that variable. Example temperature measured in degress kelvin, distance, height, weight, etc.\n",
    "        <br></br></li>\n",
    "        <br></br>\n",
    "   </ol>\n",
    "For interval variable, you can only compare the difference between measurements and not the ratio of measurements. \n",
    "\n",
    "\n",
    "For ratio variable you can use the difference between measurements as well as the ratio of measurements. Example: A distance of ten metres is twice the distance of 5 metres.\n"
   ]
  },
  {
   "cell_type": "markdown",
   "metadata": {},
   "source": [
    "# Types of Data Analysis"
   ]
  },
  {
   "cell_type": "markdown",
   "metadata": {},
   "source": [
    "<ol>\n",
    "    <li><b>Univariate Analysis</b>: Univariate analysis is the simplest form of data analysis where the data being analyzed contains only one variable. Example: Analysis of stock price trend, etc.\n",
    "    <br></br></li>\n",
    "    <br></br>\n",
    "    <li><b>Bivariate Analysis</b>: Bivariate analysis is used to analyse relationship between two different variables. Example: Scatter plot to analyse correlation, etc.\n",
    "    <br></br></li> \n",
    "    <br></br>\n",
    "    <li><b>Multivariate Analysis</b>: Multivariate analysis is used to analyse three or more variables. Example: Data clustering.\n",
    "    </ol>\n",
    "    \n",
    "Majority of the descriptive and inferrential stasitics will deal with univariate analysis. "
   ]
  },
  {
   "cell_type": "markdown",
   "metadata": {},
   "source": [
    "# US Housing Dataset"
   ]
  },
  {
   "cell_type": "code",
   "execution_count": 3,
   "metadata": {},
   "outputs": [
    {
     "data": {
      "text/plain": [
       "Index(['id', 'date', 'price', 'bedrooms', 'bathrooms', 'sqft_living',\n",
       "       'sqft_lot', 'floors', 'waterfront', 'view', 'condition', 'grade',\n",
       "       'sqft_above', 'sqft_basement', 'yr_built', 'yr_renovated', 'zipcode',\n",
       "       'lat', 'long', 'sqft_living15', 'sqft_lot15'],\n",
       "      dtype='object')"
      ]
     },
     "execution_count": 3,
     "metadata": {},
     "output_type": "execute_result"
    }
   ],
   "source": [
    "df = pd.read_csv('House_data 2.csv')\n",
    "df.columns"
   ]
  },
  {
   "cell_type": "code",
   "execution_count": 4,
   "metadata": {},
   "outputs": [
    {
     "data": {
      "text/html": [
       "<div>\n",
       "<style scoped>\n",
       "    .dataframe tbody tr th:only-of-type {\n",
       "        vertical-align: middle;\n",
       "    }\n",
       "\n",
       "    .dataframe tbody tr th {\n",
       "        vertical-align: top;\n",
       "    }\n",
       "\n",
       "    .dataframe thead th {\n",
       "        text-align: right;\n",
       "    }\n",
       "</style>\n",
       "<table border=\"1\" class=\"dataframe\">\n",
       "  <thead>\n",
       "    <tr style=\"text-align: right;\">\n",
       "      <th></th>\n",
       "      <th>id</th>\n",
       "      <th>date</th>\n",
       "      <th>price</th>\n",
       "      <th>bedrooms</th>\n",
       "      <th>bathrooms</th>\n",
       "      <th>sqft_living</th>\n",
       "      <th>sqft_lot</th>\n",
       "      <th>floors</th>\n",
       "      <th>waterfront</th>\n",
       "      <th>view</th>\n",
       "      <th>...</th>\n",
       "      <th>grade</th>\n",
       "      <th>sqft_above</th>\n",
       "      <th>sqft_basement</th>\n",
       "      <th>yr_built</th>\n",
       "      <th>yr_renovated</th>\n",
       "      <th>zipcode</th>\n",
       "      <th>lat</th>\n",
       "      <th>long</th>\n",
       "      <th>sqft_living15</th>\n",
       "      <th>sqft_lot15</th>\n",
       "    </tr>\n",
       "  </thead>\n",
       "  <tbody>\n",
       "    <tr>\n",
       "      <th>0</th>\n",
       "      <td>7129300520</td>\n",
       "      <td>20141013T000000</td>\n",
       "      <td>221900.0</td>\n",
       "      <td>3</td>\n",
       "      <td>1.00</td>\n",
       "      <td>1180</td>\n",
       "      <td>5650</td>\n",
       "      <td>1.0</td>\n",
       "      <td>0</td>\n",
       "      <td>0</td>\n",
       "      <td>...</td>\n",
       "      <td>7</td>\n",
       "      <td>1180</td>\n",
       "      <td>0</td>\n",
       "      <td>1955</td>\n",
       "      <td>0</td>\n",
       "      <td>98178</td>\n",
       "      <td>47.5112</td>\n",
       "      <td>-122.257</td>\n",
       "      <td>1340</td>\n",
       "      <td>5650</td>\n",
       "    </tr>\n",
       "    <tr>\n",
       "      <th>1</th>\n",
       "      <td>6414100192</td>\n",
       "      <td>20141209T000000</td>\n",
       "      <td>538000.0</td>\n",
       "      <td>3</td>\n",
       "      <td>2.25</td>\n",
       "      <td>2570</td>\n",
       "      <td>7242</td>\n",
       "      <td>2.0</td>\n",
       "      <td>0</td>\n",
       "      <td>0</td>\n",
       "      <td>...</td>\n",
       "      <td>7</td>\n",
       "      <td>2170</td>\n",
       "      <td>400</td>\n",
       "      <td>1951</td>\n",
       "      <td>1991</td>\n",
       "      <td>98125</td>\n",
       "      <td>47.7210</td>\n",
       "      <td>-122.319</td>\n",
       "      <td>1690</td>\n",
       "      <td>7639</td>\n",
       "    </tr>\n",
       "    <tr>\n",
       "      <th>2</th>\n",
       "      <td>5631500400</td>\n",
       "      <td>20150225T000000</td>\n",
       "      <td>180000.0</td>\n",
       "      <td>2</td>\n",
       "      <td>1.00</td>\n",
       "      <td>770</td>\n",
       "      <td>10000</td>\n",
       "      <td>1.0</td>\n",
       "      <td>0</td>\n",
       "      <td>0</td>\n",
       "      <td>...</td>\n",
       "      <td>6</td>\n",
       "      <td>770</td>\n",
       "      <td>0</td>\n",
       "      <td>1933</td>\n",
       "      <td>0</td>\n",
       "      <td>98028</td>\n",
       "      <td>47.7379</td>\n",
       "      <td>-122.233</td>\n",
       "      <td>2720</td>\n",
       "      <td>8062</td>\n",
       "    </tr>\n",
       "    <tr>\n",
       "      <th>3</th>\n",
       "      <td>2487200875</td>\n",
       "      <td>20141209T000000</td>\n",
       "      <td>604000.0</td>\n",
       "      <td>4</td>\n",
       "      <td>3.00</td>\n",
       "      <td>1960</td>\n",
       "      <td>5000</td>\n",
       "      <td>1.0</td>\n",
       "      <td>0</td>\n",
       "      <td>0</td>\n",
       "      <td>...</td>\n",
       "      <td>7</td>\n",
       "      <td>1050</td>\n",
       "      <td>910</td>\n",
       "      <td>1965</td>\n",
       "      <td>0</td>\n",
       "      <td>98136</td>\n",
       "      <td>47.5208</td>\n",
       "      <td>-122.393</td>\n",
       "      <td>1360</td>\n",
       "      <td>5000</td>\n",
       "    </tr>\n",
       "    <tr>\n",
       "      <th>4</th>\n",
       "      <td>1954400510</td>\n",
       "      <td>20150218T000000</td>\n",
       "      <td>510000.0</td>\n",
       "      <td>3</td>\n",
       "      <td>2.00</td>\n",
       "      <td>1680</td>\n",
       "      <td>8080</td>\n",
       "      <td>1.0</td>\n",
       "      <td>0</td>\n",
       "      <td>0</td>\n",
       "      <td>...</td>\n",
       "      <td>8</td>\n",
       "      <td>1680</td>\n",
       "      <td>0</td>\n",
       "      <td>1987</td>\n",
       "      <td>0</td>\n",
       "      <td>98074</td>\n",
       "      <td>47.6168</td>\n",
       "      <td>-122.045</td>\n",
       "      <td>1800</td>\n",
       "      <td>7503</td>\n",
       "    </tr>\n",
       "  </tbody>\n",
       "</table>\n",
       "<p>5 rows × 21 columns</p>\n",
       "</div>"
      ],
      "text/plain": [
       "           id             date     price  bedrooms  bathrooms  sqft_living  \\\n",
       "0  7129300520  20141013T000000  221900.0         3       1.00         1180   \n",
       "1  6414100192  20141209T000000  538000.0         3       2.25         2570   \n",
       "2  5631500400  20150225T000000  180000.0         2       1.00          770   \n",
       "3  2487200875  20141209T000000  604000.0         4       3.00         1960   \n",
       "4  1954400510  20150218T000000  510000.0         3       2.00         1680   \n",
       "\n",
       "   sqft_lot  floors  waterfront  view  ...  grade  sqft_above  sqft_basement  \\\n",
       "0      5650     1.0           0     0  ...      7        1180              0   \n",
       "1      7242     2.0           0     0  ...      7        2170            400   \n",
       "2     10000     1.0           0     0  ...      6         770              0   \n",
       "3      5000     1.0           0     0  ...      7        1050            910   \n",
       "4      8080     1.0           0     0  ...      8        1680              0   \n",
       "\n",
       "   yr_built  yr_renovated  zipcode      lat     long  sqft_living15  \\\n",
       "0      1955             0    98178  47.5112 -122.257           1340   \n",
       "1      1951          1991    98125  47.7210 -122.319           1690   \n",
       "2      1933             0    98028  47.7379 -122.233           2720   \n",
       "3      1965             0    98136  47.5208 -122.393           1360   \n",
       "4      1987             0    98074  47.6168 -122.045           1800   \n",
       "\n",
       "   sqft_lot15  \n",
       "0        5650  \n",
       "1        7639  \n",
       "2        8062  \n",
       "3        5000  \n",
       "4        7503  \n",
       "\n",
       "[5 rows x 21 columns]"
      ]
     },
     "execution_count": 4,
     "metadata": {},
     "output_type": "execute_result"
    }
   ],
   "source": [
    "df.head()"
   ]
  },
  {
   "cell_type": "markdown",
   "metadata": {},
   "source": [
    "# Descriptive statistics "
   ]
  },
  {
   "cell_type": "markdown",
   "metadata": {},
   "source": [
    "### Measures of central tendency \n",
    "\n",
    "<ol>\n",
    "    <li><b>Mean</b>: Mean is the average measurement for a set of data. \\begin{equation} \\bar{x} = \\frac{x_1 + x_2 + ... + x_n}{n} \\end{equation}\n",
    "        <br></br></li>\n",
    "        <br></br>\n",
    "    <li><b>Median</b>: Median is the middle measurement for a set of data that has been arranged in order of magnitude. For an ordered list median is calculated as:\\begin{equation} Median = x_{(n+1)/2} \\; n \\in [odd] \\\\ Median = (x_{n/2} + x_{n/2+1})/2 \\; \\; n \\in [even] \\end{equation}\n",
    "        <br></br></li>\n",
    "        <br></br>  \n",
    "    <li><b>Mode</b>: Mode is the most frequent measurement for a set of data.\n",
    "        <br></br></li>\n",
    "        \n",
    "   </ol>"
   ]
  },
  {
   "cell_type": "markdown",
   "metadata": {},
   "source": [
    "Mean is the most commonly used indicator, but if the data is skewed median is a better indicator."
   ]
  },
  {
   "cell_type": "code",
   "execution_count": 5,
   "metadata": {},
   "outputs": [],
   "source": [
    "def central_tendency(df, col_list):\n",
    "    mean_col, median_col, mode_col = [], [], []\n",
    "    for col in col_list:\n",
    "        ser = df[col]\n",
    "        mean_col.append(ser.mean())\n",
    "        median_col.append(ser.median())\n",
    "        mode_col.extend(ser.mode())        \n",
    "    return mean_col, median_col, mode_col\n",
    "\n",
    "def plot_central_tendency(df, mean_col, median_col, mode_col, col_list):\n",
    "    for i,col in enumerate(col_list):\n",
    "        print(col)\n",
    "        plt.figure(figsize = (10,10))\n",
    "        mean = mean_col[i]\n",
    "        median = median_col[i]\n",
    "        mode = mode_col[i]\n",
    "        data = df[col]\n",
    "        plt.hist(data, histtype='stepfilled', alpha=0.2)\n",
    "        plt.axvline(x=mean, label='mean={}'.format(mean), c='r')\n",
    "        plt.axvline(x=median, label='median={}'.format(median), c='g')\n",
    "        plt.axvline(x=mode, label='mode={}'.format(mode), c='k')\n",
    "        plt.legend(loc=\"upper right\")\n",
    "        plt.show()\n",
    "        plt.clf()\n",
    "        plt.close()\n",
    "        \n",
    "        \n"
   ]
  },
  {
   "cell_type": "code",
   "execution_count": 6,
   "metadata": {},
   "outputs": [
    {
     "name": "stdout",
     "output_type": "stream",
     "text": [
      "[3.37084162309721, 540088.1417665294] [3.0, 450000.0] [3, 350000.0, 450000.0]\n",
      "bedrooms\n"
     ]
    },
    {
     "data": {
      "image/png": "[encoded data removed]",
      "text/plain": [
       "<Figure size 720x720 with 1 Axes>"
      ]
     },
     "metadata": {
      "needs_background": "light"
     },
     "output_type": "display_data"
    },
    {
     "name": "stdout",
     "output_type": "stream",
     "text": [
      "price\n"
     ]
    },
    {
     "data": {
      "image/png": "[encoded data removed]",
      "text/plain": [
       "<Figure size 720x720 with 1 Axes>"
      ]
     },
     "metadata": {
      "needs_background": "light"
     },
     "output_type": "display_data"
    }
   ],
   "source": [
    "col_list = [ 'bedrooms', 'price']\n",
    "#col_list = ['bathrooms']\n",
    "\n",
    "mean_col, median_col, mode_col = central_tendency(df, col_list)\n",
    "\n",
    "print(mean_col, median_col, mode_col)\n",
    "\n",
    "plot_central_tendency(df, mean_col, median_col, mode_col, col_list)\n"
   ]
  },
  {
   "cell_type": "code",
   "execution_count": 7,
   "metadata": {},
   "outputs": [
    {
     "data": {
      "text/html": [
       "<div>\n",
       "<style scoped>\n",
       "    .dataframe tbody tr th:only-of-type {\n",
       "        vertical-align: middle;\n",
       "    }\n",
       "\n",
       "    .dataframe tbody tr th {\n",
       "        vertical-align: top;\n",
       "    }\n",
       "\n",
       "    .dataframe thead th {\n",
       "        text-align: right;\n",
       "    }\n",
       "</style>\n",
       "<table border=\"1\" class=\"dataframe\">\n",
       "  <thead>\n",
       "    <tr style=\"text-align: right;\">\n",
       "      <th></th>\n",
       "      <th>id</th>\n",
       "      <th>price</th>\n",
       "      <th>bedrooms</th>\n",
       "      <th>bathrooms</th>\n",
       "      <th>sqft_living</th>\n",
       "      <th>sqft_lot</th>\n",
       "      <th>floors</th>\n",
       "      <th>waterfront</th>\n",
       "      <th>view</th>\n",
       "      <th>condition</th>\n",
       "      <th>grade</th>\n",
       "      <th>sqft_above</th>\n",
       "      <th>sqft_basement</th>\n",
       "      <th>yr_built</th>\n",
       "      <th>yr_renovated</th>\n",
       "      <th>zipcode</th>\n",
       "      <th>lat</th>\n",
       "      <th>long</th>\n",
       "      <th>sqft_living15</th>\n",
       "      <th>sqft_lot15</th>\n",
       "    </tr>\n",
       "  </thead>\n",
       "  <tbody>\n",
       "    <tr>\n",
       "      <th>count</th>\n",
       "      <td>2.161300e+04</td>\n",
       "      <td>2.161300e+04</td>\n",
       "      <td>21613.000000</td>\n",
       "      <td>21613.000000</td>\n",
       "      <td>21613.000000</td>\n",
       "      <td>2.161300e+04</td>\n",
       "      <td>21613.000000</td>\n",
       "      <td>21613.000000</td>\n",
       "      <td>21613.000000</td>\n",
       "      <td>21613.000000</td>\n",
       "      <td>21613.000000</td>\n",
       "      <td>21613.000000</td>\n",
       "      <td>21613.000000</td>\n",
       "      <td>21613.000000</td>\n",
       "      <td>21613.000000</td>\n",
       "      <td>21613.000000</td>\n",
       "      <td>21613.000000</td>\n",
       "      <td>21613.000000</td>\n",
       "      <td>21613.000000</td>\n",
       "      <td>21613.000000</td>\n",
       "    </tr>\n",
       "    <tr>\n",
       "      <th>mean</th>\n",
       "      <td>4.580302e+09</td>\n",
       "      <td>5.400881e+05</td>\n",
       "      <td>3.370842</td>\n",
       "      <td>2.114757</td>\n",
       "      <td>2079.899736</td>\n",
       "      <td>1.510697e+04</td>\n",
       "      <td>1.494309</td>\n",
       "      <td>0.007542</td>\n",
       "      <td>0.234303</td>\n",
       "      <td>3.409430</td>\n",
       "      <td>7.656873</td>\n",
       "      <td>1788.390691</td>\n",
       "      <td>291.509045</td>\n",
       "      <td>1971.005136</td>\n",
       "      <td>84.402258</td>\n",
       "      <td>98077.939805</td>\n",
       "      <td>47.560053</td>\n",
       "      <td>-122.213896</td>\n",
       "      <td>1986.552492</td>\n",
       "      <td>12768.455652</td>\n",
       "    </tr>\n",
       "    <tr>\n",
       "      <th>std</th>\n",
       "      <td>2.876566e+09</td>\n",
       "      <td>3.671272e+05</td>\n",
       "      <td>0.930062</td>\n",
       "      <td>0.770163</td>\n",
       "      <td>918.440897</td>\n",
       "      <td>4.142051e+04</td>\n",
       "      <td>0.539989</td>\n",
       "      <td>0.086517</td>\n",
       "      <td>0.766318</td>\n",
       "      <td>0.650743</td>\n",
       "      <td>1.175459</td>\n",
       "      <td>828.090978</td>\n",
       "      <td>442.575043</td>\n",
       "      <td>29.373411</td>\n",
       "      <td>401.679240</td>\n",
       "      <td>53.505026</td>\n",
       "      <td>0.138564</td>\n",
       "      <td>0.140828</td>\n",
       "      <td>685.391304</td>\n",
       "      <td>27304.179631</td>\n",
       "    </tr>\n",
       "    <tr>\n",
       "      <th>min</th>\n",
       "      <td>1.000102e+06</td>\n",
       "      <td>7.500000e+04</td>\n",
       "      <td>0.000000</td>\n",
       "      <td>0.000000</td>\n",
       "      <td>290.000000</td>\n",
       "      <td>5.200000e+02</td>\n",
       "      <td>1.000000</td>\n",
       "      <td>0.000000</td>\n",
       "      <td>0.000000</td>\n",
       "      <td>1.000000</td>\n",
       "      <td>1.000000</td>\n",
       "      <td>290.000000</td>\n",
       "      <td>0.000000</td>\n",
       "      <td>1900.000000</td>\n",
       "      <td>0.000000</td>\n",
       "      <td>98001.000000</td>\n",
       "      <td>47.155900</td>\n",
       "      <td>-122.519000</td>\n",
       "      <td>399.000000</td>\n",
       "      <td>651.000000</td>\n",
       "    </tr>\n",
       "    <tr>\n",
       "      <th>25%</th>\n",
       "      <td>2.123049e+09</td>\n",
       "      <td>3.219500e+05</td>\n",
       "      <td>3.000000</td>\n",
       "      <td>1.750000</td>\n",
       "      <td>1427.000000</td>\n",
       "      <td>5.040000e+03</td>\n",
       "      <td>1.000000</td>\n",
       "      <td>0.000000</td>\n",
       "      <td>0.000000</td>\n",
       "      <td>3.000000</td>\n",
       "      <td>7.000000</td>\n",
       "      <td>1190.000000</td>\n",
       "      <td>0.000000</td>\n",
       "      <td>1951.000000</td>\n",
       "      <td>0.000000</td>\n",
       "      <td>98033.000000</td>\n",
       "      <td>47.471000</td>\n",
       "      <td>-122.328000</td>\n",
       "      <td>1490.000000</td>\n",
       "      <td>5100.000000</td>\n",
       "    </tr>\n",
       "    <tr>\n",
       "      <th>50%</th>\n",
       "      <td>3.904930e+09</td>\n",
       "      <td>4.500000e+05</td>\n",
       "      <td>3.000000</td>\n",
       "      <td>2.250000</td>\n",
       "      <td>1910.000000</td>\n",
       "      <td>7.618000e+03</td>\n",
       "      <td>1.500000</td>\n",
       "      <td>0.000000</td>\n",
       "      <td>0.000000</td>\n",
       "      <td>3.000000</td>\n",
       "      <td>7.000000</td>\n",
       "      <td>1560.000000</td>\n",
       "      <td>0.000000</td>\n",
       "      <td>1975.000000</td>\n",
       "      <td>0.000000</td>\n",
       "      <td>98065.000000</td>\n",
       "      <td>47.571800</td>\n",
       "      <td>-122.230000</td>\n",
       "      <td>1840.000000</td>\n",
       "      <td>7620.000000</td>\n",
       "    </tr>\n",
       "    <tr>\n",
       "      <th>75%</th>\n",
       "      <td>7.308900e+09</td>\n",
       "      <td>6.450000e+05</td>\n",
       "      <td>4.000000</td>\n",
       "      <td>2.500000</td>\n",
       "      <td>2550.000000</td>\n",
       "      <td>1.068800e+04</td>\n",
       "      <td>2.000000</td>\n",
       "      <td>0.000000</td>\n",
       "      <td>0.000000</td>\n",
       "      <td>4.000000</td>\n",
       "      <td>8.000000</td>\n",
       "      <td>2210.000000</td>\n",
       "      <td>560.000000</td>\n",
       "      <td>1997.000000</td>\n",
       "      <td>0.000000</td>\n",
       "      <td>98118.000000</td>\n",
       "      <td>47.678000</td>\n",
       "      <td>-122.125000</td>\n",
       "      <td>2360.000000</td>\n",
       "      <td>10083.000000</td>\n",
       "    </tr>\n",
       "    <tr>\n",
       "      <th>max</th>\n",
       "      <td>9.900000e+09</td>\n",
       "      <td>7.700000e+06</td>\n",
       "      <td>33.000000</td>\n",
       "      <td>8.000000</td>\n",
       "      <td>13540.000000</td>\n",
       "      <td>1.651359e+06</td>\n",
       "      <td>3.500000</td>\n",
       "      <td>1.000000</td>\n",
       "      <td>4.000000</td>\n",
       "      <td>5.000000</td>\n",
       "      <td>13.000000</td>\n",
       "      <td>9410.000000</td>\n",
       "      <td>4820.000000</td>\n",
       "      <td>2015.000000</td>\n",
       "      <td>2015.000000</td>\n",
       "      <td>98199.000000</td>\n",
       "      <td>47.777600</td>\n",
       "      <td>-121.315000</td>\n",
       "      <td>6210.000000</td>\n",
       "      <td>871200.000000</td>\n",
       "    </tr>\n",
       "  </tbody>\n",
       "</table>\n",
       "</div>"
      ],
      "text/plain": [
       "                 id         price      bedrooms     bathrooms   sqft_living  \\\n",
       "count  2.161300e+04  2.161300e+04  21613.000000  21613.000000  21613.000000   \n",
       "mean   4.580302e+09  5.400881e+05      3.370842      2.114757   2079.899736   \n",
       "std    2.876566e+09  3.671272e+05      0.930062      0.770163    918.440897   \n",
       "min    1.000102e+06  7.500000e+04      0.000000      0.000000    290.000000   \n",
       "25%    2.123049e+09  3.219500e+05      3.000000      1.750000   1427.000000   \n",
       "50%    3.904930e+09  4.500000e+05      3.000000      2.250000   1910.000000   \n",
       "75%    7.308900e+09  6.450000e+05      4.000000      2.500000   2550.000000   \n",
       "max    9.900000e+09  7.700000e+06     33.000000      8.000000  13540.000000   \n",
       "\n",
       "           sqft_lot        floors    waterfront          view     condition  \\\n",
       "count  2.161300e+04  21613.000000  21613.000000  21613.000000  21613.000000   \n",
       "mean   1.510697e+04      1.494309      0.007542      0.234303      3.409430   \n",
       "std    4.142051e+04      0.539989      0.086517      0.766318      0.650743   \n",
       "min    5.200000e+02      1.000000      0.000000      0.000000      1.000000   \n",
       "25%    5.040000e+03      1.000000      0.000000      0.000000      3.000000   \n",
       "50%    7.618000e+03      1.500000      0.000000      0.000000      3.000000   \n",
       "75%    1.068800e+04      2.000000      0.000000      0.000000      4.000000   \n",
       "max    1.651359e+06      3.500000      1.000000      4.000000      5.000000   \n",
       "\n",
       "              grade    sqft_above  sqft_basement      yr_built  yr_renovated  \\\n",
       "count  21613.000000  21613.000000   21613.000000  21613.000000  21613.000000   \n",
       "mean       7.656873   1788.390691     291.509045   1971.005136     84.402258   \n",
       "std        1.175459    828.090978     442.575043     29.373411    401.679240   \n",
       "min        1.000000    290.000000       0.000000   1900.000000      0.000000   \n",
       "25%        7.000000   1190.000000       0.000000   1951.000000      0.000000   \n",
       "50%        7.000000   1560.000000       0.000000   1975.000000      0.000000   \n",
       "75%        8.000000   2210.000000     560.000000   1997.000000      0.000000   \n",
       "max       13.000000   9410.000000    4820.000000   2015.000000   2015.000000   \n",
       "\n",
       "            zipcode           lat          long  sqft_living15     sqft_lot15  \n",
       "count  21613.000000  21613.000000  21613.000000   21613.000000   21613.000000  \n",
       "mean   98077.939805     47.560053   -122.213896    1986.552492   12768.455652  \n",
       "std       53.505026      0.138564      0.140828     685.391304   27304.179631  \n",
       "min    98001.000000     47.155900   -122.519000     399.000000     651.000000  \n",
       "25%    98033.000000     47.471000   -122.328000    1490.000000    5100.000000  \n",
       "50%    98065.000000     47.571800   -122.230000    1840.000000    7620.000000  \n",
       "75%    98118.000000     47.678000   -122.125000    2360.000000   10083.000000  \n",
       "max    98199.000000     47.777600   -121.315000    6210.000000  871200.000000  "
      ]
     },
     "execution_count": 7,
     "metadata": {},
     "output_type": "execute_result"
    }
   ],
   "source": [
    "df.describe()"
   ]
  },
  {
   "cell_type": "markdown",
   "metadata": {},
   "source": [
    "### Spread\n",
    "\n",
    "<ol>\n",
    "    <li><b>Variance</b>:  Measure of spread in a dataset from mean:\n",
    "        \\begin{equation} \\sigma^2 = \\frac{1}{n-1} \\Sigma_{i=1}^{n} (x_i - \\bar{x})^2 \\end{equation}\n",
    "        <br></br></li>\n",
    "        <br></br>\n",
    "    <li><b>Standard Deviation</b>: $\\sigma$ or square root of variance is called standard deviation. It has the same units are mean and can be compared easily.\n",
    "        <br></br></li>\n",
    "        <br></br>\n",
    "    <li><b>Absolute Deviation</b>: The absolute difference between elements and a given refernce point. Typically the reference point is mean or median.\n",
    "\n",
    "\\begin{equation} D_{i} = |x_{i}-m(X)| \\end{equation}\n",
    "           where $m(X)$ is the refernce point.\n",
    "        <br></br></li>\n",
    "        <br></br>\n",
    "    <li><b>Percentile</b>: Percentile (or a centile) is a value below which a given percentage of observations in a group of observations falls. For example, the 20th percentile is the value (or score) below which 20% of the observations may be found. Equivalently, 80% of the observations are found above the 20th percentile.\n",
    "        <br></br></li>\n",
    "        <br></br>\n",
    "    <li><b>Interquartile Range</b>: Also called the midspread or H‑spread and is the differnce between $75^{th}$ and $25^{th}$ percentiles also called the upper (or third) and lower (first) quartiles.\n",
    "        <br></br></li>\n",
    "        <br></br>\n",
    "   </ol>\n",
    "\n",
    "    \n",
    "    \n",
    " Example for std figure https://en.wikipedia.org/wiki/Variance\n",
    "    \n"
   ]
  },
  {
   "cell_type": "code",
   "execution_count": 8,
   "metadata": {},
   "outputs": [],
   "source": [
    "# Understanding normal distribution spread and central tendencies"
   ]
  },
  {
   "cell_type": "code",
   "execution_count": 9,
   "metadata": {},
   "outputs": [
    {
     "data": {
      "image/png": "[encoded data removed]",
      "text/plain": [
       "<Figure size 432x288 with 1 Axes>"
      ]
     },
     "metadata": {
      "needs_background": "light"
     },
     "output_type": "display_data"
    },
    {
     "name": "stdout",
     "output_type": "stream",
     "text": [
      "Mean and median are 0.0 and 0.0 respectively\n"
     ]
    }
   ],
   "source": [
    "import numpy as np\n",
    "import scipy.stats as stats\n",
    "import math\n",
    "\n",
    "mu = 0\n",
    "variance = 1\n",
    "\n",
    "sigma = math.sqrt(variance)\n",
    "x = np.linspace(mu - 3*sigma, mu + 3*sigma, 100)\n",
    "\n",
    "plt.plot(x, stats.norm.pdf(x, mu, sigma))\n",
    "\n",
    "\n",
    "plt.axvline(np.mean(x), label = 'mean', c = 'r')\n",
    "plt.axvline(np.median(x), label = 'mean', c='g')\n",
    "plt.show()\n",
    "print('Mean and median are {} and {} respectively'.format(round(np.mean(x),4), np.median(x)))\n"
   ]
  },
  {
   "cell_type": "code",
   "execution_count": 10,
   "metadata": {},
   "outputs": [
    {
     "data": {
      "image/png": "[encoded data removed]",
      "text/plain": [
       "<Figure size 504x504 with 1 Axes>"
      ]
     },
     "metadata": {
      "needs_background": "light"
     },
     "output_type": "display_data"
    },
    {
     "name": "stdout",
     "output_type": "stream",
     "text": [
      "[-1.5  1.5]\n",
      "[-4.74341649  4.74341649]\n"
     ]
    }
   ],
   "source": [
    "mu = 0\n",
    "variance = 1\n",
    "\n",
    "sigma = math.sqrt(variance)\n",
    "d1 = np.linspace(mu - 3*sigma, mu + 3*sigma, 100)\n",
    "\n",
    "\n",
    "variance = 10\n",
    "sigma = math.sqrt(variance)\n",
    "d2 = np.linspace(mu - 3*sigma, mu + 3*sigma, 100)\n",
    "\n",
    "\n",
    "plt.figure(figsize=(7,7))\n",
    "plt.plot(d1, stats.norm.pdf(x, mu, sigma), label='mean variance:(0,1)')\n",
    "plt.plot(d2, stats.norm.pdf(x, mu, sigma), label='mean variance:(0,10)', c='k')\n",
    "\n",
    "\n",
    "\n",
    "plt.axvline(x=np.percentile(d1, 75), label='75th Perc', c='b')\n",
    "plt.axvline(x=np.percentile(d1, 25), label='25th Perc', c='b')\n",
    "\n",
    "\n",
    "\n",
    "plt.axvline(x=np.percentile(d2, 75), label='75th Perc', c='k')\n",
    "plt.axvline(x=np.percentile(d2, 25), label='25th Perc', c='k')\n",
    "\n",
    "\n",
    "plt.legend(loc='upper right')\n",
    "plt.show()\n",
    "\n",
    "\n",
    "print(np.percentile(d1,[25,75]))\n",
    "print(np.percentile(d2, [25,75]))"
   ]
  },
  {
   "cell_type": "code",
   "execution_count": 11,
   "metadata": {},
   "outputs": [
    {
     "data": {
      "text/html": [
       "<div>\n",
       "<style scoped>\n",
       "    .dataframe tbody tr th:only-of-type {\n",
       "        vertical-align: middle;\n",
       "    }\n",
       "\n",
       "    .dataframe tbody tr th {\n",
       "        vertical-align: top;\n",
       "    }\n",
       "\n",
       "    .dataframe thead th {\n",
       "        text-align: right;\n",
       "    }\n",
       "</style>\n",
       "<table border=\"1\" class=\"dataframe\">\n",
       "  <thead>\n",
       "    <tr style=\"text-align: right;\">\n",
       "      <th></th>\n",
       "      <th>id</th>\n",
       "      <th>price</th>\n",
       "      <th>bedrooms</th>\n",
       "      <th>bathrooms</th>\n",
       "      <th>sqft_living</th>\n",
       "      <th>sqft_lot</th>\n",
       "      <th>floors</th>\n",
       "      <th>waterfront</th>\n",
       "      <th>view</th>\n",
       "      <th>condition</th>\n",
       "      <th>grade</th>\n",
       "      <th>sqft_above</th>\n",
       "      <th>sqft_basement</th>\n",
       "      <th>yr_built</th>\n",
       "      <th>yr_renovated</th>\n",
       "      <th>zipcode</th>\n",
       "      <th>lat</th>\n",
       "      <th>long</th>\n",
       "      <th>sqft_living15</th>\n",
       "      <th>sqft_lot15</th>\n",
       "    </tr>\n",
       "  </thead>\n",
       "  <tbody>\n",
       "    <tr>\n",
       "      <th>count</th>\n",
       "      <td>2.161300e+04</td>\n",
       "      <td>2.161300e+04</td>\n",
       "      <td>21613.000000</td>\n",
       "      <td>21613.000000</td>\n",
       "      <td>21613.000000</td>\n",
       "      <td>2.161300e+04</td>\n",
       "      <td>21613.000000</td>\n",
       "      <td>21613.000000</td>\n",
       "      <td>21613.000000</td>\n",
       "      <td>21613.000000</td>\n",
       "      <td>21613.000000</td>\n",
       "      <td>21613.000000</td>\n",
       "      <td>21613.000000</td>\n",
       "      <td>21613.000000</td>\n",
       "      <td>21613.000000</td>\n",
       "      <td>21613.000000</td>\n",
       "      <td>21613.000000</td>\n",
       "      <td>21613.000000</td>\n",
       "      <td>21613.000000</td>\n",
       "      <td>21613.000000</td>\n",
       "    </tr>\n",
       "    <tr>\n",
       "      <th>mean</th>\n",
       "      <td>4.580302e+09</td>\n",
       "      <td>5.400881e+05</td>\n",
       "      <td>3.370842</td>\n",
       "      <td>2.114757</td>\n",
       "      <td>2079.899736</td>\n",
       "      <td>1.510697e+04</td>\n",
       "      <td>1.494309</td>\n",
       "      <td>0.007542</td>\n",
       "      <td>0.234303</td>\n",
       "      <td>3.409430</td>\n",
       "      <td>7.656873</td>\n",
       "      <td>1788.390691</td>\n",
       "      <td>291.509045</td>\n",
       "      <td>1971.005136</td>\n",
       "      <td>84.402258</td>\n",
       "      <td>98077.939805</td>\n",
       "      <td>47.560053</td>\n",
       "      <td>-122.213896</td>\n",
       "      <td>1986.552492</td>\n",
       "      <td>12768.455652</td>\n",
       "    </tr>\n",
       "    <tr>\n",
       "      <th>std</th>\n",
       "      <td>2.876566e+09</td>\n",
       "      <td>3.671272e+05</td>\n",
       "      <td>0.930062</td>\n",
       "      <td>0.770163</td>\n",
       "      <td>918.440897</td>\n",
       "      <td>4.142051e+04</td>\n",
       "      <td>0.539989</td>\n",
       "      <td>0.086517</td>\n",
       "      <td>0.766318</td>\n",
       "      <td>0.650743</td>\n",
       "      <td>1.175459</td>\n",
       "      <td>828.090978</td>\n",
       "      <td>442.575043</td>\n",
       "      <td>29.373411</td>\n",
       "      <td>401.679240</td>\n",
       "      <td>53.505026</td>\n",
       "      <td>0.138564</td>\n",
       "      <td>0.140828</td>\n",
       "      <td>685.391304</td>\n",
       "      <td>27304.179631</td>\n",
       "    </tr>\n",
       "    <tr>\n",
       "      <th>min</th>\n",
       "      <td>1.000102e+06</td>\n",
       "      <td>7.500000e+04</td>\n",
       "      <td>0.000000</td>\n",
       "      <td>0.000000</td>\n",
       "      <td>290.000000</td>\n",
       "      <td>5.200000e+02</td>\n",
       "      <td>1.000000</td>\n",
       "      <td>0.000000</td>\n",
       "      <td>0.000000</td>\n",
       "      <td>1.000000</td>\n",
       "      <td>1.000000</td>\n",
       "      <td>290.000000</td>\n",
       "      <td>0.000000</td>\n",
       "      <td>1900.000000</td>\n",
       "      <td>0.000000</td>\n",
       "      <td>98001.000000</td>\n",
       "      <td>47.155900</td>\n",
       "      <td>-122.519000</td>\n",
       "      <td>399.000000</td>\n",
       "      <td>651.000000</td>\n",
       "    </tr>\n",
       "    <tr>\n",
       "      <th>25%</th>\n",
       "      <td>2.123049e+09</td>\n",
       "      <td>3.219500e+05</td>\n",
       "      <td>3.000000</td>\n",
       "      <td>1.750000</td>\n",
       "      <td>1427.000000</td>\n",
       "      <td>5.040000e+03</td>\n",
       "      <td>1.000000</td>\n",
       "      <td>0.000000</td>\n",
       "      <td>0.000000</td>\n",
       "      <td>3.000000</td>\n",
       "      <td>7.000000</td>\n",
       "      <td>1190.000000</td>\n",
       "      <td>0.000000</td>\n",
       "      <td>1951.000000</td>\n",
       "      <td>0.000000</td>\n",
       "      <td>98033.000000</td>\n",
       "      <td>47.471000</td>\n",
       "      <td>-122.328000</td>\n",
       "      <td>1490.000000</td>\n",
       "      <td>5100.000000</td>\n",
       "    </tr>\n",
       "    <tr>\n",
       "      <th>50%</th>\n",
       "      <td>3.904930e+09</td>\n",
       "      <td>4.500000e+05</td>\n",
       "      <td>3.000000</td>\n",
       "      <td>2.250000</td>\n",
       "      <td>1910.000000</td>\n",
       "      <td>7.618000e+03</td>\n",
       "      <td>1.500000</td>\n",
       "      <td>0.000000</td>\n",
       "      <td>0.000000</td>\n",
       "      <td>3.000000</td>\n",
       "      <td>7.000000</td>\n",
       "      <td>1560.000000</td>\n",
       "      <td>0.000000</td>\n",
       "      <td>1975.000000</td>\n",
       "      <td>0.000000</td>\n",
       "      <td>98065.000000</td>\n",
       "      <td>47.571800</td>\n",
       "      <td>-122.230000</td>\n",
       "      <td>1840.000000</td>\n",
       "      <td>7620.000000</td>\n",
       "    </tr>\n",
       "    <tr>\n",
       "      <th>75%</th>\n",
       "      <td>7.308900e+09</td>\n",
       "      <td>6.450000e+05</td>\n",
       "      <td>4.000000</td>\n",
       "      <td>2.500000</td>\n",
       "      <td>2550.000000</td>\n",
       "      <td>1.068800e+04</td>\n",
       "      <td>2.000000</td>\n",
       "      <td>0.000000</td>\n",
       "      <td>0.000000</td>\n",
       "      <td>4.000000</td>\n",
       "      <td>8.000000</td>\n",
       "      <td>2210.000000</td>\n",
       "      <td>560.000000</td>\n",
       "      <td>1997.000000</td>\n",
       "      <td>0.000000</td>\n",
       "      <td>98118.000000</td>\n",
       "      <td>47.678000</td>\n",
       "      <td>-122.125000</td>\n",
       "      <td>2360.000000</td>\n",
       "      <td>10083.000000</td>\n",
       "    </tr>\n",
       "    <tr>\n",
       "      <th>max</th>\n",
       "      <td>9.900000e+09</td>\n",
       "      <td>7.700000e+06</td>\n",
       "      <td>33.000000</td>\n",
       "      <td>8.000000</td>\n",
       "      <td>13540.000000</td>\n",
       "      <td>1.651359e+06</td>\n",
       "      <td>3.500000</td>\n",
       "      <td>1.000000</td>\n",
       "      <td>4.000000</td>\n",
       "      <td>5.000000</td>\n",
       "      <td>13.000000</td>\n",
       "      <td>9410.000000</td>\n",
       "      <td>4820.000000</td>\n",
       "      <td>2015.000000</td>\n",
       "      <td>2015.000000</td>\n",
       "      <td>98199.000000</td>\n",
       "      <td>47.777600</td>\n",
       "      <td>-121.315000</td>\n",
       "      <td>6210.000000</td>\n",
       "      <td>871200.000000</td>\n",
       "    </tr>\n",
       "  </tbody>\n",
       "</table>\n",
       "</div>"
      ],
      "text/plain": [
       "                 id         price      bedrooms     bathrooms   sqft_living  \\\n",
       "count  2.161300e+04  2.161300e+04  21613.000000  21613.000000  21613.000000   \n",
       "mean   4.580302e+09  5.400881e+05      3.370842      2.114757   2079.899736   \n",
       "std    2.876566e+09  3.671272e+05      0.930062      0.770163    918.440897   \n",
       "min    1.000102e+06  7.500000e+04      0.000000      0.000000    290.000000   \n",
       "25%    2.123049e+09  3.219500e+05      3.000000      1.750000   1427.000000   \n",
       "50%    3.904930e+09  4.500000e+05      3.000000      2.250000   1910.000000   \n",
       "75%    7.308900e+09  6.450000e+05      4.000000      2.500000   2550.000000   \n",
       "max    9.900000e+09  7.700000e+06     33.000000      8.000000  13540.000000   \n",
       "\n",
       "           sqft_lot        floors    waterfront          view     condition  \\\n",
       "count  2.161300e+04  21613.000000  21613.000000  21613.000000  21613.000000   \n",
       "mean   1.510697e+04      1.494309      0.007542      0.234303      3.409430   \n",
       "std    4.142051e+04      0.539989      0.086517      0.766318      0.650743   \n",
       "min    5.200000e+02      1.000000      0.000000      0.000000      1.000000   \n",
       "25%    5.040000e+03      1.000000      0.000000      0.000000      3.000000   \n",
       "50%    7.618000e+03      1.500000      0.000000      0.000000      3.000000   \n",
       "75%    1.068800e+04      2.000000      0.000000      0.000000      4.000000   \n",
       "max    1.651359e+06      3.500000      1.000000      4.000000      5.000000   \n",
       "\n",
       "              grade    sqft_above  sqft_basement      yr_built  yr_renovated  \\\n",
       "count  21613.000000  21613.000000   21613.000000  21613.000000  21613.000000   \n",
       "mean       7.656873   1788.390691     291.509045   1971.005136     84.402258   \n",
       "std        1.175459    828.090978     442.575043     29.373411    401.679240   \n",
       "min        1.000000    290.000000       0.000000   1900.000000      0.000000   \n",
       "25%        7.000000   1190.000000       0.000000   1951.000000      0.000000   \n",
       "50%        7.000000   1560.000000       0.000000   1975.000000      0.000000   \n",
       "75%        8.000000   2210.000000     560.000000   1997.000000      0.000000   \n",
       "max       13.000000   9410.000000    4820.000000   2015.000000   2015.000000   \n",
       "\n",
       "            zipcode           lat          long  sqft_living15     sqft_lot15  \n",
       "count  21613.000000  21613.000000  21613.000000   21613.000000   21613.000000  \n",
       "mean   98077.939805     47.560053   -122.213896    1986.552492   12768.455652  \n",
       "std       53.505026      0.138564      0.140828     685.391304   27304.179631  \n",
       "min    98001.000000     47.155900   -122.519000     399.000000     651.000000  \n",
       "25%    98033.000000     47.471000   -122.328000    1490.000000    5100.000000  \n",
       "50%    98065.000000     47.571800   -122.230000    1840.000000    7620.000000  \n",
       "75%    98118.000000     47.678000   -122.125000    2360.000000   10083.000000  \n",
       "max    98199.000000     47.777600   -121.315000    6210.000000  871200.000000  "
      ]
     },
     "execution_count": 11,
     "metadata": {},
     "output_type": "execute_result"
    }
   ],
   "source": [
    "df.describe()"
   ]
  },
  {
   "cell_type": "markdown",
   "metadata": {},
   "source": [
    "### Shape\n",
    "\n",
    "<ol>\n",
    "    <li><b>Skewness</b>: Skewness is a measure of symmetry, or more precisely, the lack of symmetry. A distribution, or data set, is symmetric if it looks the same to the left and right of the center point. Skewness is defined as:  \\begin{equation} Skewness = \\frac{\\Sigma_{i=1}^N(X_i - \\bar{X})^3}{N*(standardDeviation)^3)} \\end{equation}\n",
    "        <br></br></li>        \n",
    "   </ol>\n",
    "\n",
    "    \n",
    "    \n",
    "A distribution which is not symmetrical about it's mean is a skewed distribution.\n",
    "    \n",
    "\n",
    "\n"
   ]
  },
  {
   "cell_type": "code",
   "execution_count": 12,
   "metadata": {},
   "outputs": [
    {
     "data": {
      "image/png": "[encoded data removed]",
      "text/plain": [
       "<Figure size 432x288 with 1 Axes>"
      ]
     },
     "metadata": {
      "needs_background": "light"
     },
     "output_type": "display_data"
    }
   ],
   "source": [
    "from scipy.stats import skewnorm\n",
    "x = np.linspace(-20, 20, 500)  \n",
    "     \n",
    "# Right skewed distribution\n",
    "y1 = skewnorm .pdf(x, a=5, loc=0, scale=4)  #RIGHT TAIL HEAVY\n",
    "y2 = skewnorm .pdf(x, a=0, loc=0, scale=4)  \n",
    "plt.plot(x, y1, \"b--\") #, x, y2, \"r--\")  \n",
    "plt.show()"
   ]
  },
  {
   "cell_type": "markdown",
   "metadata": {},
   "source": [
    "### Dependence\n",
    "<ol>\n",
    "    <li><b>Correlation</b>: The correlation coefficient $\\rho_{X,Y}$ between two random variables $X$ and $Y$ with expected values $\\mu_X$ and $\\mu_Y$ and standard deviations $\\sigma_X$ and $\\sigma_Y$ is defined as: \n",
    "        \\begin{equation} \\rho_{X,Y} = \\frac{cov(X,Y)}{\\sigma_X \\sigma_Y} \\end{equation}\n",
    "       <br></br></li>\n",
    "       <br></br>\n",
    "    <li> Correlation is a measure of <b>linear relationship</b> between variables. <b>Doesnot say anything about non linear relationship.</b>\n",
    "    </li>\n",
    "    <br></br>\n",
    "    <li> Correlation = 1 means perfect linear relationship (E.g. $y = mx + c$), you can fit a linear classifier.\n",
    "    </li>\n",
    "    <br></br>\n",
    "    <li> Correlation = -1 also means perfect linear relationship (E.g. $y = mx + c$), you can fit a linear classifier.\n",
    "    </li>\n",
    "    <br></br>\n",
    "    <li> Correlation = 0 means <b>no linear relationship</b>, however there could be non linear relationships as well (E.g. $y = mx^2 + c$), you can fit a linear classifier.\n",
    "    </li>\n",
    "    <br></br>\n",
    "   </ol>\n",
    "   "
   ]
  },
  {
   "cell_type": "code",
   "execution_count": 13,
   "metadata": {},
   "outputs": [],
   "source": [
    "# How to compute correlation"
   ]
  },
  {
   "cell_type": "code",
   "execution_count": 14,
   "metadata": {},
   "outputs": [
    {
     "data": {
      "text/plain": [
       "array([[1., 1.],\n",
       "       [1., 1.]])"
      ]
     },
     "execution_count": 14,
     "metadata": {},
     "output_type": "execute_result"
    }
   ],
   "source": [
    "np.corrcoef(df['price'], df['price'])"
   ]
  },
  {
   "cell_type": "code",
   "execution_count": 15,
   "metadata": {},
   "outputs": [
    {
     "data": {
      "text/plain": [
       "array([[1.        , 0.70203505],\n",
       "       [0.70203505, 1.        ]])"
      ]
     },
     "execution_count": 15,
     "metadata": {},
     "output_type": "execute_result"
    }
   ],
   "source": [
    "np.corrcoef(df['price'], df['sqft_living'])\n",
    "\n",
    "#[0,1]"
   ]
  },
  {
   "cell_type": "code",
   "execution_count": 16,
   "metadata": {},
   "outputs": [
    {
     "data": {
      "image/png": "[encoded data removed]",
      "text/plain": [
       "<Figure size 432x288 with 1 Axes>"
      ]
     },
     "metadata": {
      "needs_background": "light"
     },
     "output_type": "display_data"
    }
   ],
   "source": [
    "#0.7 correlation not exactly a straight line but some linear relationship\n",
    "\n",
    "np.corrcoef(df['price'], df['sqft_basement'])\n",
    "plt.scatter(df['sqft_basement'], df['price'])\n",
    "#plt.plot(df['sqft_above'],df['sqft_above'],'r-')\n",
    "plt.show()"
   ]
  },
  {
   "cell_type": "code",
   "execution_count": 17,
   "metadata": {},
   "outputs": [
    {
     "data": {
      "text/plain": [
       "array([[1.       , 0.8765966],\n",
       "       [0.8765966, 1.       ]])"
      ]
     },
     "execution_count": 17,
     "metadata": {},
     "output_type": "execute_result"
    }
   ],
   "source": [
    "np.corrcoef(df['sqft_above'], df['sqft_living'])"
   ]
  },
  {
   "cell_type": "code",
   "execution_count": 18,
   "metadata": {},
   "outputs": [
    {
     "data": {
      "image/png": "[encoded data removed]",
      "text/plain": [
       "<Figure size 432x288 with 1 Axes>"
      ]
     },
     "metadata": {
      "needs_background": "light"
     },
     "output_type": "display_data"
    }
   ],
   "source": [
    "#0.87 correlation: A good linear relationship\n",
    "\n",
    "plt.scatter(df['sqft_above'], df['sqft_living'])\n",
    "plt.plot(df['sqft_above'],df['sqft_above'],'r-')\n",
    "plt.show()"
   ]
  },
  {
   "cell_type": "markdown",
   "metadata": {},
   "source": [
    "# Inferential Statistics"
   ]
  },
  {
   "cell_type": "markdown",
   "metadata": {},
   "source": [
    "<ol>\n",
    "    <li>The science of making inference of population behaviour from patterns observed in samples.\n",
    "    <br></br></li>\n",
    "    <br></br>\n",
    "    <li> This generalisation is limited by the sample and population properties, i.e. <b>we cannot say with 100% confidence that behaviour observed on sample will be present in population</b>.\n",
    "    <br></br></li> \n",
    "    <br></br>\n",
    "    <li><b>Example 1</b>: Let's say you are working for a pharmaceutical company and want to compute efficacy of a drug in keeping sugar level of patients. During clinical trials you study the sugar level reduction on a sample of population. But to take the drug to-market you need to get the efficacy on population. This is achieved using concepts of inferrential statistics and the confidence on efficacy numbers is dependent on the sample and population properties.\n",
    "    <br></br></li>\n",
    "    <br></br>\n",
    "    <li><b>Example 2</b>:  Let's say you are working for a premium golf ball manufacturer where the production lines must produce all of its balls to 1.221 ounces in order to get the top rating (and the dollar). You are doing quality assessment and check lots randomly, if they are out of sync with a statistical significance of more than 5%, you must shut down the line and inspect. You can use inferrential statistics to give confidence to your computatins and take decisions.\n",
    "    <br></br></li>\n",
    "    <br></br>\n",
    "    <li> <b>A biased sample will always lead to low confidence for generalisation on population</b>. Always prefer random (or stratified) sampling to make unbiased statistical decisions.\n",
    "    <br></br></li>\n",
    "    <br></br>\n",
    "    <li> <b>Example 3</b>: Let's say you are working for cinema site operator (like PVR in India). You create a model to automatically schedule movies on the cinema sites to optimise profit. You want the company to use your models as you are sure of the great benefits it will bring to the organisation. To compare in real time with existing solutions  the company will perform something called <b> A/B Testing</b> or <b> unpaired t-test</b> before rolling out to market. A classic example of inferrential statistics.\n",
    "    <br></br></li>\n",
    "    <br></br>\n",
    "    <li> <b>Classic Example</b>: A/B Testing is an <b>industry practice is done to roll out any new features in any product in the market</b> to test the market adoption and feature success. This includes rolling out new app features, new OS features, new models for optimised delievry for e-commerce (or any company), new fashion design, etc.\n",
    "    <br></br></li>\n",
    "    <br></br>\n",
    "    </ol>\n",
    "    \n"
   ]
  },
  {
   "cell_type": "markdown",
   "metadata": {},
   "source": [
    "In the subsequent sections we assume that we want to estimate (or infer) a population parameter given sample of the data. This could include:\n",
    "\n",
    "1. <b>Average Patient Sugar level < $\\alpha$</b> for patients using drug. Where $\\alpha$ is sugar level approved by FDA.\n",
    "\n",
    "\n",
    "2. <b>Average increase in profit > 0</b> for cinema site example from above.\n",
    "\n",
    "\n",
    "3. <b>Average wieght of golf ball = 1.221</b> ounce for premium golf manufacturer.\n",
    "\n",
    "\n",
    "More often than not, we will be focusing on generalistion of sample mean to population."
   ]
  },
  {
   "cell_type": "markdown",
   "metadata": {},
   "source": [
    "### Confidence Interval and Confidence Level"
   ]
  },
  {
   "cell_type": "markdown",
   "metadata": {},
   "source": [
    "1. Let's say we a sample $x_1, x_2, ...,x_n$ of $n-dim$ and we want to estimate population mean.\n",
    "<br></br>\n",
    "<br></br>\n",
    "2. We compute the sample mean $\\bar{X}$ and want to estimate $\\mu$, the population mean.\n",
    "<br></br>\n",
    "<br></br>\n",
    "3. Now, we can contruct a <b>confidence interval at a confidence level</b> around $\\bar{x}$, such as 95% (selected by the user or requirement) and say that the population mean lies within the interval with the confidence level.\n",
    "<br></br>\n",
    "<br></br>\n",
    "4. It means that if the same population is sampled on numerous occasions and interval estimates are made on each occasion, the resulting intervals would bracket the true population parameter in approximately 95% of the cases. A confidence stated at a $1−α = $95% level can be thought of as the inverse of a significance level, $α=$5%.\n",
    "<br></br>\n",
    "<br></br>\n",
    "5. In general <b>the wider the confidence interval higher will be the confidence level</b>\n",
    "<br></br>\n",
    "<br></br>\n",
    "6. The relationship between confidence interval and confidence level depends on the sample and population distribution as we will see in next section.\n",
    "\n"
   ]
  },
  {
   "cell_type": "code",
   "execution_count": 19,
   "metadata": {},
   "outputs": [
    {
     "data": {
      "image/png": "[encoded data removed]",
      "text/plain": [
       "<Figure size 432x288 with 1 Axes>"
      ]
     },
     "metadata": {
      "needs_background": "light"
     },
     "output_type": "display_data"
    }
   ],
   "source": [
    "\n",
    "mu = 100\n",
    "variance = 5\n",
    "\n",
    "sigma = math.sqrt(variance)\n",
    "x = np.linspace(mu - 4*sigma, mu + 4*sigma, 100)\n",
    "\n",
    "plt.plot(x, stats.norm.pdf(x, mu, sigma))\n",
    "\n",
    "\n",
    "plt.axvline(100, label = 'population mean', c = 'r')\n",
    "plt.legend()\n",
    "plt.title('1-sided confidence interval for sugar level')\n",
    "plt.show()\n",
    "\n",
    "\n"
   ]
  },
  {
   "cell_type": "code",
   "execution_count": 20,
   "metadata": {},
   "outputs": [
    {
     "data": {
      "image/png": "[encoded data removed]",
      "text/plain": [
       "<Figure size 432x288 with 1 Axes>"
      ]
     },
     "metadata": {
      "needs_background": "light"
     },
     "output_type": "display_data"
    }
   ],
   "source": [
    "\n",
    "\n",
    "mu = 1.211\n",
    "variance = 0.9\n",
    "\n",
    "sigma = math.sqrt(variance)\n",
    "x = np.linspace(mu - 3*sigma, mu + 3*sigma, 100)\n",
    "\n",
    "plt.plot(x, stats.norm.pdf(x, mu, sigma))\n",
    "\n",
    "\n",
    "plt.axvline(1.211, label = 'population mean', c = 'r')\n",
    "#plt.axvline(1.16, label = 'sample mean', c = 'b')\n",
    "\n",
    "plt.axvline(mu -1.96*np.sqrt(variance), label = 'high bound', c = 'k')\n",
    "plt.axvline(mu +1.96*np.sqrt(variance), label = 'lower bound', c = 'k')\n",
    "\n",
    "plt.title('2-sided confidence interval for golf ball weight')\n",
    "\n",
    "plt.legend()\n",
    "plt.show()\n",
    "\n",
    "\n"
   ]
  },
  {
   "cell_type": "markdown",
   "metadata": {},
   "source": [
    "1. <b>One-Sided Confidence Interval</b>: Less than equal to or greater than equal to a value.\n",
    "<br></br>\n",
    "<br></br>\n",
    "2. <b> Two-Sided Confidence Inteval</b>: Equal to a value. "
   ]
  },
  {
   "cell_type": "markdown",
   "metadata": {},
   "source": [
    "Note that:\n",
    "\n",
    "1.  The upper and lower bounds are also called <b> critical values</b> and region beyod those is called the <b>critical region</b>.\n",
    "<br></br>\n",
    "<br></br>\n",
    "2. The exact method for computing the confidence interval at a confidence level is discussed in the later section of decision making. \n",
    "<br></br>\n",
    "<br></br>\n",
    "3. For now we assume a secret statistical recipe that gives us the bound for a confindence interval and jump to hypothesis testing introduction which is tightly coupled with confidence intervals."
   ]
  },
  {
   "cell_type": "markdown",
   "metadata": {},
   "source": [
    "### Hypothesis Testing Introduction: Null and Alternate"
   ]
  },
  {
   "cell_type": "markdown",
   "metadata": {},
   "source": [
    "Every decision in data science is backed by hypothesis and testing it. There formulation as present below: \n",
    "\n",
    "\n",
    "1. <b>Null Hypothesis</b>: The status quo, i.e what you want to test. Also called $H_o$. \n",
    "<br></br>\n",
    "<br></br>\n",
    "2. <b> Alternate Hypothesis</b>: The challenge to the status quo or compliment of null hypothesis. Also called $H_1$\n",
    "<br></br>\n",
    "<br></br>\n",
    "<b>Examples</b>:\n",
    "\n",
    "<br></br>\n",
    "1. <b>Two tailed hypothesis</b>: As part of golf ball manufacturer you would test for $\\mu$ (average population golf ball weight):\n",
    "\\begin{equation} H_o : \\mu = 1.211  \\\\ H_1 : \\mu \\neq 1.211 \\end{equation}\n",
    "<br></br>\n",
    "<br></br>\n",
    "2. <b> One tailed hypothesis</b>: AS part of the drug manufacturer you would test for $\\mu$ (here the avarage sugar level in population):\n",
    "\\begin{equation} H_o : \\mu <=100  \\\\ H_1 : \\mu \\gt 100 \\end{equation}\n",
    "<br></br>\n",
    "<br></br>\n",
    "<b>Note that</b> :\n",
    "\n",
    "<br></br>\n",
    "1. We start by assuming that the null hypothesis is true and conduct statistical tests to reject null or fail to accept it.\n",
    "<br></br>\n",
    "<br></br>\n",
    "2. By convention <b>null hypothesis always has equality sign</b> specially in cases of one-tailed hypothesis.\n",
    "<br></br>\n",
    "<br></br>\n",
    "3. For a <b>one-tailed hypothesis</b> you would contruct and test <b>one-sided confidence interval</b> and vice versa.\n",
    "<br></br>\n",
    "<br></br>\n",
    "4. For a <b>two-tailed hypothesis</b> you would contruc and test<b> two-sided confidence interval</b> and vice-versa.\n",
    "<br></br>\n",
    "<br></br>\n",
    "5. Hence, hypothesis construction and confidence interval are tightly coupled!"
   ]
  },
  {
   "cell_type": "markdown",
   "metadata": {},
   "source": [
    "Now, we have broken the complex business problems in statistcal equations, lets understand the decision making part."
   ]
  },
  {
   "cell_type": "markdown",
   "metadata": {},
   "source": [
    "### Understanding Critical Value and Decision Making"
   ]
  },
  {
   "cell_type": "markdown",
   "metadata": {},
   "source": [
    "Let's take an example of two tailed test and list down what we know and what we do not know:\n",
    "\n",
    "1. We know the value of $\\bar{X}$ the mean of sample. It is the mean of golf ball weights in our use case. \n",
    "<br></br>\n",
    "<br></br>\n",
    "2. We know the value of $\\mu$ the population mean for which we want to test the hypothesis or draw confidence intervals. It is 1.211 as the desired golf ball weight in out use case.\n",
    "<br></br>\n",
    "<br></br>\n",
    "3. What we do not know are the <b>lower bounds</b> and <b>upper bound</b> (also called the <b>critical values</b>) of confidence interval corresponding to confidence level.\n",
    "<br></br>\n",
    "<br></br>\n",
    "4. What we do not know is whether we reject the null hypothesis or fail to reject the null hypothesis (note that we neve say that we accept the null, we always say \"fail to reject\". Another notations which statisticians came up with!!).\n",
    "<br></br>\n",
    "<br></br>\n",
    "\n",
    "Intuitively:\n",
    "\n",
    "1. The higher the confidence interval the higher our chances of fail to reject the null (dont accept, fail to reject!!).\n",
    "<br></br>\n",
    "<br></br>\n",
    "2. The closer $\\bar{X}$ is to $\\mu$, the higher our chances of fail to reject the null (again, don't accept).\n",
    "<br></br>\n",
    "<br></br>\n"
   ]
  },
  {
   "cell_type": "markdown",
   "metadata": {},
   "source": [
    "<b>Decision Making: \n",
    "    \n",
    "If $\\bar{X}$ is within the confidence interval bounds, we fail to reject null. \n",
    "    \n",
    "    \n",
    "If $\\bar{X}$ is outside the confidence interval bound we reject null. \n",
    "    \n",
    "        \n",
    "This is true for one-tailed as well two-tailed hypothesis</b>"
   ]
  },
  {
   "cell_type": "code",
   "execution_count": 21,
   "metadata": {},
   "outputs": [
    {
     "data": {
      "image/png": "[encoded data removed]",
      "text/plain": [
       "<Figure size 720x720 with 1 Axes>"
      ]
     },
     "metadata": {
      "needs_background": "light"
     },
     "output_type": "display_data"
    }
   ],
   "source": [
    "mu = 1.211\n",
    "variance = 0.9\n",
    "\n",
    "sigma = math.sqrt(variance)\n",
    "x = np.linspace(mu - 3*sigma, mu + 3*sigma, 100)\n",
    "\n",
    "plt.figure(figsize=(10,10))\n",
    "plt.plot(x, stats.norm.pdf(x, mu, sigma))\n",
    "\n",
    "\n",
    "plt.axvline(1.211, label = 'population mean', c = 'r')\n",
    "#plt.axvline(1.16, label = 'sample mean', c = 'b')\n",
    "\n",
    "plt.axvline(mu -1.96*np.sqrt(variance), label = 'high bound', c = 'k')\n",
    "plt.axvline(mu +1.96*np.sqrt(variance), label = 'lower bound', c = 'k')\n",
    "\n",
    "\n",
    "plt.text(mu, 0.05, \"Fail to reject null hypothesis\", fontsize=22, color='black', horizontalalignment=\"center\")\n",
    "\n",
    "\n",
    "\n",
    "plt.text(-1.96*np.sqrt(variance), 0.05, \"reject null\", fontsize=20, color='black', horizontalalignment=\"left\")\n",
    "\n",
    "plt.text(-1.96*np.sqrt(variance), 0.01, \"critical region\", fontsize=15, color='black', horizontalalignment=\"left\")\n",
    "\n",
    "plt.text(4.3, 0.05, \"reject null\", fontsize=20, color='black', horizontalalignment=\"right\")\n",
    "\n",
    "plt.text(4.3, 0.01, \"critical region\", fontsize=15, color='black', horizontalalignment=\"right\")\n",
    "\n",
    "plt.title('2-tailed hypothesis testing for golf ball weight')\n",
    "\n",
    "plt.legend()\n",
    "plt.show()\n",
    "\n",
    "\n"
   ]
  },
  {
   "cell_type": "code",
   "execution_count": 22,
   "metadata": {
    "scrolled": false
   },
   "outputs": [
    {
     "data": {
      "image/png": "[encoded data removed]",
      "text/plain": [
       "<Figure size 720x720 with 1 Axes>"
      ]
     },
     "metadata": {
      "needs_background": "light"
     },
     "output_type": "display_data"
    }
   ],
   "source": [
    "\n",
    "mu = 100\n",
    "variance = 5\n",
    "\n",
    "sigma = math.sqrt(variance)\n",
    "x = np.linspace(mu - 4*sigma, mu + 4*sigma, 100)\n",
    "\n",
    "\n",
    "plt.figure(figsize=(10,10))\n",
    "\n",
    "plt.plot(x, stats.norm.pdf(x, mu, sigma))\n",
    "\n",
    "\n",
    "plt.axvline(100, label = 'population mean', c = 'r')\n",
    "plt.legend()\n",
    "\n",
    "\n",
    "plt.axvline(mu + 1.5*1.96*np.sqrt(variance), label = 'lower bound', c = 'k')\n",
    "\n",
    "plt.text(mu, 0.05, \"Fail to reject null hypothesis\", fontsize=25, color='black', horizontalalignment=\"center\")\n",
    "\n",
    "\n",
    "\n",
    "plt.text(106.9, 0.05, \"reject null\", fontsize=15, color='black', horizontalalignment=\"left\")\n",
    "\n",
    "plt.text(106.9, 0.005, \"critical region\", fontsize=12, color='black', horizontalalignment=\"left\")\n",
    "\n",
    "\n",
    "plt.title('1-tailed hypothesis testing for sugar level')\n",
    "plt.show()\n",
    "\n",
    "\n"
   ]
  },
  {
   "cell_type": "markdown",
   "metadata": {},
   "source": [
    "There are two majorly methods to conduct hypothesis testing by computing the the critical using directly or indirectly, these are <b> Critical Value Method</b> and <b>p-value</b>"
   ]
  },
  {
   "cell_type": "markdown",
   "metadata": {},
   "source": [
    "### Critical Value Method"
   ]
  },
  {
   "cell_type": "markdown",
   "metadata": {},
   "source": [
    "Critical value computation is dependent on the various parameters and depending upong those we classify each hypothesis testing into different categories:"
   ]
  },
  {
   "cell_type": "markdown",
   "metadata": {},
   "source": [
    "##### z-test:"
   ]
  },
  {
   "cell_type": "markdown",
   "metadata": {},
   "source": [
    "Used to test value of population mean with respect to a constant. Uses <b>normal distribution</b>."
   ]
  },
  {
   "cell_type": "markdown",
   "metadata": {},
   "source": [
    "##### t-test"
   ]
  },
  {
   "cell_type": "markdown",
   "metadata": {},
   "source": [
    "Used to test value of population mean with respect to a constant. Uses <b>Student t-distribution</b> parameterized by <b>degree of freedom</b> "
   ]
  },
  {
   "cell_type": "markdown",
   "metadata": {},
   "source": [
    "#### Unpaired t-test A/B test"
   ]
  },
  {
   "cell_type": "markdown",
   "metadata": {},
   "source": [
    "Used to test difference of two population means with respect to a constant. Uses <b>Student t-distribution</b> parameterized by <b>degree of freedom</b> "
   ]
  },
  {
   "cell_type": "markdown",
   "metadata": {},
   "source": [
    "#### Two Tailed Tests"
   ]
  },
  {
   "cell_type": "markdown",
   "metadata": {},
   "source": [
    "![two tailed test](two_tailed_test.PNG)"
   ]
  },
  {
   "cell_type": "markdown",
   "metadata": {},
   "source": [
    "#### How to find z-score and t-score"
   ]
  },
  {
   "cell_type": "markdown",
   "metadata": {},
   "source": [
    "![Z-score](z_score_example.PNG)"
   ]
  },
  {
   "cell_type": "markdown",
   "metadata": {},
   "source": [
    "#### One tailed test"
   ]
  },
  {
   "cell_type": "markdown",
   "metadata": {},
   "source": [
    "![one tailed test](one_tailed_test.PNG)"
   ]
  },
  {
   "cell_type": "markdown",
   "metadata": {},
   "source": [
    "<b> What is a paired t-test</b>: Paired t-test is used to comapare mean of same population. E.g. measuring sugar level before and after a drug is administored in the patients. You can think of it as having the same population but measure variations over time in response to an stimuli. \n",
    "<br></br>\n",
    "<br></br>\n",
    "\n",
    "1. For paired t-test the methodology is same except that the degrees of freedom of reduces to $n-1$ where n is the sample size.\n",
    "<br></br>\n",
    "<br></br>\n",
    "2. We will generally talk about paired and unpaired t-test with same number of observation so the degrees of freedom translate to $n-1$ and $2*n-2$ respectively.\n",
    "    "
   ]
  },
  {
   "cell_type": "markdown",
   "metadata": {},
   "source": [
    "### Examples"
   ]
  },
  {
   "cell_type": "markdown",
   "metadata": {},
   "source": [
    "##### Two tailed test"
   ]
  },
  {
   "cell_type": "markdown",
   "metadata": {},
   "source": [
    "Let's say your management wants you to test the golf ball weights from random lots in production pipeline for the hypothesis. They take a lot and record weights of 20 balls to get the average as $\\bar{X} = 1.19$ and variance $s^2 = 0.1$. Now, as you are statistical expert in the company, your manager wants you to test whether the sample indicates the population mean is 1.211 at 95% confidence level or 5% significance level. Based on the test they will decide whether the company should continue manufacturing or stop and inspect.\n",
    "<br></br>\n",
    "<br></br>\n",
    "Let's follow the steps from above table:\n",
    "\n",
    "1. <b>Decide which test to use</b>: Since we do not know the population mean and the sample size is less than 50, we will use the <b>t-test</b>.\n",
    "<br></br>\n",
    "<br></br>\n",
    "2. <b>Hypothesis contruction</b>:  \\begin{equation} H_o : \\mu = 1.211  \\\\ H_1 : \\mu \\neq 1.211 \\end{equation}\n",
    "<br></br>\n",
    "<br></br>\n",
    "3. <b>Compute t_score</b>: Since it is two tailed test so we distribute o.25% to each left and right tail to compute t score with 19 degrees of freedom. We use the scipy module here to compute this. Alternatively we could use the t-table. This comes out to be 2.0930 for right tail and -2.0930 for left tail.\n",
    "<br></br>\n",
    "<br></br>\n",
    "4. <b>Compute Critical value</b>\n",
    "<br></br>\n",
    "<br></br>\n",
    "5. <b> Decision Making</b>"
   ]
  },
  {
   "cell_type": "markdown",
   "metadata": {},
   "source": [
    "![critical_value_table_t](critical_value_table_t.PNG)"
   ]
  },
  {
   "cell_type": "code",
   "execution_count": 23,
   "metadata": {},
   "outputs": [
    {
     "name": "stdout",
     "output_type": "stream",
     "text": [
      "2.09302405440818\n"
     ]
    }
   ],
   "source": [
    "from scipy import special\n",
    "\n",
    "t_c = abs(special.nctdtrit(19,0,0.025))\n",
    "print(t_c)"
   ]
  },
  {
   "cell_type": "code",
   "execution_count": 24,
   "metadata": {},
   "outputs": [
    {
     "name": "stdout",
     "output_type": "stream",
     "text": [
      "Fail to reject the null for x_bar 1.19 and confidence interval region bounds [1.0630008497941414,1.3589991502058587]\n"
     ]
    }
   ],
   "source": [
    "# Critical value and decision making\n",
    "\n",
    "s_squared= 0.1\n",
    "\n",
    "n=20\n",
    "\n",
    "x_bar = 1.19\n",
    "\n",
    "mu_not = 1.211\n",
    "\n",
    "z_lower = mu_not - (t_c)*(np.sqrt(s_squared/n))\n",
    "z_upper = mu_not + (t_c)*(np.sqrt(s_squared/n))\n",
    "\n",
    "if z_lower < x_bar < z_upper:\n",
    "    print('Fail to reject the null for x_bar {} and confidence interval region bounds [{},{}]'.format(x_bar,z_lower, z_upper))\n",
    "else:\n",
    "    print('Reject the null for x_bar {} and confidence interval region bounds [{},{}]'.format(x_bar,z_lower, z_upper))"
   ]
  },
  {
   "cell_type": "markdown",
   "metadata": {},
   "source": [
    "#### One tailed test"
   ]
  },
  {
   "cell_type": "markdown",
   "metadata": {},
   "source": [
    "Let's say your management wants you to test the efficacy of drug to keep the sugar level below 100. They take random population for the testing the hypothesis and record the average sugar level of 80 people to get the average as $\\bar{X} = 102$ and variance $s^2 = 40$. Now, as you are statistical expert in the company, your manager wants you to test whether the sample indicates the population mean is below 100 at 90% confidence level or 10% significance level. Based on the test the company will decide whether the drug is effective or not.\n",
    "<br></br>\n",
    "<br></br>\n",
    "Let's follow the steps from the table:\n",
    "\n",
    "1. <b>Decide which test to use</b>: Since the sample size is greater than 50, we will use the <b>z-test</b>.\n",
    "<br></br>\n",
    "<br></br>\n",
    "2. <b>Hypothesis contruction</b>:  \\begin{equation} H_o : \\mu <=100  \\\\ H_1 : \\mu > 100 \\end{equation}\n",
    "<br></br>\n",
    "<br></br>\n",
    "3. <b>Compute t_score</b>: Since it is one tailed test with greater than sign in alternate hypothesis we have to compute right tail with 90% from normal distribution. We use the scipy module here to compute this. Alternatively we could use the z-table. This comes out to be 1.28 for right tail.\n",
    "<br></br>\n",
    "<br></br>\n",
    "4. <b>Compute Critical value</b>\n",
    "<br></br>\n",
    "<br></br>\n",
    "5. <b> Decision Making</b>"
   ]
  },
  {
   "cell_type": "code",
   "execution_count": 25,
   "metadata": {},
   "outputs": [
    {
     "name": "stdout",
     "output_type": "stream",
     "text": [
      "1.2815515655446004\n"
     ]
    }
   ],
   "source": [
    "from scipy.stats import norm\n",
    "z_c = abs(norm.ppf(0.9))\n",
    "print(z_c)"
   ]
  },
  {
   "cell_type": "code",
   "execution_count": 26,
   "metadata": {},
   "outputs": [
    {
     "name": "stdout",
     "output_type": "stream",
     "text": [
      "Reject the null for x_bar 102 and confidence region upper bound [100.90619380243682]\n"
     ]
    }
   ],
   "source": [
    "# Critical value and decision making\n",
    "s_squared= 40\n",
    "\n",
    "n=80\n",
    "\n",
    "x_bar = 102\n",
    "\n",
    "mu_not = 100\n",
    "\n",
    "z_upper = mu_not + (z_c)*(np.sqrt(s_squared/n))\n",
    "\n",
    "if x_bar < z_upper:\n",
    "    print('Fail to reject the null for x_bar {} and confidence region upper bound [{}]'.format(x_bar, z_upper))\n",
    "else:\n",
    "    print('Reject the null for x_bar {} and confidence region upper bound [{}]'.format(x_bar, z_upper))"
   ]
  },
  {
   "cell_type": "markdown",
   "metadata": {},
   "source": [
    "#### A/B Testing"
   ]
  },
  {
   "cell_type": "markdown",
   "metadata": {},
   "source": [
    "1. Divide your consumers/testing population into two groups called A (control group) and B (test or variation group) generally equal in proportion. The test group is shown the new features you want to test wherein the control group are shown existing or alternate features. \n",
    "<br></br>\n",
    "<br></br>\n",
    "2. Contruct the hypothesis, generally it will something like: \\begin{equation} H_o : \\mu_A - \\mu_B <=0  \\\\ H_1 : \\mu_A - \\mu_B > 0\\end{equation} i.e. you are testing whether the new feature improves revenue, user click rate, etc. which are represented by $\\mu_A$ and $\\mu_B$\n",
    "<br></br>\n",
    "<br></br>\n",
    "3. Use the unpaired t-test to make decisions on your hypothesis at the desired significance level. Note that this is <b>similar to one-tailed test example we saw except for a few differences</b>.\n",
    "<br></br>\n",
    "<br></br>\n",
    "4. Following are some examples where you can use A/B testing:\n",
    "<br></br>\n",
    "<br></br>\n",
    "    a.) A new feature (example button, landing page, etc.) is being introduced on the product UI of an e-commerce company. The test group is shown the new UI while the control group is shown the old UI. Data is recorded and hypothesis tested for user conversions before rolling out the new UI to entire user population.\n",
    "<br></br>\n",
    "<br></br>\n",
    "    b.) You developed a new model for optimised scheduling of movies for a cinema site (like PVR in India). The test group (e.g. 10 cinema sites) is shown the new UI schedules for booking movies while the control group (e.g. 10 cinema sites) is shown the old UI (with let's say manual scheduling). Data is recorded and hypothesis tested for profits before rolling out the model to entire user population.\n",
    "<br></br>\n",
    "<br></br>\n",
    "    c.) Any other use case where you need to compare parameters (like profit, user conversion, etc.) across two samples derived from same population in an i.i.d (independent and identical distribution) fashion. \n",
    "    \n",
    "\n"
   ]
  },
  {
   "cell_type": "markdown",
   "metadata": {},
   "source": [
    "Let's say you want to test the your model for scheduling movie schedule for you cinema site use case. You get approval to perform A/B testing based on internal results and select a test and a control site to record observations. For a period of 30 days you record the daily profit by existing model and your model. You then perform unpaired t-test to test your hypothesis. Inline with the table:"
   ]
  },
  {
   "cell_type": "code",
   "execution_count": 27,
   "metadata": {},
   "outputs": [
    {
     "name": "stdout",
     "output_type": "stream",
     "text": [
      "Fail to reject the null for x_bar 500 and critical region upper bound [853.3415621944013]\n"
     ]
    }
   ],
   "source": [
    "# Record the parametes for test(your model) and control(old model):\n",
    "\n",
    "#Test the null hypothesis that mu_control - mu_test <= 0 w.r.t alternate of mu_control - mu_test > 0\n",
    "#We test at 90% confidence level of 10% significance\n",
    "\n",
    "mu_not = 0\n",
    "\n",
    "n_test = 30\n",
    "\n",
    "n_control = 30\n",
    "\n",
    "sig = 0.1\n",
    "\n",
    "#Recorded 30 observations\n",
    "x_test = 40000\n",
    "x_control = 40500\n",
    "\n",
    "s_test_squared = 4000000    # Standard deviation of difference\n",
    "s_control_squared = 9000000\n",
    "\n",
    "\n",
    "#Derived variables\n",
    "df = n_test + n_control - 2\n",
    "\n",
    "s_d = np.sqrt(s_test_squared/n_test + s_control_squared/n_control)\n",
    "\n",
    "x_bar = x_control - x_test\n",
    "\n",
    "from scipy import special\n",
    "t_c = abs(special.nctdtrit(df,0,sig))\n",
    "\n",
    "t_upper = mu_not + (t_c)*(s_d)\n",
    "if x_bar < t_upper:\n",
    "    print('Fail to reject the null for x_bar {} and critical region upper bound [{}]'.format(x_bar, t_upper))\n",
    "else:\n",
    "    print('Reject the null for x_bar {} and critical region upper bound [{}]'.format(x_bar, t_upper))"
   ]
  },
  {
   "cell_type": "code",
   "execution_count": 28,
   "metadata": {},
   "outputs": [],
   "source": [
    "# You can also use scipy.stats.ttest_ind directly to perform the test by providing raw arrays"
   ]
  },
  {
   "cell_type": "code",
   "execution_count": 30,
   "metadata": {},
   "outputs": [
    {
     "name": "stdout",
     "output_type": "stream",
     "text": [
      "0.22529857136770137\n",
      "Fail to reject the null for p-value 0.22529857136770137 and alpha [0.1]\n"
     ]
    }
   ],
   "source": [
    "# Using p-value\n",
    "from scipy import stats\n",
    "\n",
    "t = (x_control - x_test)/(s_d)\n",
    "'''\n",
    "Test statistics: \n",
    "Transform critical value equations such that Z_c is on one side, \n",
    "the rest of the quantity on the other side is called test statistics\n",
    "'''\n",
    "p = 1 - stats.t.cdf(t,df=df)\n",
    "\n",
    "print(p)\n",
    "\n",
    "'''\n",
    "p-value < alpha : reject H_o\n",
    "p-value >= alpha : Fail to reject H_o\n",
    "'''\n",
    "\n",
    "if p >= sig:\n",
    "    print('Fail to reject the null for p-value {} and alpha [{}]'.format(p, sig))\n",
    "else:\n",
    "    print('Reject the null for p-value {} and alpha [{}]'.format(p, sig))"
   ]
  },
  {
   "cell_type": "markdown",
   "metadata": {},
   "source": [
    "### p-value and Types of Error"
   ]
  },
  {
   "cell_type": "markdown",
   "metadata": {},
   "source": [
    "1. Hypothesis Testing: <b>Null and alternate hypothesis</b>, i.e. $H_o$ and $H_1$ respectively.\n",
    "<br></br>\n",
    "<br></br>\n",
    "2. Types of Tests: <b> Two tailed tests and one tailed tests</b>.\n",
    "<br></br>\n",
    "<br></br>\n",
    "3. Decision Making: <b>Critical value method and p-value method</b>."
   ]
  },
  {
   "cell_type": "markdown",
   "metadata": {},
   "source": [
    "<b>p-value</b>"
   ]
  },
  {
   "cell_type": "markdown",
   "metadata": {},
   "source": [
    "1. Probability of failing to reject the null hypothesis. \n",
    "<br></br>\n",
    "<br></br>\n",
    "2. Higher the p-value, higher is the probability of failing to reject the null hypothesis. \n",
    "<br></br>\n",
    "<br></br>\n",
    "3. Lower the p-value, higher is the probability of rejecting the null hypothesis.\n",
    "<br></br>\n",
    "<br></br>\n",
    "4. p-value can also defined as area under the curve past the observed data point.\n",
    "\n"
   ]
  },
  {
   "cell_type": "markdown",
   "metadata": {},
   "source": [
    "p-value method steps:\n",
    "\n",
    "1. Constuct the null and alternate hypothesis.\n",
    "<br></br>\n",
    "<br></br>\n",
    "2. Calculate the test statitics corresponding to the sample parameter, i.e. $\\bar{X}$ or $\\bar{X_1 - X_2}$ as applicable. \n",
    "<br></br>\n",
    "<br></br>\n",
    "3. Calculate the p-value from test statitics for sample value. This is done from distribution lookup table\n",
    "<br></br>\n",
    "<br></br>\n",
    "4. For 2-tailed tests double the p-value, for 1-tailed test, skip this step.\n",
    "<br></br>\n",
    "<br></br>\n",
    "5. If $pValue > \\alpha$ <b>: Fail to reject Null</b>. Otherwise reject null hypothesis\n",
    "\n",
    "Note:\n",
    "To compute test statitics transform the critical value computation equation as follows:\n",
    "\n",
    "1. Keep $Z_c$ or $t_c$ on left hand side of equation and take all variables to other side.\n",
    "<br></br>\n",
    "<br></br>\n",
    "2. Replace $CV$ by sample statitics values. The parameters on the right hand side representst the test statistics.\n",
    "<br></br>\n",
    "<br></br>\n",
    "E.g. If critical value is given by $CV = \\mu_o + Z_c * (\\sigma/\\sqrt(n))$, the test statistics is represented by $t = \\frac{\\bar{x}-\\mu_o}{\\sigma/\\sqrt(n)}$\n"
   ]
  },
  {
   "cell_type": "markdown",
   "metadata": {},
   "source": [
    "<b>Types of Errors</b>"
   ]
  },
  {
   "cell_type": "markdown",
   "metadata": {},
   "source": [
    "1. <b> Type 1 error</b>: Rejecting null when it it true. Also called the level of significance or $\\alpha$. How to choose alpha\n",
    "<br></br>\n",
    "<br></br>\n",
    "2. <b>Type 2 error</b>: Failing to reject the null when it is false. Also called $\\beta$."
   ]
  },
  {
   "cell_type": "markdown",
   "metadata": {},
   "source": [
    "![types_of_error](types_of_error.PNG)"
   ]
  },
  {
   "cell_type": "markdown",
   "metadata": {},
   "source": [
    "<b>Examples</b>:\n",
    "1. <b>Type-1 error</b>: Let's take the example of golf ball manufacturer developing premium golf balls. You conducting the statistical experiment with hypothesis construction on golf ball weight as: \\begin{equation} H_o : \\mu = 1.211  \\\\ H_1 : \\mu \\neq 1.211 \\end{equation}\n",
    "Making a type one error (or having a high significance level) where you reject the null when it was true will lead to closing of production lines and debugging of the issue. Since it is a type-1 error and null is true the production line is actually okay. You will end up incurring heavy losses to the company.\n",
    "<br></br>\n",
    "<br></br>\n",
    "2. <b>Type-2 error</b>: Let's take the example of the pharmaceutical company developing drug to reduce sugar level. You are conducting the statistical experiment with hypothesis construction on sugar level as: \\begin{equation} H_o : \\mu <=100  \\\\ H_1 : \\mu \\gt 100 \\end{equation}\n",
    "Making a type-1 error you will incur some losses to the company, but making a type-2 error is more critical here. Because if you fail to reject the null when it was false, the drug will be released to the market and people can actually die from using it.\n",
    "\n",
    "\n",
    "\n",
    "<b>Side Notes</b>:\n",
    "1. $\\alpha$ and $\\beta$ are inversvly proportional and hence we cannot optimise on both.\n",
    "<br></br>\n",
    "<br></br>\n",
    "2. Can we optimise one of them to zero? (ideally yes, practically no!), i.e. have $\\alpha$ as 0!. What happens to $\\beta$ then? (The chances of type-2 error increases to a very high value).\n",
    "<br></br>\n",
    "<br></br>\n",
    "3. Both type-1 and type-2 errors can be reduced by increasing data quality including but not limited to sample size and unbiased sample. However for a fixed sample size, the inverse proportionality relation holds true.\n",
    "<br></br>\n",
    "<br></br>\n",
    "4. Generally we keep an $\\alpha$ between <b>1% to 10%</b> depending on the use case. You can take <b>5% as default</b>."
   ]
  },
  {
   "cell_type": "code",
   "execution_count": null,
   "metadata": {},
   "outputs": [],
   "source": []
  }
 ],
 "metadata": {
  "kernelspec": {
   "display_name": "Python 3",
   "language": "python",
   "name": "python3"
  },
  "language_info": {
   "codemirror_mode": {
    "name": "ipython",
    "version": 3
   },
   "file_extension": ".py",
   "mimetype": "text/x-python",
   "name": "python",
   "nbconvert_exporter": "python",
   "pygments_lexer": "ipython3",
   "version": "3.8.3"
  }
 },
 "nbformat": 4,
 "nbformat_minor": 4
}
