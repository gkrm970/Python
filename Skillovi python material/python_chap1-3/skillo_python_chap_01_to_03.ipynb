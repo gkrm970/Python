{
 "cells": [
  {
   "cell_type": "markdown",
   "metadata": {},
   "source": [
    "<left> ![Python](pylogo.png) </left>"
   ]
  },
  {
   "cell_type": "markdown",
   "metadata": {},
   "source": [
    "# Starting with your journey in Python Programming\n",
    "\n",
    "Hello, welcome to the Basic Python Programming Course.\n",
    "\n",
    "\n",
    "In this chapter we are going to explore the basic fundamentals of Python Programming, and pros and cons of using Python for Data Science.\n",
    "\n",
    "\n",
    "\n",
    "All the very best. Your effort is well spent. Do not hurry up.\n",
    "<br>And most important Have FUN.\n",
    "<br> <font color=blue> Happy coding!! </font>\n",
    "\n",
    "\n",
    "\n",
    "\n"
   ]
  },
  {
   "cell_type": "code",
   "execution_count": null,
   "metadata": {},
   "outputs": [],
   "source": []
  },
  {
   "cell_type": "markdown",
   "metadata": {},
   "source": [
    "> Python is an experiment in how much freedom programmers need. Too much freedom and nobody can read another's code; too little and expressiveness is endangered.\n",
    "<p style='text-align: right;'> <font color=orange> -- Guido van Rossum  </font>  </p> \n",
    "\n",
    "\n",
    "<br> \n",
    "\n",
    " <br> <br>                                   <u> <b><center>  <font color=black> R or Python  </font>  </center></b> </u>\n",
    "\n",
    "\n",
    "\n",
    "\n",
    "![Python](bloom1.png)\n"
   ]
  },
  {
   "cell_type": "code",
   "execution_count": null,
   "metadata": {},
   "outputs": [],
   "source": []
  },
  {
   "cell_type": "markdown",
   "metadata": {},
   "source": [
    "\n",
    "\n",
    "\n",
    " \n",
    "\n",
    "![Python](python.jpg)"
   ]
  },
  {
   "cell_type": "markdown",
   "metadata": {},
   "source": [
    "##  <center> Why Python ?? </center>"
   ]
  },
  {
   "cell_type": "markdown",
   "metadata": {},
   "source": [
    "<left>![Python](whypython.png) </left>"
   ]
  },
  {
   "cell_type": "markdown",
   "metadata": {},
   "source": [
    "<b> <font color=orange> Advantages (Pros) -- </font> </b>\n",
    "<p> &#9656; Easy to learn (easier than English, Hindi, Tamil, Java, C, etc.)</p>  \n",
    "<p> &#9656; Very Powerful  (a lot can be done in single line of code)</p>  \n",
    "<p> &#9656; Memory Management</p>  \n",
    "<p> &#9656; Garbage cleaning </p>  \n",
    "<p> &#9656; Free and Open source</p>  \n",
    "<p> &#9656; We get a job in any industry if we know python </p>  "
   ]
  },
  {
   "cell_type": "code",
   "execution_count": null,
   "metadata": {},
   "outputs": [],
   "source": []
  },
  {
   "cell_type": "code",
   "execution_count": 2,
   "metadata": {},
   "outputs": [],
   "source": [
    "a = [2, 3, 4, 5, 6, 7]"
   ]
  },
  {
   "cell_type": "code",
   "execution_count": 3,
   "metadata": {},
   "outputs": [
    {
     "data": {
      "text/plain": [
       "[7, 6, 5, 4, 3, 2]"
      ]
     },
     "execution_count": 3,
     "metadata": {},
     "output_type": "execute_result"
    }
   ],
   "source": [
    "a[::-1]"
   ]
  },
  {
   "cell_type": "code",
   "execution_count": null,
   "metadata": {},
   "outputs": [],
   "source": []
  },
  {
   "cell_type": "code",
   "execution_count": null,
   "metadata": {},
   "outputs": [],
   "source": []
  },
  {
   "cell_type": "code",
   "execution_count": null,
   "metadata": {},
   "outputs": [],
   "source": []
  },
  {
   "cell_type": "code",
   "execution_count": null,
   "metadata": {},
   "outputs": [],
   "source": []
  },
  {
   "cell_type": "markdown",
   "metadata": {},
   "source": [
    "<b> <font color=orange> Cons -- </font> </b>\n",
    "<p> &#9656; Free and Open Source (Versoning is an issue)</p>\n",
    "<p> &#9656; Slow as compared to C, Java</p>\n",
    "<p> &#9656; You'll not get a feel of being super human at start</p>"
   ]
  },
  {
   "cell_type": "markdown",
   "metadata": {},
   "source": [
    "### Interpreter and Compiler"
   ]
  },
  {
   "cell_type": "markdown",
   "metadata": {},
   "source": [
    "<font color=orange> IMPORTANT Facts </font>\n",
    "- It's an interpreter language.. (executes line by line)\n",
    "- Dynamically typed Language..\n",
    "- Strong language"
   ]
  },
  {
   "cell_type": "code",
   "execution_count": null,
   "metadata": {},
   "outputs": [],
   "source": []
  },
  {
   "cell_type": "code",
   "execution_count": null,
   "metadata": {},
   "outputs": [],
   "source": []
  },
  {
   "cell_type": "markdown",
   "metadata": {},
   "source": [
    "# Variables and Overview of data types\n",
    "\n",
    "### What is a Variable?\n",
    "A variable is something that holds a value that may change. In simplest terms, a variable is just a box that you can put stuff in. You can use variables to store all kinds of stuff, but for now, we are just going to look at storing numbers in variables.\n",
    "\n",
    "Python is completely object oriented, and not \"statically typed\". You do not need to declare variables before using them, or declare their type. Every variable in Python is an object.\n",
    "\n",
    "### What is a data-type?\n",
    "In Python, like in all programming languages, data types are used to classify one particular type of data. This is important because the specific data type you use will determine what values you can assign to it and what you can do to it (including what operations you can perform on it).\n",
    "\n",
    "eg.&emsp;Lamborgini is an object of data type \"car\". \n",
    "<br>&emsp;&emsp; Can \"Bajaj Yamaha\" be an object of type \"car\"?\n",
    "<br>&emsp;&emsp; No, because \"Bajaj Yamaha\" is a bike.\n",
    "<br>&emsp;&emsp; This is the significance of data type.\n",
    "\n",
    "<font color=orange>### IMPORTANT NOTE </font>\n",
    "<br>Python provides extensive documentation for all it syntax, library etc.\n",
    "Make sure that you start to become comfortable in referring to it.\n",
    "Here is the link to the basic built-in data types.\n",
    "\n",
    "Refer : https://docs.python.org/3.6/library/stdtypes.html"
   ]
  },
  {
   "cell_type": "code",
   "execution_count": null,
   "metadata": {},
   "outputs": [],
   "source": [
    "1. Statically Typed - C, C++\n",
    "\n",
    "int a = 5\n",
    "int a = 'c'\n",
    "\n",
    "\n",
    "2. Dynamically Typed -- Python\n",
    "\n",
    "a = 5"
   ]
  },
  {
   "cell_type": "code",
   "execution_count": 1,
   "metadata": {},
   "outputs": [
    {
     "name": "stdout",
     "output_type": "stream",
     "text": [
      "5\n"
     ]
    }
   ],
   "source": [
    "a = 5\n",
    "print(a)"
   ]
  },
  {
   "cell_type": "code",
   "execution_count": 3,
   "metadata": {},
   "outputs": [],
   "source": [
    "a = 'c'"
   ]
  },
  {
   "cell_type": "code",
   "execution_count": 4,
   "metadata": {},
   "outputs": [
    {
     "name": "stdout",
     "output_type": "stream",
     "text": [
      "c\n"
     ]
    }
   ],
   "source": [
    "print(a)"
   ]
  },
  {
   "cell_type": "code",
   "execution_count": 5,
   "metadata": {},
   "outputs": [
    {
     "name": "stdout",
     "output_type": "stream",
     "text": [
      "<class 'str'>\n"
     ]
    }
   ],
   "source": [
    "print(type(a))"
   ]
  },
  {
   "cell_type": "code",
   "execution_count": null,
   "metadata": {},
   "outputs": [],
   "source": []
  },
  {
   "cell_type": "code",
   "execution_count": 2,
   "metadata": {},
   "outputs": [
    {
     "name": "stdout",
     "output_type": "stream",
     "text": [
      "<class 'int'>\n"
     ]
    }
   ],
   "source": [
    "print(type(a))"
   ]
  },
  {
   "cell_type": "code",
   "execution_count": null,
   "metadata": {},
   "outputs": [],
   "source": []
  },
  {
   "cell_type": "markdown",
   "metadata": {},
   "source": [
    "### Rules for Naming Variables -"
   ]
  },
  {
   "cell_type": "code",
   "execution_count": null,
   "metadata": {},
   "outputs": [],
   "source": [
    "Variables names must have only alphanumeric characters."
   ]
  },
  {
   "cell_type": "code",
   "execution_count": null,
   "metadata": {},
   "outputs": [],
   "source": [
    "Variables names must start with a letter or an underscore."
   ]
  },
  {
   "cell_type": "code",
   "execution_count": null,
   "metadata": {},
   "outputs": [],
   "source": [
    "The remainder of your variable name may consist of letters, numbers and underscores."
   ]
  },
  {
   "cell_type": "code",
   "execution_count": null,
   "metadata": {},
   "outputs": [],
   "source": [
    "Names are case sensitive."
   ]
  },
  {
   "cell_type": "code",
   "execution_count": null,
   "metadata": {},
   "outputs": [],
   "source": []
  },
  {
   "cell_type": "code",
   "execution_count": null,
   "metadata": {},
   "outputs": [],
   "source": [
    "0-9, A-Z, a-z, _"
   ]
  },
  {
   "cell_type": "code",
   "execution_count": null,
   "metadata": {},
   "outputs": [],
   "source": [
    "a = 5"
   ]
  },
  {
   "cell_type": "code",
   "execution_count": null,
   "metadata": {},
   "outputs": [],
   "source": [
    "a = 'c'"
   ]
  },
  {
   "cell_type": "code",
   "execution_count": null,
   "metadata": {},
   "outputs": [],
   "source": [
    "1a = 5"
   ]
  },
  {
   "cell_type": "code",
   "execution_count": null,
   "metadata": {},
   "outputs": [],
   "source": [
    "_a = 5"
   ]
  },
  {
   "cell_type": "code",
   "execution_count": null,
   "metadata": {},
   "outputs": [],
   "source": [
    "a_1 = 'c'"
   ]
  },
  {
   "cell_type": "code",
   "execution_count": null,
   "metadata": {},
   "outputs": [],
   "source": [
    "a, A"
   ]
  },
  {
   "cell_type": "code",
   "execution_count": 6,
   "metadata": {},
   "outputs": [],
   "source": [
    "a = 5"
   ]
  },
  {
   "cell_type": "code",
   "execution_count": 7,
   "metadata": {},
   "outputs": [
    {
     "ename": "NameError",
     "evalue": "name 'A' is not defined",
     "output_type": "error",
     "traceback": [
      "\u001b[0;31m---------------------------------------------------------------------------\u001b[0m",
      "\u001b[0;31mNameError\u001b[0m                                 Traceback (most recent call last)",
      "\u001b[0;32m<ipython-input-7-939330b76721>\u001b[0m in \u001b[0;36m<module>\u001b[0;34m\u001b[0m\n\u001b[0;32m----> 1\u001b[0;31m \u001b[0mprint\u001b[0m\u001b[0;34m(\u001b[0m\u001b[0mA\u001b[0m\u001b[0;34m)\u001b[0m\u001b[0;34m\u001b[0m\u001b[0;34m\u001b[0m\u001b[0m\n\u001b[0m",
      "\u001b[0;31mNameError\u001b[0m: name 'A' is not defined"
     ]
    }
   ],
   "source": [
    "print(A)"
   ]
  },
  {
   "cell_type": "code",
   "execution_count": null,
   "metadata": {},
   "outputs": [],
   "source": []
  },
  {
   "cell_type": "code",
   "execution_count": null,
   "metadata": {},
   "outputs": [],
   "source": [
    "3 + 5"
   ]
  },
  {
   "cell_type": "code",
   "execution_count": null,
   "metadata": {},
   "outputs": [],
   "source": []
  },
  {
   "cell_type": "code",
   "execution_count": null,
   "metadata": {},
   "outputs": [],
   "source": []
  },
  {
   "cell_type": "code",
   "execution_count": null,
   "metadata": {},
   "outputs": [],
   "source": []
  },
  {
   "cell_type": "code",
   "execution_count": null,
   "metadata": {},
   "outputs": [],
   "source": []
  },
  {
   "cell_type": "markdown",
   "metadata": {},
   "source": [
    "# Operators"
   ]
  },
  {
   "cell_type": "markdown",
   "metadata": {},
   "source": [
    "Python language supports the following types of operators.\n",
    "\n",
    "Arithmetic Operators<br>\n",
    "Comparison (Relational) Operators<br>\n",
    "Assignment Operators<br>\n",
    "Logical Operators<br>\n"
   ]
  },
  {
   "cell_type": "markdown",
   "metadata": {},
   "source": [
    "** First lets clear out the concept of operators and operands. **\n",
    "\n",
    "Operators are special tokens that represent computations like addition, multiplication and division,etc.<br>The values the operator works on are called operands."
   ]
  },
  {
   "cell_type": "markdown",
   "metadata": {},
   "source": [
    "Lets go over all the types of operators"
   ]
  },
  {
   "cell_type": "markdown",
   "metadata": {},
   "source": [
    "# 1.0  Arithmetic Operators\n"
   ]
  },
  {
   "cell_type": "markdown",
   "metadata": {},
   "source": [
    "<tbody>\n",
    "\t\t<tr>\n",
    "\t\t\t<th style=\"text-align:center;\">Operator</th>\n",
    "\t\t\t<th style=\"text-align:center;width:45%\">Meaning</th>\n",
    "\t\t\t<th style=\"text-align:center;\">Example</th>\n",
    "\t\t</tr>\n",
    "\t\t<tr>\n",
    "\t\t\t<td style=\"text-align:center;\">+</td>\n",
    "\t\t\t<td style=\"text-align:center;\">Add two operands or unary plus</td>\n",
    "\t\t\t<td style=\"text-align:center;\">x + y<br>\n",
    "\t\t\t</td>\n",
    "\t\t</tr>\n",
    "\t\t<tr>\n",
    "\t\t\t<td style=\"text-align:center;\">-</td>\n",
    "\t\t\t<td style=\"text-align:center;\">Subtract right operand from the left or unary minus</td>\n",
    "\t\t\t<td style=\"text-align:center;\">x - y<br></td>\n",
    "\t\t</tr>\n",
    "\t\t<tr>\n",
    "\t\t\t<td style=\"text-align:center;\">\\**</td>\n",
    "\t\t\t<td style=\"text-align:center;\">Multiply two operands</td>\n",
    "\t\t\t<td style=\"text-align:center;\">x \\** y</td>\n",
    "\t\t</tr>\n",
    "\t\t<tr>\n",
    "\t\t\t<td style=\"text-align:center;\">/</td>\n",
    "\t\t\t<td style=\"text-align:center;\">Divide left operand by the right one (always results into float)</td>\n",
    "\t\t\t<td style=\"text-align:center;\">x / y</td>\n",
    "\t\t</tr>\n",
    "\t\t<tr>\n",
    "\t\t\t<td style=\"text-align:center;\">%</td>\n",
    "\t\t\t<td style=\"text-align:center;\">Modulus - remainder of the division of left operand by the right</td>\n",
    "\t\t\t<td style=\"text-align:center;\">x % y (remainder of x/y)</td>\n",
    "\t\t</tr>\n",
    "\t\t<tr>\n",
    "\t\t\t<td style=\"text-align:center;\">//</td>\n",
    "\t\t\t<td style=\"text-align:center;\">Floor division - division that results into whole number adjusted to the left in the number line</td>\n",
    "\t\t\t<td style=\"text-align:center;\">x // y (quotient of x/y)</td>\n",
    "\t\t</tr>\n",
    "\t\t<tr>\n",
    "\t\t\t<td style=\"text-align:center;\">&#42;&#42;</td>\n",
    "\t\t\t<td style=\"text-align:center;\">Exponent - left operand raised to the power of right</td>\n",
    "\t\t\t<td style=\"text-align:center;\">x&#42;&#42;y (x to the power y)</td>\n",
    "\t\t</tr>\n",
    "\t</tbody>"
   ]
  },
  {
   "cell_type": "markdown",
   "metadata": {},
   "source": [
    "Please refer the operators given in the table to solve following questions "
   ]
  },
  {
   "cell_type": "markdown",
   "metadata": {},
   "source": [
    "Given that"
   ]
  },
  {
   "cell_type": "code",
   "execution_count": 8,
   "metadata": {},
   "outputs": [],
   "source": [
    "a = 5.3\n",
    "b = 10\n",
    "\n",
    "c = 'text1'\n",
    "d = 'text2'"
   ]
  },
  {
   "cell_type": "markdown",
   "metadata": {
    "collapsed": true
   },
   "source": [
    "### Addition of two numbers\n",
    "Whenever you need to display the result you need to use **print** function."
   ]
  },
  {
   "cell_type": "code",
   "execution_count": 63,
   "metadata": {},
   "outputs": [
    {
     "name": "stdout",
     "output_type": "stream",
     "text": [
      "15.3\n",
      "text1text2\n"
     ]
    }
   ],
   "source": [
    "print(a+b)\n",
    "print(c+d)"
   ]
  },
  {
   "cell_type": "markdown",
   "metadata": {
    "collapsed": true
   },
   "source": [
    "### Subtraction of two numbers"
   ]
  },
  {
   "cell_type": "code",
   "execution_count": 64,
   "metadata": {},
   "outputs": [
    {
     "name": "stdout",
     "output_type": "stream",
     "text": [
      "-4.7\n"
     ]
    }
   ],
   "source": [
    "print(a-b)"
   ]
  },
  {
   "cell_type": "markdown",
   "metadata": {
    "collapsed": true
   },
   "source": [
    "### Multiplication of two numbers"
   ]
  },
  {
   "cell_type": "code",
   "execution_count": 65,
   "metadata": {},
   "outputs": [
    {
     "name": "stdout",
     "output_type": "stream",
     "text": [
      "53.0\n"
     ]
    }
   ],
   "source": [
    "print(a*b)"
   ]
  },
  {
   "cell_type": "code",
   "execution_count": 68,
   "metadata": {},
   "outputs": [
    {
     "name": "stdout",
     "output_type": "stream",
     "text": [
      "text3text3text3text3text3text3text3text3text3text3\n"
     ]
    }
   ],
   "source": [
    "print(10*\"text3\")"
   ]
  },
  {
   "cell_type": "markdown",
   "metadata": {},
   "source": [
    "### Mod (Remainder)"
   ]
  },
  {
   "cell_type": "code",
   "execution_count": 9,
   "metadata": {
    "scrolled": true
   },
   "outputs": [
    {
     "data": {
      "text/plain": [
       "5.3"
      ]
     },
     "execution_count": 9,
     "metadata": {},
     "output_type": "execute_result"
    }
   ],
   "source": [
    "a%b "
   ]
  },
  {
   "cell_type": "markdown",
   "metadata": {},
   "source": [
    "### Exponential"
   ]
  },
  {
   "cell_type": "code",
   "execution_count": 10,
   "metadata": {
    "scrolled": true
   },
   "outputs": [
    {
     "data": {
      "text/plain": [
       "1331"
      ]
     },
     "execution_count": 10,
     "metadata": {},
     "output_type": "execute_result"
    }
   ],
   "source": [
    "a = 11\n",
    "b = 3\n",
    "\n",
    "a**b"
   ]
  },
  {
   "cell_type": "code",
   "execution_count": null,
   "metadata": {},
   "outputs": [],
   "source": []
  },
  {
   "cell_type": "code",
   "execution_count": 14,
   "metadata": {},
   "outputs": [],
   "source": [
    "a = 5\n",
    "b  = 2"
   ]
  },
  {
   "cell_type": "code",
   "execution_count": 13,
   "metadata": {},
   "outputs": [
    {
     "name": "stdout",
     "output_type": "stream",
     "text": [
      "2.5\n"
     ]
    }
   ],
   "source": [
    "print(a/b)"
   ]
  },
  {
   "cell_type": "code",
   "execution_count": 15,
   "metadata": {},
   "outputs": [
    {
     "data": {
      "text/plain": [
       "2"
      ]
     },
     "execution_count": 15,
     "metadata": {},
     "output_type": "execute_result"
    }
   ],
   "source": [
    "a//b"
   ]
  },
  {
   "cell_type": "code",
   "execution_count": null,
   "metadata": {},
   "outputs": [],
   "source": []
  },
  {
   "cell_type": "code",
   "execution_count": null,
   "metadata": {},
   "outputs": [],
   "source": []
  },
  {
   "cell_type": "code",
   "execution_count": null,
   "metadata": {},
   "outputs": [],
   "source": []
  },
  {
   "cell_type": "markdown",
   "metadata": {
    "collapsed": true
   },
   "source": [
    "### Division of two numbers"
   ]
  },
  {
   "cell_type": "code",
   "execution_count": 14,
   "metadata": {},
   "outputs": [
    {
     "name": "stdout",
     "output_type": "stream",
     "text": [
      "0.5\n"
     ]
    }
   ],
   "source": [
    "print(a/b)"
   ]
  },
  {
   "cell_type": "markdown",
   "metadata": {
    "collapsed": true
   },
   "source": [
    "### Modulus operation for finding the remainder obtained when a is divided by b"
   ]
  },
  {
   "cell_type": "code",
   "execution_count": 15,
   "metadata": {},
   "outputs": [
    {
     "name": "stdout",
     "output_type": "stream",
     "text": [
      "5\n"
     ]
    }
   ],
   "source": [
    "print(a % b)"
   ]
  },
  {
   "cell_type": "markdown",
   "metadata": {
    "collapsed": true
   },
   "source": [
    "### Exponentiation operation: A number is raised to another number"
   ]
  },
  {
   "cell_type": "code",
   "execution_count": 16,
   "metadata": {},
   "outputs": [
    {
     "name": "stdout",
     "output_type": "stream",
     "text": [
      "9765625\n"
     ]
    }
   ],
   "source": [
    "print(a**b)"
   ]
  },
  {
   "cell_type": "markdown",
   "metadata": {
    "collapsed": true
   },
   "source": [
    "### Floor Division of two numbers for finding the quotient obtained when a is divided by b \n",
    "\n",
    "**Short revision**\n",
    "\n",
    "eg. a = 3 <br>\n",
    "    b = 2 <br>\n",
    "    a/b - > <br>\n",
    "<span style=\"display:inline-block; width: 45px;\"></span>quotient = 1 <br>\n",
    "<span style=\"display:inline-block; width: 45px;\"></span>remainder = 1 <br>\n",
    "\n",
    "Now try to find out the exact operator from the table given above which can give you the quotient "
   ]
  },
  {
   "cell_type": "code",
   "execution_count": 17,
   "metadata": {
    "collapsed": true
   },
   "outputs": [],
   "source": [
    "a = 20\n",
    "b = 6"
   ]
  },
  {
   "cell_type": "code",
   "execution_count": 18,
   "metadata": {},
   "outputs": [
    {
     "name": "stdout",
     "output_type": "stream",
     "text": [
      "3\n"
     ]
    }
   ],
   "source": [
    "print(a // b)"
   ]
  },
  {
   "cell_type": "code",
   "execution_count": null,
   "metadata": {},
   "outputs": [],
   "source": []
  },
  {
   "cell_type": "markdown",
   "metadata": {},
   "source": [
    "# 2.0  Comparison Operators"
   ]
  },
  {
   "cell_type": "markdown",
   "metadata": {},
   "source": [
    "<tbody><tr>\n",
    "<th style=\"text-align:center;width:10%\">Operator</th>\n",
    "<th style=\"text-align:center;width:45%\">Description</th>\n",
    "\n",
    "</tr>\n",
    "<tr>\n",
    "<td class=\"ts\" style=\"text-align:center;\" >==</td>\n",
    "<td style=\"text-align:center;\">If the values of two operands are equal, then the condition becomes true.</td>\n",
    "\n",
    "<tr>\n",
    "<td class=\"ts\" style=\"text-align:center;\">!=</td>\n",
    "<td style=\"text-align:center;\">If values of two operands are not equal, then condition becomes true.</td>\n",
    "\n",
    "</tr>\n",
    "<tr>\n",
    "<td class=\"ts\" style=\"text-align:center;\">&gt;</td>\n",
    "<td style=\"text-align:center;\">If the value of left operand is greater than the value of right operand, then condition becomes true.</td>\n",
    "</tr>\n",
    "<tr>\n",
    "<td class=\"ts\" style=\"text-align:center;\">&lt;</td>\n",
    "<td style=\"text-align:center;\">If the value of left operand is less than the value of right operand, then condition becomes true.</td>\n",
    "\n",
    "</tr>\n",
    "<tr>\n",
    "<td class=\"ts\" style=\"text-align:center;\">&gt;=</td>\n",
    "<td style=\"text-align:center;\">If the value of left operand is greater than or equal to the value of right operand, then condition becomes true.</td>\n",
    "\n",
    "</tr>\n",
    "<tr>\n",
    "<td class=\"ts\" style=\"text-align:center;\">&lt;=</td>\n",
    "<td style=\"text-align:center;\">If the value of left operand is less than or equal to the value of right operand, then condition becomes true.</td>\n",
    "\n",
    "</tr>\n",
    "</tbody>"
   ]
  },
  {
   "cell_type": "markdown",
   "metadata": {},
   "source": [
    "Given that"
   ]
  },
  {
   "cell_type": "code",
   "execution_count": 85,
   "metadata": {},
   "outputs": [],
   "source": [
    "a = 20\n",
    "b = 6"
   ]
  },
  {
   "cell_type": "code",
   "execution_count": 79,
   "metadata": {},
   "outputs": [
    {
     "name": "stdout",
     "output_type": "stream",
     "text": [
      "False\n"
     ]
    }
   ],
   "source": [
    "print(a == b)"
   ]
  },
  {
   "cell_type": "code",
   "execution_count": 16,
   "metadata": {},
   "outputs": [
    {
     "data": {
      "text/plain": [
       "True"
      ]
     },
     "execution_count": 16,
     "metadata": {},
     "output_type": "execute_result"
    }
   ],
   "source": [
    "a>b"
   ]
  },
  {
   "cell_type": "code",
   "execution_count": 17,
   "metadata": {},
   "outputs": [
    {
     "data": {
      "text/plain": [
       "True"
      ]
     },
     "execution_count": 17,
     "metadata": {},
     "output_type": "execute_result"
    }
   ],
   "source": [
    "b<a"
   ]
  },
  {
   "cell_type": "code",
   "execution_count": 18,
   "metadata": {},
   "outputs": [
    {
     "data": {
      "text/plain": [
       "True"
      ]
     },
     "execution_count": 18,
     "metadata": {},
     "output_type": "execute_result"
    }
   ],
   "source": [
    "a!=b"
   ]
  },
  {
   "cell_type": "code",
   "execution_count": null,
   "metadata": {},
   "outputs": [],
   "source": []
  },
  {
   "cell_type": "code",
   "execution_count": null,
   "metadata": {},
   "outputs": [],
   "source": []
  },
  {
   "cell_type": "code",
   "execution_count": null,
   "metadata": {},
   "outputs": [],
   "source": []
  },
  {
   "cell_type": "code",
   "execution_count": null,
   "metadata": {},
   "outputs": [],
   "source": []
  },
  {
   "cell_type": "code",
   "execution_count": null,
   "metadata": {},
   "outputs": [],
   "source": []
  },
  {
   "cell_type": "code",
   "execution_count": null,
   "metadata": {},
   "outputs": [],
   "source": []
  },
  {
   "cell_type": "code",
   "execution_count": null,
   "metadata": {},
   "outputs": [],
   "source": []
  },
  {
   "cell_type": "code",
   "execution_count": null,
   "metadata": {},
   "outputs": [],
   "source": []
  },
  {
   "cell_type": "code",
   "execution_count": 83,
   "metadata": {},
   "outputs": [
    {
     "name": "stdout",
     "output_type": "stream",
     "text": [
      "True\n"
     ]
    }
   ],
   "source": [
    "print(a >= b)"
   ]
  },
  {
   "cell_type": "code",
   "execution_count": 82,
   "metadata": {},
   "outputs": [
    {
     "name": "stdout",
     "output_type": "stream",
     "text": [
      "False\n"
     ]
    }
   ],
   "source": [
    "print(a <= b)"
   ]
  },
  {
   "cell_type": "code",
   "execution_count": 84,
   "metadata": {},
   "outputs": [
    {
     "name": "stdout",
     "output_type": "stream",
     "text": [
      "True\n"
     ]
    }
   ],
   "source": [
    "print(a != b)"
   ]
  },
  {
   "cell_type": "code",
   "execution_count": null,
   "metadata": {},
   "outputs": [],
   "source": []
  },
  {
   "cell_type": "code",
   "execution_count": null,
   "metadata": {},
   "outputs": [],
   "source": []
  },
  {
   "cell_type": "markdown",
   "metadata": {},
   "source": [
    "# Logical Operators"
   ]
  },
  {
   "cell_type": "markdown",
   "metadata": {},
   "source": [
    "<tbody><tr>\n",
    "<th style=\"text-align:center;width:20%\">Operator</th>\n",
    "<th style=\"text-align:center;width:45%\">Description</th>\n",
    "<th style=\"text-align:center;\">Example</th>\n",
    "</tr>\n",
    "<tr>\n",
    "<td style=\"text-align:center;\">and Logical AND</td>\n",
    "<td class=\"ts\" style=\"text-align:center;\">If both the operands are true then condition becomes true.</td>\n",
    "<td class=\"ts\" style=\"text-align:center;\">(a and b) is true.</td>\n",
    "</tr>\n",
    "<tr>\n",
    "<td style=\"text-align:center;\">or Logical OR</td>\n",
    "<td class=\"ts\" style=\"text-align:center;\">If any of the two operands are non-zero then condition becomes true.</td>\n",
    "<td class=\"ts\" style=\"text-align:center;\">(a or b) is true.</td>\n",
    "</tr>\n",
    "<tr>\n",
    "<td style=\"text-align:center;\">not Logical NOT</td>\n",
    "<td class=\"ts\" style=\"text-align:center;\">Used to reverse the logical state of its operand.</td>\n",
    "<td class=\"ts\" style=\"text-align:center;\">Not(a and b) is false.</td>\n",
    "</tr>\n",
    "</tbody>"
   ]
  },
  {
   "cell_type": "markdown",
   "metadata": {},
   "source": [
    "Given that"
   ]
  },
  {
   "cell_type": "code",
   "execution_count": null,
   "metadata": {},
   "outputs": [],
   "source": []
  },
  {
   "cell_type": "code",
   "execution_count": 21,
   "metadata": {},
   "outputs": [],
   "source": [
    "a = False\n",
    "b = False"
   ]
  },
  {
   "cell_type": "code",
   "execution_count": 102,
   "metadata": {
    "scrolled": true
   },
   "outputs": [
    {
     "name": "stdout",
     "output_type": "stream",
     "text": [
      "False\n"
     ]
    }
   ],
   "source": [
    "print(a and b)"
   ]
  },
  {
   "cell_type": "code",
   "execution_count": 22,
   "metadata": {},
   "outputs": [
    {
     "data": {
      "text/plain": [
       "False"
      ]
     },
     "execution_count": 22,
     "metadata": {},
     "output_type": "execute_result"
    }
   ],
   "source": [
    "a or b"
   ]
  },
  {
   "cell_type": "code",
   "execution_count": 23,
   "metadata": {},
   "outputs": [
    {
     "data": {
      "text/plain": [
       "True"
      ]
     },
     "execution_count": 23,
     "metadata": {},
     "output_type": "execute_result"
    }
   ],
   "source": [
    "not a"
   ]
  },
  {
   "cell_type": "code",
   "execution_count": null,
   "metadata": {},
   "outputs": [],
   "source": []
  },
  {
   "cell_type": "markdown",
   "metadata": {},
   "source": [
    "###  'and' operator for finding whether a and b both are divisible by 5. \n",
    "\n",
    "<br> First we will write the code to check a is divisible by 5 \n",
    "<br> (a % 5) == 0\n",
    "<br> Then we will write the code to check b is divisible by 5\n",
    "<br> (b % 5) == 0\n",
    "<br> Now connect the two conditions by AND operator\n",
    "<br> You will have to use brackets to make this into a single statement\n",
    "<br> e.g. (a % 5) == 0 and (b % 5) == 0\n",
    "<br> and now when you print the result, you need to add additional braces\n",
    "\n",
    "<font color=orange>### IMPORTANT NOTE </font>\n",
    "<br>\"AND\" operator will return True only when all the conditions are True "
   ]
  },
  {
   "cell_type": "code",
   "execution_count": 16,
   "metadata": {},
   "outputs": [
    {
     "data": {
      "text/plain": [
       "True"
      ]
     },
     "execution_count": 16,
     "metadata": {},
     "output_type": "execute_result"
    }
   ],
   "source": [
    "PEMDAS, BODMAS\n",
    "a = 10\n",
    "b = 20\n",
    "\n",
    "((a % 5) == 0) and ((b % 5) == 0)"
   ]
  },
  {
   "cell_type": "markdown",
   "metadata": {},
   "source": [
    "### 'or' operator for finding whether either a or b is divisible by 5.\n",
    "\n",
    "<br>We will follow similar procedure that we had followed in the previous example and in the end we will use 'or' operator instead of 'and'.\n",
    "\n",
    "<font color=orange>### IMPORTANT NOTE </font>\n",
    "<br>\"OR\" operator will return False only when all the conditions are False "
   ]
  },
  {
   "cell_type": "code",
   "execution_count": 208,
   "metadata": {},
   "outputs": [
    {
     "name": "stdout",
     "output_type": "stream",
     "text": [
      "True\n"
     ]
    }
   ],
   "source": [
    "print(((a % 5) == 0 or (b % 5) == 0))"
   ]
  }
 ],
 "metadata": {
  "kernelspec": {
   "display_name": "Python 3",
   "language": "python",
   "name": "python3"
  },
  "language_info": {
   "codemirror_mode": {
    "name": "ipython",
    "version": 3
   },
   "file_extension": ".py",
   "mimetype": "text/x-python",
   "name": "python",
   "nbconvert_exporter": "python",
   "pygments_lexer": "ipython3",
   "version": "3.7.4"
  }
 },
 "nbformat": 4,
 "nbformat_minor": 2
}
