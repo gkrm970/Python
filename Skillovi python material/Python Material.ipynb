{
 "cells": [
  {
   "cell_type": "markdown",
   "metadata": {
    "colab_type": "text",
    "id": "e2CWWATVTFOQ"
   },
   "source": [
    "# Practice Exercise"
   ]
  },
  {
   "cell_type": "markdown",
   "metadata": {
    "colab_type": "text",
    "id": "gxSUV29HVelr"
   },
   "source": [
    "Question 1: Let us start by printing the word \"Welcome to the practice exercise\" in python."
   ]
  },
  {
   "cell_type": "code",
   "execution_count": 25,
   "metadata": {
    "colab": {
     "base_uri": "https://localhost:8080/",
     "height": 34
    },
    "colab_type": "code",
    "id": "sn3vu-6dVsEP",
    "outputId": "8e44d2dd-7e2d-4ddf-b8e0-2acaa22282d4"
   },
   "outputs": [
    {
     "name": "stdout",
     "output_type": "stream",
     "text": [
      "Lets code in python\n"
     ]
    }
   ],
   "source": [
    "print('Lets code in python')"
   ]
  },
  {
   "cell_type": "markdown",
   "metadata": {},
   "source": [
    "Question 2: The following pieces of code include variable names that cause an error. What's wrong and how would we fix it? Are there any other guidelines that aren't being met with the variable names?"
   ]
  },
  {
   "cell_type": "code",
   "execution_count": 30,
   "metadata": {},
   "outputs": [
    {
     "ename": "SyntaxError",
     "evalue": "invalid syntax (<ipython-input-30-8871572dd4d9>, line 1)",
     "output_type": "error",
     "traceback": [
      "\u001b[1;36m  File \u001b[1;32m\"<ipython-input-30-8871572dd4d9>\"\u001b[1;36m, line \u001b[1;32m1\u001b[0m\n\u001b[1;33m    1a = 'Washington'\u001b[0m\n\u001b[1;37m     ^\u001b[0m\n\u001b[1;31mSyntaxError\u001b[0m\u001b[1;31m:\u001b[0m invalid syntax\n"
     ]
    }
   ],
   "source": [
    "1a = 'Washington'\n",
    "b2 = 'Olympia'\n",
    "print('The capital of', a1, 'is', b2)"
   ]
  },
  {
   "cell_type": "code",
   "execution_count": 32,
   "metadata": {},
   "outputs": [
    {
     "name": "stdout",
     "output_type": "stream",
     "text": [
      "The capital of Washington is Olympia\n",
      "924\n"
     ]
    }
   ],
   "source": [
    "# Solution\n",
    "#First letter should never start with numeric values.\n",
    "state = 'Washington'\n",
    "city = 'Olympia'\n",
    "print('The capital of', state, 'is', city)\n",
    "#Lets try with numeric\n",
    "a_variable = 22\n",
    "another_variable = 42\n",
    "print(a_variable * another_variable)"
   ]
  },
  {
   "cell_type": "markdown",
   "metadata": {},
   "source": [
    "Question 3: Divide 15 by the sum of a and three times b. Multiply the result by 2 and raise it to the 3rd power. What is the result?"
   ]
  },
  {
   "cell_type": "code",
   "execution_count": 33,
   "metadata": {},
   "outputs": [
    {
     "data": {
      "text/plain": [
       "20.285499624342595"
      ]
     },
     "execution_count": 33,
     "metadata": {},
     "output_type": "execute_result"
    }
   ],
   "source": [
    "a = 2\n",
    "b = 3\n",
    "((15 / (a + 3 * b)) * 2)**3"
   ]
  },
  {
   "cell_type": "markdown",
   "metadata": {},
   "source": [
    "Question 4: Create a string variable and print the string."
   ]
  },
  {
   "cell_type": "code",
   "execution_count": 35,
   "metadata": {},
   "outputs": [
    {
     "name": "stdout",
     "output_type": "stream",
     "text": [
      " string\n"
     ]
    }
   ],
   "source": [
    "# Create a string variable:\n",
    "s = ' string'\n",
    "# Print the string:\n",
    "print(s)"
   ]
  },
  {
   "cell_type": "markdown",
   "metadata": {},
   "source": [
    "Question 5: converting pi to an int type\n"
   ]
  },
  {
   "cell_type": "code",
   "execution_count": 47,
   "metadata": {},
   "outputs": [
    {
     "name": "stdout",
     "output_type": "stream",
     "text": [
      "3.14\n",
      "<class 'str'>\n",
      "3\n",
      "<class 'int'>\n"
     ]
    }
   ],
   "source": [
    "pi = '3.14'\n",
    "print(pi)\n",
    "print(type(pi))\n",
    "#We float to convert string to int\n",
    "a = int(float(pi))\n",
    "print(a)\n",
    "print(type(a))"
   ]
  },
  {
   "cell_type": "markdown",
   "metadata": {},
   "source": [
    "Question 6: Use str.split? to read the documentation for str.split(). Use str.split() on the following sentences. What happens? What does sep= do? Try using sep='.'."
   ]
  },
  {
   "cell_type": "code",
   "execution_count": 53,
   "metadata": {},
   "outputs": [
    {
     "name": "stdout",
     "output_type": "stream",
     "text": [
      "We are using str.split method here for the entire given string ['There', 'is', 'a', 'giraffe.', 'There', 'is', 'an', 'elephant.']\n",
      "We are using str.split method here for the entire given string ['They', 'are', 'playing', 'chess.']\n",
      "We are using str.split method here for the entire given string ['The', 'elephant', 'is', 'winning.', 'However,', 'the', 'giraffe', 'can', 'make', 'a', 'comeback.']\n",
      "We are using str.split method with delimeter after every sentance ['There is a giraffe', ' There is an elephant', '']\n",
      "We are using str.split method with delimeter after every sentance ['They are playing chess', '']\n",
      "We are using str.split method with delimeter after every sentance ['The elephant is winning', ' However, the giraffe can make a comeback', '']\n"
     ]
    }
   ],
   "source": [
    "sentence1 = 'There is a giraffe. There is an elephant.'\n",
    "sentence2 = 'They are playing chess.'\n",
    "sentence3 = 'The elephant is winning. However, the giraffe can make a comeback.'\n",
    "print(\"We are using str.split method here for the entire given string\",str.split(sentence1))\n",
    "print(\"We are using str.split method here for the entire given string\",str.split(sentence2))\n",
    "print(\"We are using str.split method here for the entire given string\",str.split(sentence3))\n",
    "print(\"We are using str.split method with delimeter after every sentance\",str.split(sentence1, sep='.'))\n",
    "print(\"We are using str.split method with delimeter after every sentance\",str.split(sentence2, sep='.'))\n",
    "print(\"We are using str.split method with delimeter after every sentance\",str.split(sentence3, sep='.'))\n"
   ]
  },
  {
   "cell_type": "markdown",
   "metadata": {},
   "source": [
    "Question 7: Find the total length of the strings in the given list. Store this quantity in a variable called total."
   ]
  },
  {
   "cell_type": "code",
   "execution_count": 54,
   "metadata": {},
   "outputs": [
    {
     "name": "stdout",
     "output_type": "stream",
     "text": [
      "12\n"
     ]
    }
   ],
   "source": [
    "total = 0\n",
    "words = [\"red\", \"green\", \"blue\"]\n",
    "\n",
    "for word in words:\n",
    "    total = total + len(word)\n",
    "\n",
    "print(total)"
   ]
  },
  {
   "cell_type": "markdown",
   "metadata": {},
   "source": [
    "Question 8: Find the length of each word in the list, and store these lengths in another list called lengths."
   ]
  },
  {
   "cell_type": "code",
   "execution_count": 55,
   "metadata": {},
   "outputs": [
    {
     "name": "stdout",
     "output_type": "stream",
     "text": [
      "[3, 5, 4]\n"
     ]
    }
   ],
   "source": [
    "lengths = []\n",
    "words = [\"red\", \"green\", \"blue\"]\n",
    "\n",
    "for word in words:\n",
    "    lengths.append(len(word))\n",
    "\n",
    "print(lengths)"
   ]
  },
  {
   "cell_type": "markdown",
   "metadata": {},
   "source": [
    "Question 9: Concatenate all words into a single string called one."
   ]
  },
  {
   "cell_type": "code",
   "execution_count": 3,
   "metadata": {},
   "outputs": [
    {
     "name": "stdout",
     "output_type": "stream",
     "text": [
      "redgreenblue\n"
     ]
    }
   ],
   "source": [
    "words = [\"red\", \"green\", \"blue\"]\n",
    "one= ''\n",
    "for word in words:\n",
    "    one = one + word\n",
    "\n",
    "print(one)"
   ]
  },
  {
   "cell_type": "markdown",
   "metadata": {},
   "source": [
    "Question 10: Consider the below given scores and segregate accordingly\n",
    "\n",
    "Aggregates\n",
    "\n",
    "**A**  is  greater than **90**\n",
    "\n",
    "**B** is greater than **80**\n",
    "\n",
    "**C** is greater than **70**\n",
    "\n",
    "**D** is less than **70**\n",
    "    \n",
    "1. How many 'A' grades do you expect based on the input? How many are in the output?\n",
    "2. Are there multiple outputs per score?\n",
    "3. Are the scores assigned the correct letter grades?"
   ]
  },
  {
   "cell_type": "code",
   "execution_count": null,
   "metadata": {},
   "outputs": [],
   "source": [
    "#Scores\n",
    "scores = [80,89,91,65,78,64,98,78,39]\n"
   ]
  },
  {
   "cell_type": "code",
   "execution_count": 61,
   "metadata": {},
   "outputs": [
    {
     "name": "stdout",
     "output_type": "stream",
     "text": [
      "80 is a B.\n",
      "89 is a B.\n",
      "91 is an A.\n",
      "65 is a D.\n",
      "78 is a C.\n",
      "64 is a D.\n",
      "98 is an A.\n",
      "78 is a C.\n",
      "39 is a D.\n"
     ]
    }
   ],
   "source": [
    "scores = [80,89,91,65,78,64,98,78,39]\n",
    "\n",
    "for score in scores:\n",
    "    if score >= 90:\n",
    "        print(score, 'is an A.')\n",
    "    elif score >= 80:\n",
    "        print(score, 'is a B.')\n",
    "    elif score >= 70: #change this to elif\n",
    "        print(score, 'is a C.')\n",
    "    else:\n",
    "        print(score, 'is a D.')"
   ]
  },
  {
   "cell_type": "markdown",
   "metadata": {},
   "source": [
    "Question 11: How do you replace a charecter"
   ]
  },
  {
   "cell_type": "code",
   "execution_count": 63,
   "metadata": {},
   "outputs": [
    {
     "data": {
      "text/plain": [
       "'hello_there'"
      ]
     },
     "execution_count": 63,
     "metadata": {},
     "output_type": "execute_result"
    }
   ],
   "source": [
    "# One solution\n",
    "sentence4 = \"hello there\"\n",
    "sentence4.replace(' ','_')"
   ]
  },
  {
   "cell_type": "markdown",
   "metadata": {
    "colab_type": "text",
    "id": "Ys8qEL-HTMA1"
   },
   "source": [
    "Question 12: Create a string variable and print the string."
   ]
  },
  {
   "cell_type": "code",
   "execution_count": 2,
   "metadata": {
    "colab": {
     "base_uri": "https://localhost:8080/",
     "height": 34
    },
    "colab_type": "code",
    "id": "ypmiTaqjSu_C",
    "outputId": "b92eac90-aaf3-431e-8bbc-c0449dea5a0c"
   },
   "outputs": [
    {
     "name": "stdout",
     "output_type": "stream",
     "text": [
      "Hello\n"
     ]
    }
   ],
   "source": [
    "# Create a string variable:\n",
    "var='Hello'\n",
    "\n",
    "# Print the string:\n",
    "print(var)"
   ]
  },
  {
   "cell_type": "markdown",
   "metadata": {
    "colab_type": "text",
    "id": "SCtZJrEjUyLV"
   },
   "source": [
    "Question 13: Create a string by taking user input and print the string."
   ]
  },
  {
   "cell_type": "code",
   "execution_count": 3,
   "metadata": {
    "colab": {
     "base_uri": "https://localhost:8080/",
     "height": 51
    },
    "colab_type": "code",
    "id": "kuNOPj11TU10",
    "outputId": "02c9f8c4-06f8-491f-a3ad-3d848debc7e9"
   },
   "outputs": [
    {
     "name": "stdout",
     "output_type": "stream",
     "text": [
      "Enter the string\n",
      "\n"
     ]
    }
   ],
   "source": [
    "# Create a string variable taking user input:\n",
    "var1=input('Enter string')\n",
    "\n",
    "# Print the string:\n",
    "print(var1)"
   ]
  },
  {
   "cell_type": "markdown",
   "metadata": {
    "colab_type": "text",
    "id": "DImK3bXbVQmK"
   },
   "source": [
    "Question 14: Print the pattern given below:\n",
    "\n",
    "\n",
    "\n",
    "![image.png](data:image/png;base64,iVBORw0KGgoAAAANSUhEUgAAADIAAABFCAYAAAAIGLXIAAACvklEQVRoBe1abW7DIAzljJF6oSpXSY/SHWQ/egxPgA3GfAwxEO3kSVP4NLz3TGInNfBP/sw/wQEK5N2UVEVUkUUMqGstInbYrCoyTN2iiarIImKHzaoiPdS9HgcYY+D86hn9tzGLFHnBdTNwPC44PxmIVcKr8PxsINFJFEjkorO06IzQ6qoIMdF9VUWaVH2d7vlhnyH8f+XzZLEiTbhTOxXIVDonGFNFJpA41YQqMpXOCcZUkQkkTjWhikAShhxwfTOCvy84eHhyu+DFukORxtX6w8DfC4OK2PD8hCfa97l5rMtln3cD5k6jqdenw+f9BLMPCG0Gr45ZoQob4oAKIK7NArDKfgYQZJ6/SeHA3weI32jmOvwMCcatqx0PPDXvAsT5v9go8ypfdKDwDMmNy3o2ua9h8LB74w4EO/T1Je3NwZ8hPydNuCj5+kviNQykHwRAONglpFsVofs/f1bYMt2ZnCsx1luutxVIidnNbcOutXnf2fIKJKNkc4MqslmAbHlVJKNkc4MqslmAbPmqIj7rY2FG6aNmEqrExKoWGMag0H8AomDRyMAzsdv3VbgJJOQMGX4An7PHzZeGhDaeSEGeaDngFKeB+MqVzA0Ws8IgELuZThCA0W+y0XQuT4VLkbIF2iQVoP7jTGuwOtmxdMKFPwhwLlKNcGMuQjQmKQC6EbkdB0XjS23UR9emItGHWYhuZ2KYHoFW0t1MDVo22jCYcIUe6UoINKQIYWBaqAJJh4mNlnKIUpv0dzTqFCEFM1LQFSnXuV3wbHkH2uwEIvwcXSt5U1UAUvJ3kIzbjTgw7fdi5HopwbHWBwTljca8QtK1Yt0uIO4+tGZmCyBRiMbh1fWFG4XoZNUKEHQlklf6sTOQPgtSEO3N0RkLZ5DcrMMu23tSrABJxnxERYG8m0yqiCqyiAF1rUXEDpv9AT7GtDRI+0oLAAAAAElFTkSuQmCC)"
   ]
  },
  {
   "cell_type": "code",
   "execution_count": 4,
   "metadata": {
    "colab": {
     "base_uri": "https://localhost:8080/",
     "height": 68
    },
    "colab_type": "code",
    "id": "DkSe8TvcVPMK",
    "outputId": "a00145ec-4c1f-4897-9afa-7af845ab7286"
   },
   "outputs": [
    {
     "name": "stdout",
     "output_type": "stream",
     "text": [
      "  1  \n",
      " 234 \n",
      "56789\n"
     ]
    }
   ],
   "source": [
    "# Print the pattern shown in the question above:\n",
    "print('  1  ')\n",
    "print(' 234 ')\n",
    "print('56789')"
   ]
  },
  {
   "cell_type": "markdown",
   "metadata": {
    "colab_type": "text",
    "id": "wmEibYOCXoUV"
   },
   "source": [
    "Question 15: Print the '#' symbol 15 times without having to type it for 10 times."
   ]
  },
  {
   "cell_type": "code",
   "execution_count": 28,
   "metadata": {
    "colab": {
     "base_uri": "https://localhost:8080/",
     "height": 34
    },
    "colab_type": "code",
    "id": "ca4yCx9OXfyt",
    "outputId": "1df4a762-b8c8-4bc7-c271-ea828c637146"
   },
   "outputs": [
    {
     "name": "stdout",
     "output_type": "stream",
     "text": [
      "##########\n"
     ]
    }
   ],
   "source": [
    "# Print the pattern shown in the question above:\n",
    "print('#'*10)"
   ]
  },
  {
   "cell_type": "markdown",
   "metadata": {
    "colab_type": "text",
    "id": "pCh5QAyGYdWe"
   },
   "source": [
    "Question 16: Take the user input to print the current date"
   ]
  },
  {
   "cell_type": "code",
   "execution_count": 20,
   "metadata": {
    "colab": {
     "base_uri": "https://localhost:8080/",
     "height": 51
    },
    "colab_type": "code",
    "id": "uO-kTgb7XoJZ",
    "outputId": "d0c7fbf4-7ef6-46e3-b13d-1e69dc08f378"
   },
   "outputs": [
    {
     "name": "stdout",
     "output_type": "stream",
     "text": [
      "Enter the date\"hello\"\n",
      "\"hello\"\n"
     ]
    }
   ],
   "source": [
    "# Take the user input into a string:\n",
    "var2=input('Enter the date')\n",
    "\n",
    "# Print the date:\n",
    "print(var2)"
   ]
  },
  {
   "cell_type": "markdown",
   "metadata": {
    "colab_type": "text",
    "id": "WzkRCuNYZOnp"
   },
   "source": [
    "Question 17: Type cast the interger 1.8 into a string and print the result."
   ]
  },
  {
   "cell_type": "code",
   "execution_count": 7,
   "metadata": {
    "colab": {
     "base_uri": "https://localhost:8080/",
     "height": 34
    },
    "colab_type": "code",
    "id": "tv7dzZX2YdFH",
    "outputId": "9c87460f-64dd-45d2-9a36-6a6e9c93e2c9"
   },
   "outputs": [
    {
     "name": "stdout",
     "output_type": "stream",
     "text": [
      "1.8\n"
     ]
    }
   ],
   "source": [
    "# Store the interger as a varaible:\n",
    "integer=1.8\n",
    "\n",
    "# Typecast the integer:\n",
    "string=str(integer)\n",
    "\n",
    "# Print the result:\n",
    "print(string)"
   ]
  },
  {
   "cell_type": "markdown",
   "metadata": {
    "colab_type": "text",
    "id": "IP5LMF00bATM"
   },
   "source": [
    "Question 18: Find the product of two numbers input by the user."
   ]
  },
  {
   "cell_type": "code",
   "execution_count": 27,
   "metadata": {
    "colab": {
     "base_uri": "https://localhost:8080/",
     "height": 68
    },
    "colab_type": "code",
    "id": "_REzzqdwa3Gp",
    "outputId": "8dc1fb7a-b612-49e0-ace8-6004fd31ebb4"
   },
   "outputs": [
    {
     "name": "stdout",
     "output_type": "stream",
     "text": [
      "Enter the first number2\n",
      "Enter the second number3\n",
      "6\n"
     ]
    }
   ],
   "source": [
    "# Take input of the first number and store it in a variable:\n",
    "num1= input('Enter the first number') \n",
    "\n",
    "# Take input of the second number and store it in a variable:\n",
    "num2= input('Enter the second number') \n",
    "\n",
    "# You will need to typecast the input strings into integers\n",
    "# Calculate the product:\n",
    "mul= int(num1) * int(num2)\n",
    "\n",
    "# Print the result:\n",
    "print(mul)"
   ]
  },
  {
   "cell_type": "markdown",
   "metadata": {
    "colab_type": "text",
    "id": "041d-OjCcXt9"
   },
   "source": [
    "Question 19: Calculate the remainder of the number 6 when divided by the number 4."
   ]
  },
  {
   "cell_type": "code",
   "execution_count": 10,
   "metadata": {
    "colab": {
     "base_uri": "https://localhost:8080/",
     "height": 34
    },
    "colab_type": "code",
    "id": "rLigN9eFb1JT",
    "outputId": "9301c739-dd15-486d-e30f-641b5ddae5c3"
   },
   "outputs": [
    {
     "name": "stdout",
     "output_type": "stream",
     "text": [
      "The remainder is 2\n"
     ]
    }
   ],
   "source": [
    "# Find the modulus and print the result:\n",
    "print('The remainder is',6%4)"
   ]
  },
  {
   "cell_type": "markdown",
   "metadata": {
    "colab_type": "text",
    "id": "xyFL6iLUczpm"
   },
   "source": [
    "Question 20: Solve the error in code below and print the correct result."
   ]
  },
  {
   "cell_type": "code",
   "execution_count": 24,
   "metadata": {
    "colab": {
     "base_uri": "https://localhost:8080/",
     "height": 34
    },
    "colab_type": "code",
    "id": "DX_mc1H8cyRC",
    "outputId": "114f955c-3369-4a07-b192-3e3e2f4f31ce"
   },
   "outputs": [
    {
     "name": "stdout",
     "output_type": "stream",
     "text": [
      "I can't study any longer\n",
      "I can't study any longer\n"
     ]
    }
   ],
   "source": [
    "# Given:\n",
    "# print('I can't study any longer')\n",
    "\n",
    "# Corrected solution:\n",
    "print('I can\\'t study any longer')\n",
    "print(\"I can't study any longer\")"
   ]
  },
  {
   "cell_type": "markdown",
   "metadata": {
    "colab_type": "text",
    "id": "MsVRoye5daZG"
   },
   "source": [
    "Question 21: Print the following statement using only 1 print statement:\n",
    "\n",
    "Hello\n",
    "\n",
    "Good Morning"
   ]
  },
  {
   "cell_type": "code",
   "execution_count": 12,
   "metadata": {
    "colab": {
     "base_uri": "https://localhost:8080/",
     "height": 51
    },
    "colab_type": "code",
    "id": "PqnV_g10dOzS",
    "outputId": "c27abe01-0e17-4536-db97-2775fdd1aa85"
   },
   "outputs": [
    {
     "name": "stdout",
     "output_type": "stream",
     "text": [
      "Hello\n",
      "Good Morning\n"
     ]
    }
   ],
   "source": [
    "# Print the required statement:\n",
    "print('Hello\\nGood Morning')"
   ]
  },
  {
   "cell_type": "markdown",
   "metadata": {
    "colab_type": "text",
    "id": "r8xXSTHRd5RT"
   },
   "source": [
    "Question 22: Concatenate the given strings and print the result:\n"
   ]
  },
  {
   "cell_type": "code",
   "execution_count": 29,
   "metadata": {
    "colab": {
     "base_uri": "https://localhost:8080/",
     "height": 34
    },
    "colab_type": "code",
    "id": "PuwSE5uidy24",
    "outputId": "0e62a96a-853a-4028-852f-7554696eee19"
   },
   "outputs": [
    {
     "name": "stdout",
     "output_type": "stream",
     "text": [
      "Welcome to SkilloVilla coding practice session.\n"
     ]
    }
   ],
   "source": [
    "# Given below are the two strings:\n",
    "string1= 'Welcome to SkilloVilla'\n",
    "string2= ' coding practice session.'\n",
    "\n",
    "# Concatenate and print the result:\n",
    "print(string1+string2)"
   ]
  },
  {
   "cell_type": "markdown",
   "metadata": {
    "colab_type": "text",
    "id": "QpkUZwCsefdt"
   },
   "source": [
    "Question 23: Find the length of string given below and print the result.\n"
   ]
  },
  {
   "cell_type": "code",
   "execution_count": 14,
   "metadata": {
    "colab": {
     "base_uri": "https://localhost:8080/",
     "height": 34
    },
    "colab_type": "code",
    "id": "24Am9RaseEXP",
    "outputId": "b6133d78-bb06-4958-e108-61133f99d4a8"
   },
   "outputs": [
    {
     "name": "stdout",
     "output_type": "stream",
     "text": [
      "54\n"
     ]
    }
   ],
   "source": [
    "# Given below is the string:\n",
    "string='Hi, I hope you are having a great learning experience.'\n",
    "\n",
    "# Calculate and print the length:\n",
    "print(len(string))"
   ]
  },
  {
   "cell_type": "markdown",
   "metadata": {
    "colab_type": "text",
    "id": "KoVEaa4QfMb_"
   },
   "source": [
    "Question 24: Create a string of length=10. Obtain the fifth and seventh character of the string. Concatenate the characters and form a new string. Print the new string."
   ]
  },
  {
   "cell_type": "code",
   "execution_count": 18,
   "metadata": {
    "colab": {
     "base_uri": "https://localhost:8080/",
     "height": 34
    },
    "colab_type": "code",
    "id": "U-356eSce6UM",
    "outputId": "604192b3-9a8a-4d0d-fb38-8681bae43887"
   },
   "outputs": [
    {
     "name": "stdout",
     "output_type": "stream",
     "text": [
      "lV\n"
     ]
    }
   ],
   "source": [
    "# Create a string of length 10:\n",
    "str1='SkilloVilla'\n",
    "\n",
    "# You can check the length:\n",
    "len(str1)\n",
    "\n",
    "# Obtain the fifth letter and store it into a new string:\n",
    "str2=str1[4]\n",
    "\n",
    "# Obtain the seventh letter and store it into a new string:\n",
    "str3=str1[6]\n",
    "\n",
    "# Concatenate the two strings:\n",
    "str4=str2+str3\n",
    "\n",
    "# Print the result:\n",
    "print(str4)"
   ]
  },
  {
   "cell_type": "markdown",
   "metadata": {
    "colab_type": "text",
    "id": "-9wQ6PQtzNi3"
   },
   "source": [
    "Question 25: Given below is a string. Perform the following operations and print the results:\n",
    "1. Remove the extra spaces from the string and print the new string.\n",
    "2. Find the length of new string\n",
    "3. Remove the last 5 characters of the new string\n",
    "4. Find the 15th character of the new string\n",
    "5. Compute the result of concatenation of the first and last letter of the new string.\n"
   ]
  },
  {
   "cell_type": "code",
   "execution_count": 19,
   "metadata": {
    "colab": {
     "base_uri": "https://localhost:8080/",
     "height": 102
    },
    "colab_type": "code",
    "id": "T9GOWY_JyErD",
    "outputId": "f5e0efe3-ae16-489f-adbb-81db54ba9b51"
   },
   "outputs": [
    {
     "name": "stdout",
     "output_type": "stream",
     "text": [
      "I hope we all enjoyed the session\n",
      "33\n",
      "I hope we all enjoyed the session\n",
      "e\n",
      "In\n"
     ]
    }
   ],
   "source": [
    "# Given below is the string:\n",
    "line= '     I hope we all enjoyed the session'\n",
    "\n",
    "# Removing extra spaces:\n",
    "line1=line.strip()\n",
    "\n",
    "# Print the result\n",
    "print(line1)\n",
    "\n",
    "# Calculate the length:\n",
    "print(len(line1))\n",
    "\n",
    "# Slice the string to remove the last 5 characters:\n",
    "line2=line1[:36]\n",
    "\n",
    "# Print the result\n",
    "print(line2)\n",
    "\n",
    "# Print the 15th character of the string:\n",
    "print(line2[14])\n",
    "\n",
    "# Print the concatenation of first and last character of resulting string:\n",
    "print(line2[0]+line2[-1])"
   ]
  },
  {
   "cell_type": "markdown",
   "metadata": {},
   "source": [
    "Question 26: What if you wanted to convert several values at once? What if you want to convert to several other units at once?"
   ]
  },
  {
   "cell_type": "code",
   "execution_count": 62,
   "metadata": {},
   "outputs": [
    {
     "data": {
      "text/plain": [
       "72"
      ]
     },
     "execution_count": 62,
     "metadata": {},
     "output_type": "execute_result"
    }
   ],
   "source": [
    "def convert_from_feet(x,unit='meters'):\n",
    "    if unit=='meters':\n",
    "        return(x*.308)\n",
    "    elif unit == 'inches':\n",
    "        return(x*12)\n",
    "    elif unit == 'yards':\n",
    "        return(x*3)\n",
    "    else:\n",
    "        return('unit not found')\n",
    "convert_from_feet(6,unit='inches')"
   ]
  },
  {
   "cell_type": "markdown",
   "metadata": {},
   "source": [
    "Question 27: Find the product of all numbers present in a list"
   ]
  },
  {
   "cell_type": "code",
   "execution_count": 64,
   "metadata": {},
   "outputs": [
    {
     "name": "stdout",
     "output_type": "stream",
     "text": [
      "length of the index is: 5 \n",
      "\n",
      "each indexing value are: 10 \n",
      "\n",
      "product value 10 \n",
      "\n",
      "current indexing position is 1 \n",
      "\n",
      "---------------------------------------------\n",
      "length of the index is: 5 \n",
      "\n",
      "each indexing value are: 20 \n",
      "\n",
      "product value 200 \n",
      "\n",
      "current indexing position is 2 \n",
      "\n",
      "---------------------------------------------\n",
      "length of the index is: 5 \n",
      "\n",
      "each indexing value are: 30 \n",
      "\n",
      "product value 6000 \n",
      "\n",
      "current indexing position is 3 \n",
      "\n",
      "---------------------------------------------\n",
      "length of the index is: 5 \n",
      "\n",
      "each indexing value are: 40 \n",
      "\n",
      "product value 240000 \n",
      "\n",
      "current indexing position is 4 \n",
      "\n",
      "---------------------------------------------\n",
      "length of the index is: 5 \n",
      "\n",
      "each indexing value are: 50 \n",
      "\n",
      "product value 12000000 \n",
      "\n",
      "current indexing position is 5 \n",
      "\n",
      "---------------------------------------------\n",
      "product is: 12000000\n"
     ]
    }
   ],
   "source": [
    "lst = [10, 20, 30, 40, 50]\n",
    "product = 1\n",
    "index = 0\n",
    "while index < len(lst):\n",
    "    print(\"length of the index is:\",len(lst), '\\n')\n",
    "    print(\"each indexing value are:\",lst[index], '\\n')\n",
    "    product *= lst[index]\n",
    "    print(\"product value\",product, '\\n')\n",
    "    index += 1\n",
    "    print(\"current indexing position is\", index, '\\n')\n",
    "    print(\"-\"*45)\n",
    "print(\"product is: {}\".format(product))"
   ]
  },
  {
   "cell_type": "markdown",
   "metadata": {},
   "source": [
    "Question 28: Write program to find the sum of numbers starting from 1 to 25, 50 to 75 and 90 to 100 using three different for loops"
   ]
  },
  {
   "cell_type": "code",
   "execution_count": 65,
   "metadata": {},
   "outputs": [
    {
     "name": "stdout",
     "output_type": "stream",
     "text": [
      "Sum of integers from 1 to 25 is =  325\n",
      "Sum of integers from 50 to 75 is =  1625\n",
      "Sum of integers from 90 to 100 is =  5014\n"
     ]
    }
   ],
   "source": [
    "sum = 0\n",
    "for i in range(1,26):\n",
    "    sum = sum + i\n",
    "print(\"Sum of integers from 1 to 25 is = \", sum)\n",
    "\n",
    "    \n",
    "sum = 0    \n",
    "for i in range(50,76):\n",
    "    sum = sum + i\n",
    "print(\"Sum of integers from 50 to 75 is = \", sum)\n",
    "\n",
    "    \n",
    "sum = 0\n",
    "for i in range(9,101):\n",
    "    sum = sum + i\n",
    "print(\"Sum of integers from 90 to 100 is = \", sum)"
   ]
  },
  {
   "cell_type": "markdown",
   "metadata": {},
   "source": [
    "Question 29: Python Program to check given number is Prime number."
   ]
  },
  {
   "cell_type": "code",
   "execution_count": 66,
   "metadata": {},
   "outputs": [
    {
     "name": "stdout",
     "output_type": "stream",
     "text": [
      "39 is divisible by 3\n",
      "39 is divisible by 13\n",
      "39 is not a Prime Number\n"
     ]
    }
   ],
   "source": [
    "num = 39\n",
    "# Convert string to int \n",
    "isDivisible = False;\n",
    "i = 2;\n",
    "while i < num:\n",
    "    if num % i == 0:\n",
    "        isDivisible = True;\n",
    "        print(\"{} is divisible by {}\".format(num,i))\n",
    "    i += 1;\n",
    "if isDivisible:\n",
    "    print(\"{} is not a Prime Number\".format(num))\n",
    "else:\n",
    "     print(\"{} is a Prime Number\".format(num))"
   ]
  },
  {
   "cell_type": "markdown",
   "metadata": {},
   "source": [
    "Question 30: How do we take input from user"
   ]
  },
  {
   "cell_type": "code",
   "execution_count": 69,
   "metadata": {},
   "outputs": [
    {
     "name": "stdout",
     "output_type": "stream",
     "text": [
      "Enter anything herehey this is user input method\n"
     ]
    },
    {
     "data": {
      "text/plain": [
       "'hey this is user input method'"
      ]
     },
     "execution_count": 69,
     "metadata": {},
     "output_type": "execute_result"
    }
   ],
   "source": [
    "n = input('Enter anything here')\n",
    "n"
   ]
  },
  {
   "cell_type": "markdown",
   "metadata": {},
   "source": [
    "Question 31: How do we take integer input from the user?"
   ]
  },
  {
   "cell_type": "code",
   "execution_count": 71,
   "metadata": {
    "scrolled": true
   },
   "outputs": [
    {
     "name": "stdout",
     "output_type": "stream",
     "text": [
      "Enter any integer123\n"
     ]
    },
    {
     "data": {
      "text/plain": [
       "123"
      ]
     },
     "execution_count": 71,
     "metadata": {},
     "output_type": "execute_result"
    }
   ],
   "source": [
    "n = int(input('Enter any integer'))\n",
    "n"
   ]
  },
  {
   "cell_type": "markdown",
   "metadata": {},
   "source": [
    "Question 31: How do we take float input from the user"
   ]
  },
  {
   "cell_type": "code",
   "execution_count": 73,
   "metadata": {},
   "outputs": [
    {
     "name": "stdout",
     "output_type": "stream",
     "text": [
      "Enter any float Value1.23\n"
     ]
    },
    {
     "data": {
      "text/plain": [
       "1.23"
      ]
     },
     "execution_count": 73,
     "metadata": {},
     "output_type": "execute_result"
    }
   ],
   "source": [
    "n = float(input('Enter any float Value'))\n",
    "n"
   ]
  },
  {
   "cell_type": "markdown",
   "metadata": {},
   "source": [
    "Question 32: Python Program to check given number is Prime number."
   ]
  },
  {
   "cell_type": "code",
   "execution_count": 67,
   "metadata": {},
   "outputs": [
    {
     "name": "stdout",
     "output_type": "stream",
     "text": [
      "Enter a number: 123\n",
      "123 is divisible by 3\n",
      "123 is divisible by 41\n",
      "123 is not a Prime Number\n"
     ]
    }
   ],
   "source": [
    "num = int(input(\"Enter a number: \"))\n",
    "# Convert string to int \n",
    "isDivisible = False;\n",
    "i = 2;\n",
    "while i < num:\n",
    "    if num % i == 0:\n",
    "        isDivisible = True;\n",
    "        print(\"{} is divisible by {}\".format(num,i))\n",
    "    i += 1;\n",
    "if isDivisible:\n",
    "    print(\"{} is not a Prime Number\".format(num))\n",
    "else:\n",
    "     print(\"{} is a Prime Number\".format(num))"
   ]
  },
  {
   "cell_type": "markdown",
   "metadata": {},
   "source": [
    "Question 33: Create a Variable called grade and set it to an integer. Make an if statement that checks if the grade is a passing grade. grade must be above 65 to pass. print out \"student is passing\"\n"
   ]
  },
  {
   "cell_type": "code",
   "execution_count": 77,
   "metadata": {},
   "outputs": [
    {
     "name": "stdout",
     "output_type": "stream",
     "text": [
      "Enter marks 99\n",
      " student is passing\n"
     ]
    }
   ],
   "source": [
    "grade = int(input('Enter marks '))\n",
    "if grade > 65:\n",
    "    print(\" student is passing\")"
   ]
  },
  {
   "cell_type": "markdown",
   "metadata": {},
   "source": [
    "Question 34:  Now make an if, else statement that checks if the student is passing but also print \"student is failing\", if the grade is less than 65"
   ]
  },
  {
   "cell_type": "code",
   "execution_count": 78,
   "metadata": {},
   "outputs": [
    {
     "name": "stdout",
     "output_type": "stream",
     "text": [
      "Enter marks 67\n",
      "student is passing\n"
     ]
    }
   ],
   "source": [
    "grade = int(input('Enter marks '))\n",
    "if grade > 65:\n",
    "    print(\"student is passing\")\n",
    "else: \n",
    "    print(\"student is failing\")"
   ]
  },
  {
   "cell_type": "markdown",
   "metadata": {},
   "source": [
    "Question 35: use for loop to copy the contents of one list to another\n",
    "\n",
    "    "
   ]
  },
  {
   "cell_type": "code",
   "execution_count": 2,
   "metadata": {},
   "outputs": [
    {
     "name": "stdout",
     "output_type": "stream",
     "text": [
      "['Monday', 'Tuesday', 'Wednesday', 'Thursday', 'Friday', 'Saturday', 'Sunday']\n"
     ]
    }
   ],
   "source": [
    "# wap to use for loop to copy the contents of one list to another\n",
    "l1 = ['Monday','Tuesday','Wednesday','Thursday','Friday','Saturday','Sunday']\n",
    "l2 = []\n",
    "for i in l1:\n",
    "    l2.append(i)\n",
    "print(l2)"
   ]
  },
  {
   "cell_type": "code",
   "execution_count": null,
   "metadata": {},
   "outputs": [],
   "source": [
    "Question 36: # Create a function to find the sum of a and b\n"
   ]
  },
  {
   "cell_type": "code",
   "execution_count": 5,
   "metadata": {},
   "outputs": [
    {
     "name": "stdout",
     "output_type": "stream",
     "text": [
      "Enter first number: 1\n",
      "Enter the second number: 2\n"
     ]
    },
    {
     "data": {
      "text/plain": [
       "3"
      ]
     },
     "execution_count": 5,
     "metadata": {},
     "output_type": "execute_result"
    }
   ],
   "source": [
    "a = int(input('Enter first number: '))\n",
    "b = int(input('Enter the second number: '))\n",
    "def addition(a,b):\n",
    "    return a + b\n",
    "addition(a,b)"
   ]
  },
  {
   "cell_type": "markdown",
   "metadata": {},
   "source": [
    "Question 37:  Write a program to find the square of the function"
   ]
  },
  {
   "cell_type": "code",
   "execution_count": 11,
   "metadata": {},
   "outputs": [
    {
     "name": "stdout",
     "output_type": "stream",
     "text": [
      "Enter number to find square root: 44\n"
     ]
    },
    {
     "data": {
      "text/plain": [
       "1936"
      ]
     },
     "execution_count": 11,
     "metadata": {},
     "output_type": "execute_result"
    }
   ],
   "source": [
    "def square(a):\n",
    "    return a ** 2\n",
    "square(int(input('Enter number to find square root: ')))"
   ]
  },
  {
   "cell_type": "markdown",
   "metadata": {},
   "source": [
    "Question 38: Define a function to sum up the integers for the given range"
   ]
  },
  {
   "cell_type": "code",
   "execution_count": 12,
   "metadata": {},
   "outputs": [
    {
     "name": "stdout",
     "output_type": "stream",
     "text": [
      "Sum of integers from 1 to 25 is 325\n",
      "Sum of integers from 50 to 75 is 1625\n",
      "Sum of integers from 90 to 100 is 1045\n",
      "Sum of integers from 10 to 45 is 990\n"
     ]
    }
   ],
   "source": [
    "def sum(x,y):\n",
    "    sum = 0\n",
    "    for i in range(x,y + 1):\n",
    "        sum = sum + i\n",
    "    print('Sum of integers from {} to {} is {}'.format(x,y,sum))\n",
    "sum(1,25)\n",
    "sum(50,75)\n",
    "sum(90,100)\n",
    "sum(10,45)"
   ]
  },
  {
   "cell_type": "markdown",
   "metadata": {},
   "source": [
    "Question 39: Write a program by using lambda function to print the square of the number"
   ]
  },
  {
   "cell_type": "code",
   "execution_count": 3,
   "metadata": {},
   "outputs": [
    {
     "data": {
      "text/plain": [
       "100"
      ]
     },
     "execution_count": 3,
     "metadata": {},
     "output_type": "execute_result"
    }
   ],
   "source": [
    "f = lambda x:x**2\n",
    "f(10)"
   ]
  },
  {
   "cell_type": "markdown",
   "metadata": {},
   "source": [
    "Question 40: Write a program by using lambda function to print the squares of each element in the list"
   ]
  },
  {
   "cell_type": "code",
   "execution_count": 1,
   "metadata": {},
   "outputs": [
    {
     "name": "stdout",
     "output_type": "stream",
     "text": [
      "[1, 4, 9, 16, 25]\n"
     ]
    }
   ],
   "source": [
    "a = [1, 2, 3, 4, 5]\n",
    "squares = list(map(lambda x: x ** 2, a))\n",
    "print(squares)"
   ]
  },
  {
   "cell_type": "markdown",
   "metadata": {},
   "source": [
    "Question 41: Print only the even numbers for a list of elements using filter() method."
   ]
  },
  {
   "cell_type": "code",
   "execution_count": 4,
   "metadata": {},
   "outputs": [
    {
     "name": "stdout",
     "output_type": "stream",
     "text": [
      "[2, 4, 6, 8]\n"
     ]
    }
   ],
   "source": [
    "a = [1, 2, 3, 4, 5,6 , 7, 8, 199]\n",
    "even = list(filter(lambda x: (x%2 == 0), a))\n",
    "print(even)"
   ]
  },
  {
   "cell_type": "markdown",
   "metadata": {},
   "source": [
    "Question 42: Print the squares of each element in a list using ."
   ]
  },
  {
   "cell_type": "code",
   "execution_count": 12,
   "metadata": {},
   "outputs": [
    {
     "name": "stdout",
     "output_type": "stream",
     "text": [
      "[1, 4, 9, 16, 25]\n"
     ]
    }
   ],
   "source": [
    "a = [1, 2, 3, 4, 5]\n",
    "squares = list(map(lambda x: x ** 2, a))\n",
    "print(squares)"
   ]
  },
  {
   "cell_type": "markdown",
   "metadata": {},
   "source": [
    "Question 43: Using map function to iterate the string"
   ]
  },
  {
   "cell_type": "code",
   "execution_count": 13,
   "metadata": {},
   "outputs": [
    {
     "name": "stdout",
     "output_type": "stream",
     "text": [
      "<map object at 0x000002057CE10FA0>\n",
      "WELCOME TO SKILLOVILLA!"
     ]
    }
   ],
   "source": [
    "def myMapFunc(s):\n",
    "    return s.upper()\n",
    "my_str = \"welcome to SkilloVilla!\"\n",
    "updated_list = map(myMapFunc, my_str)\n",
    "print(updated_list)\n",
    "for i in updated_list:\n",
    "    print(i, end=\"\")"
   ]
  },
  {
   "cell_type": "markdown",
   "metadata": {},
   "source": [
    "Question 44: Use reduce function to Print the product of all the elements in the list."
   ]
  },
  {
   "cell_type": "code",
   "execution_count": 14,
   "metadata": {},
   "outputs": [],
   "source": [
    "#We have to import reduce function from functools\n",
    "from functools import reduce\n",
    "\n"
   ]
  },
  {
   "cell_type": "code",
   "execution_count": 15,
   "metadata": {},
   "outputs": [
    {
     "name": "stdout",
     "output_type": "stream",
     "text": [
      "120\n"
     ]
    }
   ],
   "source": [
    "a = [1, 2, 3, 4, 5]\n",
    "product = reduce(lambda x, y: x*y, a)\n",
    "print(product)"
   ]
  },
  {
   "cell_type": "markdown",
   "metadata": {},
   "source": [
    "Question 45: Python program to multiply by int for each number in list"
   ]
  },
  {
   "cell_type": "code",
   "execution_count": 18,
   "metadata": {},
   "outputs": [
    {
     "name": "stdout",
     "output_type": "stream",
     "text": [
      "<map object at 0x000002057CE103A0>\n",
      "[20, 30, 40, 50, 60, 70, 80, 90]\n"
     ]
    }
   ],
   "source": [
    "def myMapFunc(n):\n",
    "    return n*10\n",
    "\n",
    "my_list = [2,3,4,5,6,7,8,9]\n",
    "\n",
    "updated_list = map(myMapFunc, my_list)\n",
    "print(updated_list)\n",
    "print(list(updated_list))"
   ]
  },
  {
   "cell_type": "markdown",
   "metadata": {},
   "source": [
    "Question 46: Is it possible to take input from user for above problem?"
   ]
  },
  {
   "cell_type": "code",
   "execution_count": 20,
   "metadata": {},
   "outputs": [
    {
     "name": "stdout",
     "output_type": "stream",
     "text": [
      "<map object at 0x000002057CE1C8E0>\n",
      "Enter num to multiple with: 1\n",
      "Enter num to multiple with: 1\n",
      "Enter num to multiple with: 1\n",
      "Enter num to multiple with: 1\n",
      "Enter num to multiple with: 1\n",
      "Enter num to multiple with: 1\n",
      "Enter num to multiple with: 1\n",
      "Enter num to multiple with: 1\n",
      "[2, 3, 4, 5, 6, 7, 8, 9]\n"
     ]
    }
   ],
   "source": [
    "def myMapFunc(n):\n",
    "    return n*int(input('Enter num to multiple with: '))\n",
    "\n",
    "my_list = [2,3,4,5,6,7,8,9]\n",
    "\n",
    "updated_list = map(myMapFunc, my_list)\n",
    "print(updated_list)\n",
    "print(list(updated_list))"
   ]
  },
  {
   "cell_type": "markdown",
   "metadata": {},
   "source": [
    "Question 47: Python program for dictionary iterator inside map()"
   ]
  },
  {
   "cell_type": "code",
   "execution_count": 21,
   "metadata": {},
   "outputs": [
    {
     "name": "stdout",
     "output_type": "stream",
     "text": [
      "<map object at 0x000002057CE1C970>\n",
      "[20, 30, 40, 50, 60, 70, 80, 90]\n"
     ]
    }
   ],
   "source": [
    "def myMapFunc(n):\n",
    "    return n*10\n",
    "my_dict = {2,3,4,5,6,7,8,9}\n",
    "finalitems = map(myMapFunc, my_dict)\n",
    "print(finalitems)\n",
    "print(list(finalitems))"
   ]
  },
  {
   "cell_type": "markdown",
   "metadata": {},
   "source": [
    "Question 48: Passing one Tuple and a list iterator to map()"
   ]
  },
  {
   "cell_type": "code",
   "execution_count": 22,
   "metadata": {},
   "outputs": [
    {
     "name": "stdout",
     "output_type": "stream",
     "text": [
      "<map object at 0x000002057CE1C850>\n",
      "['a_PHP', 'b_Java', 'b_Python', 'd_C++', 'e_C']\n"
     ]
    }
   ],
   "source": [
    "def myMapFunc(list1, tuple1):\n",
    "    return list1+\"_\"+tuple1\n",
    "\n",
    "my_list = ['a','b', 'b', 'd', 'e']\n",
    "my_tuple = ('PHP','Java','Python','C++','C')\n",
    "\n",
    "updated_list = map(myMapFunc, my_list,my_tuple)\n",
    "print(updated_list)\n",
    "print(list(updated_list))"
   ]
  },
  {
   "cell_type": "markdown",
   "metadata": {},
   "source": [
    "Question 49: not equal operator for different data type but same values"
   ]
  },
  {
   "cell_type": "code",
   "execution_count": 23,
   "metadata": {},
   "outputs": [
    {
     "name": "stdout",
     "output_type": "stream",
     "text": [
      "False\n",
      "True\n",
      "True\n"
     ]
    }
   ],
   "source": [
    "C = 12222\n",
    "X = 12222.0\n",
    "Y = \"12222\"\n",
    "print(C!=X)\n",
    "print(X!=Y)\n",
    "print(C!=Y)"
   ]
  },
  {
   "cell_type": "markdown",
   "metadata": {},
   "source": [
    "Question 50: Create a calculator using python"
   ]
  },
  {
   "cell_type": "code",
   "execution_count": 79,
   "metadata": {},
   "outputs": [
    {
     "name": "stdout",
     "output_type": "stream",
     "text": [
      "Menu :  \n",
      " 1.Add \n",
      " 2.Subtract \n",
      " 3.Multiply \n",
      " 4.Divide \n",
      " 0.Exit \n",
      "Enter an option : 1\n",
      "Enter the first value : 23\n",
      "Enter the second value : 45\n",
      "68\n",
      "Menu :  \n",
      " 1.Add \n",
      " 2.Subtract \n",
      " 3.Multiply \n",
      " 4.Divide \n",
      " 0.Exit \n",
      "Enter an option : 0\n"
     ]
    }
   ],
   "source": [
    "\n",
    "def get_value():\n",
    "    x = int(input(\"Enter the first value : \"))\n",
    "    y = int(input(\"Enter the second value : \"))\n",
    "    return (x, y)\n",
    "\n",
    "def add():\n",
    "    x,y = get_value()\n",
    "    print(x+y)\n",
    "\n",
    "def subtract():\n",
    "    x,y = get_value()\n",
    "    print(x-y)\n",
    "\n",
    "def multiply():\n",
    "    x,y = get_value()\n",
    "    print(x*y)\n",
    "\n",
    "def divide():\n",
    "    x,y = get_value()\n",
    "    print(x/y)\n",
    "\n",
    "\n",
    "def menu():\n",
    "    op = int(input(\"Menu :  \\n 1.Add \\n 2.Subtract \\n 3.Multiply \\n 4.Divide \\n 0.Exit \\nEnter an option : \"))\n",
    "\n",
    "    if op == 1:\n",
    "        add()\n",
    "        menu()\n",
    "    elif op == 2:\n",
    "        subtract()\n",
    "        menu()\n",
    "    elif op == 3:\n",
    "        multiply()\n",
    "        menu()\n",
    "    elif op == 4:\n",
    "        divide()\n",
    "        menu()\n",
    "    elif op == 0:\n",
    "        exit()\n",
    "    else:\n",
    "        print (\"Invalid option\")\n",
    "\n",
    "menu()"
   ]
  },
  {
   "cell_type": "markdown",
   "metadata": {},
   "source": [
    "Hope you enjoyed\n",
    "==="
   ]
  },
  {
   "cell_type": "code",
   "execution_count": null,
   "metadata": {},
   "outputs": [],
   "source": []
  }
 ],
 "metadata": {
  "colab": {
   "name": "Basics_of_python_solution.ipynb",
   "provenance": []
  },
  "kernelspec": {
   "display_name": "Python 3",
   "language": "python",
   "name": "python3"
  },
  "language_info": {
   "codemirror_mode": {
    "name": "ipython",
    "version": 3
   },
   "file_extension": ".py",
   "mimetype": "text/x-python",
   "name": "python",
   "nbconvert_exporter": "python",
   "pygments_lexer": "ipython3",
   "version": "3.10.5 (tags/v3.10.5:f377153, Jun  6 2022, 16:14:13) [MSC v.1929 64 bit (AMD64)]"
  },
  "vscode": {
   "interpreter": {
    "hash": "0d71ce395613edb06b1d38035d215f481338f75ac8fb7c8e9bc6d47386f48628"
   }
  }
 },
 "nbformat": 4,
 "nbformat_minor": 1
}
