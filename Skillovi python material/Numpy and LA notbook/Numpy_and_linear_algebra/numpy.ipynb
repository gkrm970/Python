{
 "cells": [
  {
   "cell_type": "code",
   "execution_count": 3,
   "metadata": {},
   "outputs": [],
   "source": [
    "import numpy as np\n",
    "import pandas as pd"
   ]
  },
  {
   "cell_type": "markdown",
   "metadata": {},
   "source": [
    "# Introduction to numpy (Numerical Python)"
   ]
  },
  {
   "cell_type": "markdown",
   "metadata": {},
   "source": [
    "### Why numpy\n",
    "<ol>\n",
    "<li>NumPy brings the <b>computational power</b> of languages like <b>C and Fortran to Python</b>, a language much easier to learn and use.\n",
    "    <br> </br> </li>\n",
    "    \n",
    "<li> It is used in every field of science and engineering and is the <b>universal standard</b> for working with <b>numerical data</b> in Python. \n",
    "     <br> </br> </li>\n",
    "\n",
    "<li> <b>Essential</b> tool for beginners as well as experienced researchers doing state-of-the-art scientific and industrial research and development.\n",
    "     <br> </br> </li>\n",
    "<li> NumPy API are use in <b>Pandas, SciPy, Matplotlib, Scikit-learn, Scikit-image, Pytorch, Tensorflow</b> and most other data science and scientific Python packages.\n",
    "     <br> </br> </li>\n",
    "</ol>"
   ]
  },
  {
   "cell_type": "code",
   "execution_count": 4,
   "metadata": {},
   "outputs": [
    {
     "name": "stdout",
     "output_type": "stream",
     "text": [
      "Time python 5.1915794740000365\n",
      "Time numpy 0.1676079320000099\n",
      "Speed Comparision 30.974545250040613\n"
     ]
    }
   ],
   "source": [
    "# Comparison of processing speed of numpy and python lists\n",
    "\n",
    "#Subtract a constant number 32 from 1000 numbers using python list and using numpy\n",
    "\n",
    "import timeit\n",
    "import numpy as np\n",
    "import random\n",
    "\n",
    "\n",
    "python_list = random.sample(range(1000), 1000)\n",
    "\n",
    "def python_code():\n",
    "    return [val-32 for val in python_list]\n",
    "\n",
    "\n",
    "np_array = np.random.random(1000)\n",
    "def numpy_code():\n",
    "    return np_array-32\n",
    "\n",
    "n = 100000\n",
    "t_python = timeit.timeit(python_code, number=n)\n",
    "t_numpy = timeit.timeit(numpy_code, number=n)\n",
    "\n",
    "print('Time python', t_python)\n",
    "print('Time numpy', t_numpy)\n",
    "print('Speed Comparision', t_python/t_numpy)"
   ]
  },
  {
   "cell_type": "markdown",
   "metadata": {},
   "source": [
    "### What is numpy?\n",
    "<ol>\n",
    "<li> The NumPy library contains multidimensional array and matrix data structures. \n",
    "    <br> </br> </li>\n",
    "<li> It provides <b>ndarray</b>, a homogeneous n-dimensional array object, with methods to efficiently operate on it. \n",
    "    <br> </br> </li>\n",
    "<li> NumPy can be used to perform a wide variety of <b>mathematical operations on arrays</b>.\n",
    "    <br> </br> </li>\n",
    "<li> It adds powerful data structures to Python that guarantee <b>efficient calculations</b>.\n",
    "    <br> </br> </li>\n",
    "<li> It also supplies an <b>enormous library</b> of high-level mathematical functions.\n",
    "    <br> </br> </li>\n",
    "<li> It is an <b>open source</b> Python library for scientific computing.\n",
    "    <br> </br> </li>\n"
   ]
  },
  {
   "cell_type": "markdown",
   "metadata": {},
   "source": [
    "Some applications of numpy and linear algebra:"
   ]
  },
  {
   "cell_type": "markdown",
   "metadata": {},
   "source": [
    "![Why_Numpy](Why_Numpy.png) "
   ]
  },
  {
   "cell_type": "markdown",
   "metadata": {},
   "source": [
    "**Recent case studies in science and technology**\n"
   ]
  },
  {
   "cell_type": "markdown",
   "metadata": {},
   "source": [
    "![CaseStudies](Case_Studies.png)"
   ]
  },
  {
   "cell_type": "markdown",
   "metadata": {},
   "source": [
    "# Define matrices and vectors"
   ]
  },
  {
   "cell_type": "markdown",
   "metadata": {},
   "source": [
    "### Convert python datastructures to numpy array"
   ]
  },
  {
   "cell_type": "code",
   "execution_count": 6,
   "metadata": {},
   "outputs": [
    {
     "name": "stdout",
     "output_type": "stream",
     "text": [
      "[[ 1  2  3  4]\n",
      " [ 5  6  7  8]\n",
      " [ 9 10 11 12]]\n"
     ]
    }
   ],
   "source": [
    "# Define np array using python list\n",
    "\n",
    "matrix = np.array([[1, 2, 3, 4], [5, 6, 7, 8], [9, 10, 11, 12]])\n",
    "\n",
    "print(matrix)"
   ]
  },
  {
   "cell_type": "code",
   "execution_count": 8,
   "metadata": {},
   "outputs": [
    {
     "name": "stdout",
     "output_type": "stream",
     "text": [
      "   A  B   C\n",
      "0  1  2   9\n",
      "1  2  6  10\n",
      "2  3  7  11\n",
      "3  4  8  12 \n",
      "\n",
      "[[ 1  2  9]\n",
      " [ 2  6 10]\n",
      " [ 3  7 11]\n",
      " [ 4  8 12]]\n"
     ]
    }
   ],
   "source": [
    "# Define np array using pandas dataframe\n",
    "\n",
    "df = pd.DataFrame({\"A\": [1, 2, 3, 4], \"B\": [2, 6, 7, 8], \"C\": [9, 10, 11, 12]})\n",
    "\n",
    "#Convert to numpy array using to_numpy function\n",
    "matrix = df.to_numpy()\n",
    "\n",
    "print(df,'\\n')\n",
    "print(matrix)"
   ]
  },
  {
   "cell_type": "markdown",
   "metadata": {},
   "source": [
    "### Define vector, array and tensor"
   ]
  },
  {
   "cell_type": "code",
   "execution_count": 9,
   "metadata": {},
   "outputs": [
    {
     "name": "stdout",
     "output_type": "stream",
     "text": [
      "[1 2 3 4 5 6]\n"
     ]
    }
   ],
   "source": [
    "# Define a vector from linear algebra course\n",
    "\n",
    "vector = np.array([1,2,3,4,5,6])\n",
    "\n",
    "print(vector)"
   ]
  },
  {
   "cell_type": "code",
   "execution_count": 10,
   "metadata": {},
   "outputs": [
    {
     "name": "stdout",
     "output_type": "stream",
     "text": [
      "[[ 1  2  3  4]\n",
      " [ 5  6  7  8]\n",
      " [ 9 10 11 12]]\n"
     ]
    }
   ],
   "source": [
    "#Define an array from linear algebra course\n",
    "\n",
    "matrix = np.array([[1, 2, 3, 4], [5, 6, 7, 8], [9, 10, 11, 12]])\n",
    "\n",
    "print(matrix)"
   ]
  },
  {
   "cell_type": "code",
   "execution_count": 11,
   "metadata": {},
   "outputs": [
    {
     "name": "stdout",
     "output_type": "stream",
     "text": [
      "(2, 3, 4)\n",
      "[[[ 1  2  3  4]\n",
      "  [ 5  6  7  8]\n",
      "  [ 9 10 11 12]]\n",
      "\n",
      " [[ 1  2  3  4]\n",
      "  [ 5  6  7  8]\n",
      "  [ 9 10 11 12]]]\n"
     ]
    }
   ],
   "source": [
    "# Define a tensor from linear algebra course\n",
    "\n",
    "tensor = np.array([matrix,matrix])\n",
    "print(tensor.shape)\n",
    "print(tensor)"
   ]
  },
  {
   "cell_type": "markdown",
   "metadata": {},
   "source": [
    "### Define special arrays"
   ]
  },
  {
   "cell_type": "markdown",
   "metadata": {},
   "source": [
    "We are going to explore the following functions:\n",
    "\n",
    "<ol>\n",
    "<li> Define an array of 1s: np.ones()\n",
    "    <br> </br> </li>\n",
    "<li> Define an array of 0s: np.zeros()\n",
    "    <br> </br> </li>\n",
    "<li> Define an array of constant: np.full()\n",
    "    <br> </br> </li>\n",
    "<li> Define interval and range arrays: np.interval() and np.range()\n",
    "    <br> </br> </li>\n",
    "  </ol>\n",
    "\n",
    "The same concepts can be extended to define vectors and tensors"
   ]
  },
  {
   "cell_type": "code",
   "execution_count": 23,
   "metadata": {},
   "outputs": [
    {
     "name": "stdout",
     "output_type": "stream",
     "text": [
      "[[[[0.]\n",
      "   [0.]\n",
      "   [0.]\n",
      "   [0.]\n",
      "   [0.]]\n",
      "\n",
      "  [[0.]\n",
      "   [0.]\n",
      "   [0.]\n",
      "   [0.]\n",
      "   [0.]]\n",
      "\n",
      "  [[0.]\n",
      "   [0.]\n",
      "   [0.]\n",
      "   [0.]\n",
      "   [0.]]\n",
      "\n",
      "  [[0.]\n",
      "   [0.]\n",
      "   [0.]\n",
      "   [0.]\n",
      "   [0.]]]\n",
      "\n",
      "\n",
      " [[[0.]\n",
      "   [0.]\n",
      "   [0.]\n",
      "   [0.]\n",
      "   [0.]]\n",
      "\n",
      "  [[0.]\n",
      "   [0.]\n",
      "   [0.]\n",
      "   [0.]\n",
      "   [0.]]\n",
      "\n",
      "  [[0.]\n",
      "   [0.]\n",
      "   [0.]\n",
      "   [0.]\n",
      "   [0.]]\n",
      "\n",
      "  [[0.]\n",
      "   [0.]\n",
      "   [0.]\n",
      "   [0.]\n",
      "   [0.]]]\n",
      "\n",
      "\n",
      " [[[0.]\n",
      "   [0.]\n",
      "   [0.]\n",
      "   [0.]\n",
      "   [0.]]\n",
      "\n",
      "  [[0.]\n",
      "   [0.]\n",
      "   [0.]\n",
      "   [0.]\n",
      "   [0.]]\n",
      "\n",
      "  [[0.]\n",
      "   [0.]\n",
      "   [0.]\n",
      "   [0.]\n",
      "   [0.]]\n",
      "\n",
      "  [[0.]\n",
      "   [0.]\n",
      "   [0.]\n",
      "   [0.]\n",
      "   [0.]]]]\n"
     ]
    }
   ],
   "source": [
    "# Define an array with zero values\n",
    "# All these functions can be extended to define any n-dimensional numpy array\n",
    "\n",
    "zero_arr = np.zeros((3,4,5,1))\n",
    "\n",
    "print(zero_arr)"
   ]
  },
  {
   "cell_type": "code",
   "execution_count": 25,
   "metadata": {},
   "outputs": [
    {
     "name": "stdout",
     "output_type": "stream",
     "text": [
      "[[1. 1.]\n",
      " [1. 1.]\n",
      " [1. 1.]]\n"
     ]
    }
   ],
   "source": [
    "# Define an array of 1s\n",
    "\n",
    "one_arr = np.ones((3,2))\n",
    "\n",
    "print(one_arr)"
   ]
  },
  {
   "cell_type": "code",
   "execution_count": 28,
   "metadata": {},
   "outputs": [
    {
     "name": "stdout",
     "output_type": "stream",
     "text": [
      "[[10. 10.]\n",
      " [10. 10.]\n",
      " [10. 10.]\n",
      " [10. 10.]\n",
      " [10. 10.]]\n"
     ]
    }
   ],
   "source": [
    "# Define a array of constant values:\n",
    "\n",
    "const_arr = np.full((5,2), 10.)\n",
    "\n",
    "print(const_arr)"
   ]
  },
  {
   "cell_type": "code",
   "execution_count": 30,
   "metadata": {},
   "outputs": [
    {
     "name": "stdout",
     "output_type": "stream",
     "text": [
      "Range array in numpy is:\n",
      " [2 4 6 8]\n",
      "\n",
      "Interval array in numpy is:\n",
      " [2. 4. 6. 8.]\n",
      "\n"
     ]
    }
   ],
   "source": [
    "# Define interval and range arrays\n",
    "\n",
    "range_arr = np.arange(2,9,2)               #start, end and interval\n",
    "\n",
    "interval_arr = np.linspace(2,8, num=4)    # start, end and number of elements\n",
    "\n",
    "print(\"Range array in numpy is:\\n {}\\n\".format(range_arr))\n",
    "print(\"Interval array in numpy is:\\n {}\\n\".format(interval_arr))\n"
   ]
  },
  {
   "cell_type": "markdown",
   "metadata": {},
   "source": [
    "### Reading and writing arrays"
   ]
  },
  {
   "cell_type": "code",
   "execution_count": 31,
   "metadata": {},
   "outputs": [
    {
     "name": "stdout",
     "output_type": "stream",
     "text": [
      "saving array [10 15 20 25 30 35 40 45 50 55 60 65 70 75 80 85 90 95] in file ./sample_np.npy\n"
     ]
    }
   ],
   "source": [
    "# How to save NumPy objects\n",
    "\n",
    "arr = np.arange(10,100,5)\n",
    "base_path = '.'\n",
    "\n",
    "#.npy is a standard format for save numpy data\n",
    "file_name = 'sample_np.npy'\n",
    "\n",
    "# Using python os module to join directory path and relative file path\n",
    "import os\n",
    "out = os.path.join(base_path,file_name)\n",
    "\n",
    "print(\"saving array {} in file {}\".format(arr, out))\n",
    "\n",
    "'''\n",
    "Standard way of reading and writing a file in python. With command opens file handler and closes automatically \n",
    "when the loop is finished.\n",
    "wb is used to write (w) in binary (b) format. For normal string writing use 'w' only. Same while reading file objects \n",
    "'''\n",
    "with open(out, 'wb') as f:\n",
    "    np.save(f, arr)\n",
    "\n",
    "# f = open(out, 'wb')\n",
    "# f.close()"
   ]
  },
  {
   "cell_type": "code",
   "execution_count": 32,
   "metadata": {},
   "outputs": [
    {
     "name": "stdout",
     "output_type": "stream",
     "text": [
      "loaded array [10 15 20 25 30 35 40 45 50 55 60 65 70 75 80 85 90 95] from file ./sample_np.npy\n"
     ]
    }
   ],
   "source": [
    "# How to read Numpy objects\n",
    "\n",
    "with open(out,'rb') as f:\n",
    "    arr1 = np.load(f)\n",
    "    \n",
    "print(\"loaded array {} from file {}\".format(arr1, out))\n"
   ]
  },
  {
   "cell_type": "markdown",
   "metadata": {},
   "source": [
    "<b>Note</b>: To <b>save multiple arrays in a file</b>, please refer to <b>np.savez</b> and <b>savez_compressed</b> function https://numpy.org/doc/stable/reference/generated/numpy.savez.html#numpy.savez. Useful when dealing with multiple data sources which needs be saved.\n",
    "\n",
    "    "
   ]
  },
  {
   "cell_type": "code",
   "execution_count": null,
   "metadata": {},
   "outputs": [],
   "source": [
    "#Importing and exporting csv"
   ]
  },
  {
   "cell_type": "code",
   "execution_count": 33,
   "metadata": {},
   "outputs": [
    {
     "name": "stdout",
     "output_type": "stream",
     "text": [
      "saving array [10 15 20 25 30 35 40 45 50 55 60 65 70 75 80 85 90 95] in file ./sample_np.csv\n"
     ]
    }
   ],
   "source": [
    "#Saving into csv\n",
    "\n",
    "file_name = 'sample_np.csv'\n",
    "out = os.path.join(base_path,file_name)\n",
    "print(\"saving array {} in file {}\".format(arr, out))\n",
    "\n",
    "# fmt can be specified as integer, float, string, etc\n",
    "np.savetxt(out,arr, delimiter=',', fmt='%d')\n"
   ]
  },
  {
   "cell_type": "code",
   "execution_count": 34,
   "metadata": {},
   "outputs": [
    {
     "name": "stdout",
     "output_type": "stream",
     "text": [
      "loaded array [10. 15. 20. 25. 30. 35. 40. 45. 50. 55. 60. 65. 70. 75. 80. 85. 90. 95.] from file ./sample_np.csv\n"
     ]
    }
   ],
   "source": [
    "\n",
    "\n",
    "# fmt can be specified as integer, float, string, etc\n",
    "arr1 = np.genfromtxt(out, delimiter=',')\n",
    "\n",
    "print(\"loaded array {} from file {}\".format(arr1, out))"
   ]
  },
  {
   "cell_type": "markdown",
   "metadata": {},
   "source": [
    "# Array Features: \n",
    "<ol>\n",
    "<li> Datatypes\n",
    "    <br> </br> </li>\n",
    "<li> Indexing and Slicing\n",
    "    <br> </br> </li>\n",
    "<li> Shape and Size\n",
    "    <br> </br> </li>\n",
    "<li> Resizing and transpose\n",
    "    <br> </br> </li>"
   ]
  },
  {
   "cell_type": "markdown",
   "metadata": {},
   "source": [
    "### Datatypes"
   ]
  },
  {
   "cell_type": "markdown",
   "metadata": {},
   "source": [
    "Let's explore the function **astype()** to change the datatype in an numpy array.\n",
    "\n",
    "Following are the datatypes in the numpy arrays:\n",
    "<ol>\n",
    "<li> integer or int\n",
    "    <br> </br> </li>\n",
    "<li> float\n",
    "    <br> </br> </li>\n",
    "<li> String\n",
    "    <br> </br> </li>\n",
    "  </ol>\n",
    "\n",
    "\n",
    "For both int and float, depending on the length, it could be 64 bit, 32 bit, 16 bit etc. More details on numpy datatypes is present at https://numpy.org/doc/stable/reference/arrays.dtypes.html#specifying-and-constructing-data-types"
   ]
  },
  {
   "cell_type": "code",
   "execution_count": 35,
   "metadata": {},
   "outputs": [
    {
     "name": "stdout",
     "output_type": "stream",
     "text": [
      "[2. 4. 6. 8.]\n",
      "<class 'numpy.float64'>\n",
      "<class 'numpy.int64'>\n",
      "[2 4 6 8]\n"
     ]
    }
   ],
   "source": [
    "# changing element datatypes in numpy from float to string\n",
    "\n",
    "interval_arr = np.linspace(2,8, num=4)\n",
    "print(interval_arr)\n",
    "\n",
    "print(type(interval_arr[0]))\n",
    "\n",
    "interval_arr = interval_arr.astype('int64')\n",
    "\n",
    "print(type(interval_arr[0]))\n",
    "\n",
    "print(interval_arr)\n",
    "\n",
    "#Get type using type\n"
   ]
  },
  {
   "cell_type": "markdown",
   "metadata": {},
   "source": [
    "### Indexing and Slicing"
   ]
  },
  {
   "cell_type": "markdown",
   "metadata": {},
   "source": [
    "<ol>\n",
    "<li> An important concept to understand before going into array indexing is <b>axis of array</b>. Axis can be derived from shape of an array.\n",
    "    <br> </br> </li>\n",
    "<li> The $i^{th}$ element in shape() function returns the length of the corresponding axis and all the array operations are performed along that specified axis.\n",
    "    <br> </br> </li>\n",
    "  </ol>"
   ]
  },
  {
   "cell_type": "markdown",
   "metadata": {},
   "source": [
    "Slicing: Similar to Python lists, numpy arrays can be sliced. Since arrays may be multidimensional, you must specify a **slice** or **integer** indexing for each dimension/axis of the array"
   ]
  },
  {
   "cell_type": "code",
   "execution_count": 37,
   "metadata": {},
   "outputs": [
    {
     "name": "stdout",
     "output_type": "stream",
     "text": [
      "original array is \n",
      "[[ 1  2  3  4]\n",
      " [ 5  6  7  8]\n",
      " [ 9 10 11 12]]\n",
      "\n",
      "Subarray till 2nd row and 2nd to 3rd columns \n",
      "[[6 7]]\n",
      "\n"
     ]
    }
   ],
   "source": [
    "#Already covered in list, FOCUS ON AXIS\n",
    "\n",
    "arr = np.array([[1,2,3,4], [5,6,7,8], [9,10,11,12]])\n",
    "\n",
    "print(\"original array is \\n{}\\n\".format(arr))\n",
    "\n",
    "print(\"Subarray till 2nd row and 2nd to 3rd columns \\n{}\\n\".format(arr[1:2, 1:3]))\n"
   ]
  },
  {
   "cell_type": "code",
   "execution_count": 39,
   "metadata": {},
   "outputs": [
    {
     "name": "stdout",
     "output_type": "stream",
     "text": [
      "Last row is \n",
      "[[ 1  2]\n",
      " [ 5  6]\n",
      " [ 9 10]]\n",
      "\n"
     ]
    }
   ],
   "source": [
    "#Mix integer indixing with slice indexing\n",
    "\n",
    "row = arr[:, :-2]\n",
    "print(\"Last row is \\n{}\\n\".format(row))"
   ]
  },
  {
   "cell_type": "markdown",
   "metadata": {},
   "source": [
    "### Shape and Size"
   ]
  },
  {
   "cell_type": "markdown",
   "metadata": {},
   "source": [
    "<ol>\n",
    "    <li><b>ndarray.shape</b>: Tuple of integers that indicate the number of elements stored along each dimension of the array. If, for example, you have a 2-D array with 2 rows and 3 columns, the shape of your array is (2, 3).\n",
    "        <br> </br> </li>\n",
    "    <li><b>ndarray.ndim</b>: Number of dimensions of the array.\n",
    "        <br> </br> </li>\n",
    "     <li><b>ndarray.size</b>: Total number of elements of the array. This is the product of the elements of the array’s shape.\n",
    "        <br> </br> </li>\n",
    "    </ol>\n"
   ]
  },
  {
   "cell_type": "code",
   "execution_count": 40,
   "metadata": {},
   "outputs": [
    {
     "name": "stdout",
     "output_type": "stream",
     "text": [
      "Number of dimension of array is \n",
      "3\n",
      "\n",
      "Total number of elements in the array are \n",
      "24\n",
      "\n",
      "Shape of the array is \n",
      "(3, 2, 4)\n",
      " \n"
     ]
    }
   ],
   "source": [
    "arr = np.array([[[0, 1, 2, 3],\n",
    "                 [4, 5, 6, 7]],\n",
    "                [[0, 1, 2, 3],\n",
    "                 [4, 5, 6, 7]],\n",
    "                [[0 ,1 ,2, 3],\n",
    "                 [4, 5, 6, 7]]])\n",
    "\n",
    "print(\"Number of dimension of array is \\n{}\\n\".format(arr.ndim))\n",
    "print(\"Total number of elements in the array are \\n{}\\n\".format(arr.size))\n",
    "print(\"Shape of the array is \\n{}\\n \".format(arr.shape))\n"
   ]
  },
  {
   "cell_type": "markdown",
   "metadata": {},
   "source": [
    "### Array resizing"
   ]
  },
  {
   "cell_type": "code",
   "execution_count": 42,
   "metadata": {},
   "outputs": [
    {
     "name": "stdout",
     "output_type": "stream",
     "text": [
      "original array is \n",
      "[[[0 1 2 3]\n",
      "  [4 5 6 7]]\n",
      "\n",
      " [[0 1 2 3]\n",
      "  [4 5 6 7]]\n",
      "\n",
      " [[0 1 2 3]\n",
      "  [4 5 6 7]]]\n",
      "\n",
      "Flattened array is \n",
      "[0 1 2 3 4 5 6 7 0 1 2 3 4 5 6 7 0 1 2 3 4 5 6 7]\n",
      "\n",
      "(3, 2, 4)\n"
     ]
    }
   ],
   "source": [
    "# Flatten an array using np.ravel()\n",
    "\n",
    "print(\"original array is \\n{}\\n\".format(arr))\n",
    "print(\"Flattened array is \\n{}\\n\".format(np.ravel(arr)))\n",
    "print(arr.shape)"
   ]
  },
  {
   "cell_type": "markdown",
   "metadata": {},
   "source": [
    "**Note:** You can think of reshaping as first raveling the array (using the given index order), then inserting the elements from the raveled array into the new array using the same kind of index ordering as was used for the raveling."
   ]
  },
  {
   "cell_type": "code",
   "execution_count": 43,
   "metadata": {},
   "outputs": [
    {
     "name": "stdout",
     "output_type": "stream",
     "text": [
      "Reshaped array with same number of elements as original \n",
      "[[0 1 2 3 4 5]\n",
      " [6 7 0 1 2 3]\n",
      " [4 5 6 7 0 1]\n",
      " [2 3 4 5 6 7]]\n",
      "\n",
      "Reshaped array with less number of elements as original \n",
      "[[0 1 2]\n",
      " [3 4 5]]\n",
      "\n",
      "Reshaped array with more number of elements as original \n",
      "[[0 1 2 3 4 5]\n",
      " [6 7 0 1 2 3]\n",
      " [4 5 6 7 0 1]\n",
      " [2 3 4 5 6 7]\n",
      " [0 1 2 3 4 5]\n",
      " [6 7 0 1 2 3]\n",
      " [4 5 6 7 0 1]\n",
      " [2 3 4 5 6 7]\n",
      " [0 1 2 3 4 5]\n",
      " [6 7 0 1 2 3]]\n",
      "\n"
     ]
    }
   ],
   "source": [
    "# np.resize internally calls np.reshape (in place operation) and returns reshaped copy of the array\n",
    "\n",
    "print(\"Reshaped array with same number of elements as original \\n{}\\n\".format(np.resize(arr,(4,6))))\n",
    "\n",
    "print(\"Reshaped array with less number of elements as original \\n{}\\n\".format(np.resize(arr,(2,3))))\n",
    "\n",
    "print(\"Reshaped array with more number of elements as original \\n{}\\n\".format(np.resize(arr,(10,6))))\n"
   ]
  },
  {
   "cell_type": "code",
   "execution_count": 44,
   "metadata": {},
   "outputs": [
    {
     "name": "stdout",
     "output_type": "stream",
     "text": [
      "array is \n",
      "[[0 1 2]\n",
      " [3 4 5]]\n",
      "\n",
      "Transpose the array is \n",
      "[[0 3]\n",
      " [1 4]\n",
      " [2 5]]\n",
      "\n",
      "Transpose the array is \n",
      "[[0 3]\n",
      " [1 4]\n",
      " [2 5]]\n",
      "\n"
     ]
    }
   ],
   "source": [
    "# Transpose is another resizing operation performed using np.Transpose or .T \n",
    "\n",
    "arr = np.arange(6).reshape((2,3))\n",
    "\n",
    "print(\"array is \\n{}\\n\".format(arr))\n",
    "\n",
    "print(\"Transpose the array is \\n{}\\n\".format(np.transpose(arr)))\n",
    "\n",
    "print(\"Transpose the array is \\n{}\\n\".format(arr.T))\n"
   ]
  },
  {
   "cell_type": "markdown",
   "metadata": {},
   "source": [
    "# Arthimetic Operation"
   ]
  },
  {
   "cell_type": "markdown",
   "metadata": {},
   "source": [
    "<ol>\n",
    "<li>Addition\n",
    "    <br> </br> </li>\n",
    "<li>Array concatination\n",
    "    <br> </br> </li>\n",
    "<li>Subtraction\n",
    "    <br> </br> </li>\n",
    "<li>Multiplication\n",
    "    <br> </br> </li>\n",
    "<li>Division\n",
    "    <br> </br> </li>\n",
    "    </ol>"
   ]
  },
  {
   "cell_type": "code",
   "execution_count": 45,
   "metadata": {},
   "outputs": [
    {
     "name": "stdout",
     "output_type": "stream",
     "text": [
      "(2, 3)\n",
      "[[1 2 3]\n",
      " [4 5 6]]\n"
     ]
    }
   ],
   "source": [
    "# Shape of an array\n",
    "\n",
    "x = np.array([[1, 2, 3], [4, 5, 6]])\n",
    "\n",
    "print(x.shape)\n",
    "print(x)"
   ]
  },
  {
   "cell_type": "markdown",
   "metadata": {},
   "source": [
    "Axis 0 has length 2 and axis 1 has length 3 <to put in more intuitive details>\n",
    "    \n",
    "1. The default axis for array operations is 0 unless otherwise stated in the function defintion\n",
    "2. **axis=-1** represents the last axis of an array."
   ]
  },
  {
   "cell_type": "code",
   "execution_count": 46,
   "metadata": {},
   "outputs": [
    {
     "name": "stdout",
     "output_type": "stream",
     "text": [
      "x is \n",
      "[[1 2]\n",
      " [3 4]]\n",
      "\n",
      "y is \n",
      "[[ 5  6]\n",
      " [10 11]]\n",
      "\n",
      "x+y is \n",
      "[[ 6  8]\n",
      " [13 15]]\n"
     ]
    }
   ],
   "source": [
    "# Arthimetic addition of arrays can be performed by simple addition if all the arrays are of same length.\n",
    "\n",
    "x = np.array([[1, 2], [3, 4]])\n",
    "y = np.array([[5, 6],[10,11]])\n",
    "\n",
    "print(\"x is \\n{}\\n\".format(x))\n",
    "print(\"y is \\n{}\\n\".format(y))\n",
    "print(\"x+y is \\n{}\".format(x+y))\n",
    "\n"
   ]
  },
  {
   "cell_type": "code",
   "execution_count": 47,
   "metadata": {},
   "outputs": [
    {
     "ename": "ValueError",
     "evalue": "operands could not be broadcast together with shapes (2,2) (3,) ",
     "output_type": "error",
     "traceback": [
      "\u001b[0;31m---------------------------------------------------------------------------\u001b[0m",
      "\u001b[0;31mValueError\u001b[0m                                Traceback (most recent call last)",
      "\u001b[0;32m<ipython-input-47-4c1f027924cf>\u001b[0m in \u001b[0;36m<module>\u001b[0;34m\u001b[0m\n\u001b[1;32m      1\u001b[0m \u001b[0;31m#If arrays are of differnt shape the addition will fail\u001b[0m\u001b[0;34m\u001b[0m\u001b[0;34m\u001b[0m\u001b[0;34m\u001b[0m\u001b[0m\n\u001b[1;32m      2\u001b[0m \u001b[0;34m\u001b[0m\u001b[0m\n\u001b[0;32m----> 3\u001b[0;31m \u001b[0mprint\u001b[0m\u001b[0;34m(\u001b[0m\u001b[0mnp\u001b[0m\u001b[0;34m.\u001b[0m\u001b[0marray\u001b[0m\u001b[0;34m(\u001b[0m\u001b[0;34m[\u001b[0m\u001b[0;34m[\u001b[0m\u001b[0;36m1\u001b[0m\u001b[0;34m,\u001b[0m \u001b[0;36m2\u001b[0m\u001b[0;34m]\u001b[0m\u001b[0;34m,\u001b[0m \u001b[0;34m[\u001b[0m\u001b[0;36m3\u001b[0m\u001b[0;34m,\u001b[0m \u001b[0;36m4\u001b[0m\u001b[0;34m]\u001b[0m\u001b[0;34m]\u001b[0m\u001b[0;34m)\u001b[0m \u001b[0;34m+\u001b[0m \u001b[0mnp\u001b[0m\u001b[0;34m.\u001b[0m\u001b[0marray\u001b[0m\u001b[0;34m(\u001b[0m\u001b[0;34m[\u001b[0m\u001b[0;36m1\u001b[0m\u001b[0;34m,\u001b[0m\u001b[0;36m3\u001b[0m\u001b[0;34m,\u001b[0m\u001b[0;36m4\u001b[0m\u001b[0;34m]\u001b[0m\u001b[0;34m)\u001b[0m\u001b[0;34m)\u001b[0m\u001b[0;34m\u001b[0m\u001b[0;34m\u001b[0m\u001b[0m\n\u001b[0m",
      "\u001b[0;31mValueError\u001b[0m: operands could not be broadcast together with shapes (2,2) (3,) "
     ]
    }
   ],
   "source": [
    "#If arrays are of differnt shape the addition will fail\n",
    "\n",
    "print(np.array([[1, 2], [3, 4]]) + np.array([1,3,4]))\n"
   ]
  },
  {
   "cell_type": "code",
   "execution_count": 48,
   "metadata": {},
   "outputs": [
    {
     "name": "stdout",
     "output_type": "stream",
     "text": [
      "x+y is \n",
      "[[ 6  8]\n",
      " [13 15]]\n"
     ]
    }
   ],
   "source": [
    "# The same can be achieved by np.add function\n",
    "\n",
    "print(\"x+y is \\n{}\".format(np.add(x,y)))\n"
   ]
  },
  {
   "cell_type": "markdown",
   "metadata": {},
   "source": [
    "### Array concatination"
   ]
  },
  {
   "cell_type": "code",
   "execution_count": 51,
   "metadata": {},
   "outputs": [
    {
     "name": "stdout",
     "output_type": "stream",
     "text": [
      "x is \n",
      "[[1 2]\n",
      " [3 4]]\n",
      "\n",
      "y is \n",
      "[[ 5  6]\n",
      " [10 11]]\n",
      "\n",
      "x+y along axis 0 is \n",
      "[[ 1  2  5  6]\n",
      " [ 3  4 10 11]]\n"
     ]
    }
   ],
   "source": [
    "# Adding using concatenation along 0th axis\n",
    "\n",
    "\n",
    "print(\"x is \\n{}\\n\".format(x))\n",
    "print(\"y is \\n{}\\n\".format(y))\n",
    "print(\"x+y along axis 0 is \\n{}\".format(np.concatenate((x, y), axis=1)))\n",
    "\n",
    "# The same can be achieved without providing axis argument"
   ]
  },
  {
   "cell_type": "code",
   "execution_count": 68,
   "metadata": {},
   "outputs": [
    {
     "name": "stdout",
     "output_type": "stream",
     "text": [
      "x+y along axis 1 is \n",
      "[[ 1  2  5  6]\n",
      " [ 3  4 10 11]]\n"
     ]
    }
   ],
   "source": [
    "print(\"x+y along axis 1 is \\n{}\".format(np.concatenate((x, y), axis=-1)))\n",
    "\n",
    "# The same can be achieved by providing axis=1"
   ]
  },
  {
   "cell_type": "markdown",
   "metadata": {},
   "source": [
    "### Subtraction"
   ]
  },
  {
   "cell_type": "code",
   "execution_count": 69,
   "metadata": {},
   "outputs": [
    {
     "name": "stdout",
     "output_type": "stream",
     "text": [
      "x-y is \n",
      "[[-4 -4]\n",
      " [-7 -7]]\n",
      "\n",
      "x-y is \n",
      "[[-4 -4]\n",
      " [-7 -7]]\n",
      "\n"
     ]
    }
   ],
   "source": [
    "# Either subtract directly or use np.subtract\n",
    "\n",
    "print(\"x-y is \\n{}\\n\".format(x - y))\n",
    "\n",
    "print(\"x-y is \\n{}\\n\".format(np.subtract(x, y)))\n"
   ]
  },
  {
   "cell_type": "markdown",
   "metadata": {},
   "source": [
    "### Multiplication"
   ]
  },
  {
   "cell_type": "code",
   "execution_count": 53,
   "metadata": {},
   "outputs": [
    {
     "name": "stdout",
     "output_type": "stream",
     "text": [
      "[[1 2]\n",
      " [3 4]]\n",
      "\n",
      "\n",
      "[[ 5  6]\n",
      " [10 11]]\n",
      "Elementwise product is \n",
      "[[ 5 12]\n",
      " [30 44]]\n",
      "\n",
      "Elementwise product is \n",
      "[[ 5 12]\n",
      " [30 44]]\n",
      "\n"
     ]
    }
   ],
   "source": [
    "# Hardmond or elementwise product. Either multiply or use np.multiply\n",
    "\n",
    "print(x)\n",
    "print('\\n')\n",
    "print(y)\n",
    "print(\"Elementwise product is \\n{}\\n\".format(x * y))\n",
    "\n",
    "print(\"Elementwise product is \\n{}\\n\".format(np.multiply(x, y)))\n"
   ]
  },
  {
   "cell_type": "code",
   "execution_count": 66,
   "metadata": {},
   "outputs": [
    {
     "name": "stdout",
     "output_type": "stream",
     "text": [
      "Matrix multiplication \n",
      "[[25 28]\n",
      " [55 62]]\n",
      "\n"
     ]
    }
   ],
   "source": [
    "# Dot Product can be done by np.dot \n",
    "\n",
    "\n",
    "print(\"Matrix multiplication \\n{}\\n\".format(np.dot(x,y)))"
   ]
  },
  {
   "cell_type": "code",
   "execution_count": 64,
   "metadata": {},
   "outputs": [
    {
     "name": "stdout",
     "output_type": "stream",
     "text": [
      "(2, 1)\n",
      "x is \n",
      "[[1 2]\n",
      " [3 4]]\n",
      "\n",
      "vec is \n",
      "[[ 9]\n",
      " [10]]\n",
      "\n",
      "Matrix and vector multiplication \n",
      "[[29]\n",
      " [67]]\n",
      "\n"
     ]
    }
   ],
   "source": [
    "# same can be performed with a vector\n",
    "vec = np.array([9,10]).reshape(2,1)\n",
    "\n",
    "print(vec.shape)\n",
    "\n",
    "\n",
    "print(\"x is \\n{}\\n\".format(x))\n",
    "print(\"vec is \\n{}\\n\".format(vec))\n",
    "\n",
    "print(\"Matrix and vector multiplication \\n{}\\n\".format(np.dot(x, vec)))\n",
    "\n",
    "#np.matmul is a similar function with few differences"
   ]
  },
  {
   "cell_type": "markdown",
   "metadata": {},
   "source": [
    "### Division"
   ]
  },
  {
   "cell_type": "code",
   "execution_count": 54,
   "metadata": {},
   "outputs": [
    {
     "name": "stdout",
     "output_type": "stream",
     "text": [
      "Elementwise product is \n",
      "[[5.         3.        ]\n",
      " [3.33333333 2.75      ]]\n",
      "\n",
      "Elementwise product is \n",
      "[[5.         3.        ]\n",
      " [3.33333333 2.75      ]]\n",
      "\n"
     ]
    }
   ],
   "source": [
    "# Either divide directly or use np.divide\n",
    "\n",
    "print(\"Elementwise product is \\n{}\\n\".format(y / x))\n",
    "print(\"Elementwise product is \\n{}\\n\".format(np.divide(y, x)))\n"
   ]
  },
  {
   "cell_type": "code",
   "execution_count": 16,
   "metadata": {},
   "outputs": [
    {
     "name": "stdout",
     "output_type": "stream",
     "text": [
      "Elementwise product is \n",
      "[[5 3]\n",
      " [3 2]]\n",
      "\n"
     ]
    }
   ],
   "source": [
    "# Alternatively you can round off the numbers in division using:\n",
    "\n",
    "print(\"Elementwise product is \\n{}\\n\".format(y // x))\n"
   ]
  },
  {
   "cell_type": "markdown",
   "metadata": {},
   "source": [
    "# Broadcasting"
   ]
  },
  {
   "cell_type": "markdown",
   "metadata": {},
   "source": [
    "Broadcasting is a powerful mechanism that allows numpy to work with arrays of different shapes when performing arithmetic operations. Frequently we have a smaller array and a larger array, and we want to use the smaller array multiple times to perform some operation on the larger array.\n",
    "\n",
    "**Definition:** Subject to certain constraints, the smaller array is broadcast/repeated across the larger array so that they have compatible shapes. <b>Broadcasting provides a means of vectorizing array operations so that looping occurs in C instead of Python</b>. It does this without making needless copies of data and usually leads to efficient algorithm implementations\n"
   ]
  },
  {
   "cell_type": "markdown",
   "metadata": {},
   "source": [
    "For example, suppose that we want to add a constant vector to each row of a matrix. We could do it like this:\n"
   ]
  },
  {
   "cell_type": "code",
   "execution_count": 62,
   "metadata": {},
   "outputs": [
    {
     "name": "stdout",
     "output_type": "stream",
     "text": [
      "[[1 0 1]\n",
      " [1 0 1]\n",
      " [1 0 1]\n",
      " [1 0 1]] \n",
      " (4, 3)\n",
      "[[ 2  2  4]\n",
      " [ 5  5  7]\n",
      " [ 8  8 10]\n",
      " [11 11 13]] \n",
      " (4, 3)\n"
     ]
    }
   ],
   "source": [
    "'''\n",
    "Adding the vector v to each row of the matrix x is equivalent to forming a matrix vv by stacking multiple copies of v vertically, \n",
    "then performing elementwise summation of x and vv. We could implement this approach like this:\n",
    "\n",
    "'''\n",
    "x = np.array([[1,2,3], [4,5,6], [7,8,9], [10, 11, 12]])\n",
    "v = np.array([1, 0, 1])\n",
    "y = np.empty_like(x)   # Create an empty matrix with the same shape as x\n",
    "\n",
    "vv = np.tile(v, (4, 1))   # Stack 4 copies of v on top of each other\n",
    "print(vv, '\\n', vv.shape)                 \n",
    "\n",
    "y = x + vv  # Add x and vv elementwise\n",
    "print(y, '\\n', y.shape)  \n"
   ]
  },
  {
   "cell_type": "code",
   "execution_count": 19,
   "metadata": {},
   "outputs": [
    {
     "name": "stdout",
     "output_type": "stream",
     "text": [
      "[[ 2  2  4]\n",
      " [ 5  5  7]\n",
      " [ 8  8 10]\n",
      " [11 11 13]]\n"
     ]
    }
   ],
   "source": [
    "# Broadcasting allows us to perform this computation without actually creating multiple copies of v.\n",
    "#Hence, using broadcasting:\n",
    "\n",
    "x = np.array([[1,2,3], [4,5,6], [7,8,9], [10, 11, 12]])\n",
    "v = np.array([1, 0, 1])\n",
    "y = x + v  # Add v to each row of x using broadcasting\n",
    "print(y)\n"
   ]
  },
  {
   "cell_type": "markdown",
   "metadata": {},
   "source": [
    "**Note**: When operating on two arrays, NumPy compares their shapes element-wise. It starts with the trailing dimensions and works its way forward. Two dimensions are compatible when\n",
    "\n",
    "1. they are equal, or\n",
    "\n",
    "2. one of them is 1\n",
    "\n",
    "If these conditions are not met, a ValueError: operands could not be broadcast together exception is thrown, indicating that the arrays have incompatible shapes. The size of the resulting array is the size that is not 1 along each axis of the inputs.\n"
   ]
  },
  {
   "cell_type": "markdown",
   "metadata": {},
   "source": [
    "Functions that support broadcasting are called **universal functions**. A list of such functions are available at: https://numpy.org/doc/stable/reference/ufuncs.html#available-ufuncs"
   ]
  },
  {
   "cell_type": "markdown",
   "metadata": {},
   "source": [
    "# Deletion, Sorting and Conditionals in arrays"
   ]
  },
  {
   "cell_type": "markdown",
   "metadata": {},
   "source": [
    "### Deletion"
   ]
  },
  {
   "cell_type": "code",
   "execution_count": 63,
   "metadata": {},
   "outputs": [
    {
     "name": "stdout",
     "output_type": "stream",
     "text": [
      "original array is \n",
      " [[ 1  2  3  4]\n",
      " [ 5  6  7  8]\n",
      " [ 9 10 11 12]]\n",
      "\n",
      "deleting 2nd item along column \n",
      "[[ 1  2  4]\n",
      " [ 5  6  8]\n",
      " [ 9 10 12]]\n",
      "\n",
      "deleting 2nd item along row \n",
      "[[1 2 3 4]\n",
      " [5 6 7 8]]\n",
      "\n"
     ]
    }
   ],
   "source": [
    "#Using np.delete\n",
    "\n",
    "arr = np.array([[1,2,3,4], [5,6,7,8], [9,10,11,12]])\n",
    "\n",
    "print(\"original array is \\n {}\\n\".format(arr))\n",
    "\n",
    "print(\"deleting 2nd item along column \\n{}\\n\".format(np.delete(arr, 2, 1)))\n",
    "\n",
    "print(\"deleting 2nd item along row \\n{}\\n\".format(np.delete(arr, 2, 0)))\n"
   ]
  },
  {
   "cell_type": "markdown",
   "metadata": {},
   "source": [
    "### Sorting"
   ]
  },
  {
   "cell_type": "code",
   "execution_count": 64,
   "metadata": {},
   "outputs": [
    {
     "name": "stdout",
     "output_type": "stream",
     "text": [
      "orginal array is \n",
      "[[4 1]\n",
      " [3 2]\n",
      " [2 0]]\n",
      "\n",
      "Sorted along the last axis \n",
      "[[1 4]\n",
      " [2 3]\n",
      " [0 2]]\n",
      "\n",
      "Sorted along the first axis \n",
      "[[2 0]\n",
      " [3 1]\n",
      " [4 2]]\n",
      "\n",
      "Sorted the flattened array \n",
      "[0 1 2 2 3 4]\n",
      "\n"
     ]
    }
   ],
   "source": [
    "#Use np.sort \n",
    "\n",
    "arr = np.array([[4,1],[3,2],[2,0]])\n",
    "print(\"orginal array is \\n{}\\n\".format(arr))\n",
    "\n",
    "print(\"Sorted along the last axis \\n{}\\n\".format(np.sort(arr)))    # sort along the last axis\n",
    "\n",
    "print(\"Sorted along the first axis \\n{}\\n\".format(np.sort(arr, axis=0)))    #sort along the first axis\n",
    "\n",
    "\n",
    "print(\"Sorted the flattened array \\n{}\\n\".format(np.sort(arr, axis=None)))     #sort the flattened array\n",
    "\n"
   ]
  },
  {
   "cell_type": "code",
   "execution_count": 65,
   "metadata": {},
   "outputs": [
    {
     "data": {
      "text/plain": [
       "array([(b'Galahad', 1.7, 38), (b'Lancelot', 1.9, 38),\n",
       "       (b'Arthur', 1.8, 41)],\n",
       "      dtype=[('name', 'S10'), ('height', '<f8'), ('age', '<i8')])"
      ]
     },
     "execution_count": 65,
     "metadata": {},
     "output_type": "execute_result"
    }
   ],
   "source": [
    "#Advanced sorting\n",
    "\n",
    "dtype = [('name', 'S10'), ('height', float), ('age', int)]\n",
    "\n",
    "values = [('Arthur', 1.8, 41), ('Lancelot', 1.9, 38),\n",
    "          ('Galahad', 1.7, 38)]\n",
    "\n",
    "a = np.array(values, dtype=dtype)       # create a structured array\n",
    "\n",
    "np.sort(a, order=['age', 'height'])"
   ]
  },
  {
   "cell_type": "code",
   "execution_count": 66,
   "metadata": {},
   "outputs": [
    {
     "name": "stdout",
     "output_type": "stream",
     "text": [
      "orginal array is \n",
      "[[  4   1]\n",
      " [  3  -2]\n",
      " [-12   0]]\n",
      "\n",
      "(array([0, 0, 1]), array([0, 1, 0]))\n",
      "[4 1 3]\n"
     ]
    }
   ],
   "source": [
    "# Conditionals:\n",
    "\n",
    "arr = np.array([[4,1],[3,-2],[-12,0]])\n",
    "print(\"orginal array is \\n{}\\n\".format(arr))\n",
    "\n",
    "ind = np.where(arr>0)\n",
    "print(ind)\n",
    "arr1 = arr[ind]\n",
    "print(arr1)"
   ]
  },
  {
   "cell_type": "markdown",
   "metadata": {},
   "source": [
    "# Reading Assignment"
   ]
  },
  {
   "cell_type": "markdown",
   "metadata": {},
   "source": [
    "### Linear algebra\n",
    "\n",
    "We encourage you to read the documentation of numpy.linalg at https://numpy.org/doc/stable/reference/routines.linalg.html, specially the functions listed below. This will help you in getting comfortable with reading python package documentations and solve some of the questions in assignment"
   ]
  },
  {
   "cell_type": "markdown",
   "metadata": {},
   "source": [
    "<b>numpy.linalg APIs</b>:\n",
    "\n",
    "<ol>\n",
    "<li> linalg.inv\n",
    "    <br> </br> </li>\n",
    "<li> linalg.norm\n",
    "    <br> </br> </li>\n",
    "<li> linalg.eig or linalg.eigs\n",
    "    <br> </br> </li>\n",
    "<li> linalg.trace, np.eye \n",
    "    <br> </br> </li>\n",
    "    </ol>"
   ]
  },
  {
   "cell_type": "markdown",
   "metadata": {},
   "source": [
    "### More Advanced Topic"
   ]
  },
  {
   "cell_type": "markdown",
   "metadata": {},
   "source": [
    "The following topics will be covered in Statistics course\n",
    "<ol>\n",
    "<li><b>Descriptive statistics</b>: Maximum, minimum, sum, mean, product, standard deviation, Argsort, Argmin\n",
    "    <br> </br> </li>\n",
    "<li>Unique, count, square, sqrt\n",
    "    <br> </br> </li>\n",
    "<li>Working with mathematical formulas\n",
    "    <br> </br> </li>\n",
    "<li>Plotting arrays with Matplotlib\n",
    "    <br> </br> </li>\n",
    "    </ol>\n"
   ]
  },
  {
   "cell_type": "code",
   "execution_count": null,
   "metadata": {},
   "outputs": [],
   "source": []
  }
 ],
 "metadata": {
  "kernelspec": {
   "display_name": "Python 3",
   "language": "python",
   "name": "python3"
  },
  "language_info": {
   "codemirror_mode": {
    "name": "ipython",
    "version": 3
   },
   "file_extension": ".py",
   "mimetype": "text/x-python",
   "name": "python",
   "nbconvert_exporter": "python",
   "pygments_lexer": "ipython3",
   "version": "3.8.3"
  }
 },
 "nbformat": 4,
 "nbformat_minor": 4
}
